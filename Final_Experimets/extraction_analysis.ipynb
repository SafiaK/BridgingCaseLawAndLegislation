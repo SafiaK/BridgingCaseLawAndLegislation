{
 "cells": [
  {
   "cell_type": "code",
   "execution_count": 1,
   "id": "142fa567",
   "metadata": {},
   "outputs": [
    {
     "data": {
      "text/html": [
       "<div>\n",
       "<style scoped>\n",
       "    .dataframe tbody tr th:only-of-type {\n",
       "        vertical-align: middle;\n",
       "    }\n",
       "\n",
       "    .dataframe tbody tr th {\n",
       "        vertical-align: top;\n",
       "    }\n",
       "\n",
       "    .dataframe thead th {\n",
       "        text-align: right;\n",
       "    }\n",
       "</style>\n",
       "<table border=\"1\" class=\"dataframe\">\n",
       "  <thead>\n",
       "    <tr style=\"text-align: right;\">\n",
       "      <th></th>\n",
       "      <th>custom_id</th>\n",
       "      <th>para_id</th>\n",
       "      <th>section_id</th>\n",
       "      <th>phrase_index</th>\n",
       "      <th>case_law_excerpt</th>\n",
       "      <th>legislation_excerpt</th>\n",
       "      <th>confidence</th>\n",
       "      <th>reasoning</th>\n",
       "      <th>para_text</th>\n",
       "      <th>section_text</th>\n",
       "      <th>line_number</th>\n",
       "      <th>status</th>\n",
       "    </tr>\n",
       "  </thead>\n",
       "  <tbody>\n",
       "    <tr>\n",
       "      <th>0</th>\n",
       "      <td>request_1</td>\n",
       "      <td>eat_2022_192#para_12</td>\n",
       "      <td>id/ukpga/2010/15_section-60</td>\n",
       "      <td>0</td>\n",
       "      <td>the claimant ticked the relevant box to state ...</td>\n",
       "      <td>A person (A) to whom an application for work i...</td>\n",
       "      <td>High</td>\n",
       "      <td>This paragraph reveals how the employer's acti...</td>\n",
       "      <td>12. In April 2016, the claimant was moved into...</td>\n",
       "      <td>60 Enquiries about disability and health (1) A...</td>\n",
       "      <td>1</td>\n",
       "      <td>SUCCESS</td>\n",
       "    </tr>\n",
       "    <tr>\n",
       "      <th>1</th>\n",
       "      <td>request_1</td>\n",
       "      <td>eat_2022_192#para_12</td>\n",
       "      <td>id/ukpga/2010/15_section-60</td>\n",
       "      <td>0</td>\n",
       "      <td>the claimant ticked the relevant box to state ...</td>\n",
       "      <td>A person (A) to whom an application for work i...</td>\n",
       "      <td>High</td>\n",
       "      <td>Empty extracted_phrases array</td>\n",
       "      <td>12. In April 2016, the claimant was moved into...</td>\n",
       "      <td>60 Enquiries about disability and health (1) A...</td>\n",
       "      <td>1</td>\n",
       "      <td>NO_PHRASES</td>\n",
       "    </tr>\n",
       "  </tbody>\n",
       "</table>\n",
       "</div>"
      ],
      "text/plain": [
       "   custom_id               para_id                   section_id  phrase_index  \\\n",
       "0  request_1  eat_2022_192#para_12  id/ukpga/2010/15_section-60             0   \n",
       "1  request_1  eat_2022_192#para_12  id/ukpga/2010/15_section-60             0   \n",
       "\n",
       "                                    case_law_excerpt  \\\n",
       "0  the claimant ticked the relevant box to state ...   \n",
       "1  the claimant ticked the relevant box to state ...   \n",
       "\n",
       "                                 legislation_excerpt confidence  \\\n",
       "0  A person (A) to whom an application for work i...       High   \n",
       "1  A person (A) to whom an application for work i...       High   \n",
       "\n",
       "                                           reasoning  \\\n",
       "0  This paragraph reveals how the employer's acti...   \n",
       "1                      Empty extracted_phrases array   \n",
       "\n",
       "                                           para_text  \\\n",
       "0  12. In April 2016, the claimant was moved into...   \n",
       "1  12. In April 2016, the claimant was moved into...   \n",
       "\n",
       "                                        section_text  line_number      status  \n",
       "0  60 Enquiries about disability and health (1) A...            1     SUCCESS  \n",
       "1  60 Enquiries about disability and health (1) A...            1  NO_PHRASES  "
      ]
     },
     "execution_count": 1,
     "metadata": {},
     "output_type": "execute_result"
    }
   ],
   "source": [
    "import pandas as pd\n",
    "\n",
    "df_openai = pd.read_csv('../data/final_test/final/reexperiment/fewhot/openai_combined_output.csv')\n",
    "\n",
    "df_openai.columns\n",
    "\n",
    "df_openai.head(2)"
   ]
  },
  {
   "cell_type": "code",
   "execution_count": 2,
   "id": "218b20c9",
   "metadata": {},
   "outputs": [
    {
     "data": {
      "text/plain": [
       "35256"
      ]
     },
     "execution_count": 2,
     "metadata": {},
     "output_type": "execute_result"
    }
   ],
   "source": [
    "len(df_openai)"
   ]
  },
  {
   "cell_type": "code",
   "execution_count": 3,
   "id": "f00a737b",
   "metadata": {},
   "outputs": [],
   "source": [
    "df_openai_Status = df_openai[['custom_id', 'status']].drop_duplicates()"
   ]
  },
  {
   "cell_type": "code",
   "execution_count": 4,
   "id": "b49f0019",
   "metadata": {},
   "outputs": [
    {
     "data": {
      "text/plain": [
       "18004"
      ]
     },
     "execution_count": 4,
     "metadata": {},
     "output_type": "execute_result"
    }
   ],
   "source": [
    "df_openai.custom_id.nunique()"
   ]
  },
  {
   "cell_type": "code",
   "execution_count": 5,
   "id": "c4667fa4",
   "metadata": {},
   "outputs": [],
   "source": [
    "df_openai_redo = pd.read_csv('../data/final_test/final/reexperiment/fewhot/redo-openai_output.csv')\n"
   ]
  },
  {
   "cell_type": "code",
   "execution_count": 6,
   "id": "bd88617b",
   "metadata": {},
   "outputs": [
    {
     "data": {
      "text/plain": [
       "2957"
      ]
     },
     "execution_count": 6,
     "metadata": {},
     "output_type": "execute_result"
    }
   ],
   "source": [
    "df_openai_redo.para_id.nunique()"
   ]
  },
  {
   "cell_type": "code",
   "execution_count": 7,
   "id": "296d8f2d",
   "metadata": {},
   "outputs": [],
   "source": [
    "openai_added_remaining = pd.read_csv('../data/final_test/final/reexperiment/fewhot/redo-regenerated-openai_output.csv')"
   ]
  },
  {
   "cell_type": "code",
   "execution_count": 8,
   "id": "937625c4",
   "metadata": {},
   "outputs": [],
   "source": [
    "df_openai = pd.concat([df_openai, df_openai_redo,openai_added_remaining], ignore_index=True)"
   ]
  },
  {
   "cell_type": "code",
   "execution_count": 9,
   "id": "e738c3ac",
   "metadata": {},
   "outputs": [
    {
     "data": {
      "text/plain": [
       "'A person (A) to whom an application for work is made must not ask about the health of the applicant (B)— (a) before offering work to B, or (b) where A is not in a position to offer work to B, before including B in a pool of applicants from whom A intends (when in a position to do so) to select a person to whom to offer work.'"
      ]
     },
     "execution_count": 9,
     "metadata": {},
     "output_type": "execute_result"
    }
   ],
   "source": [
    "df_openai['legislation_excerpt'].values[0]"
   ]
  },
  {
   "cell_type": "code",
   "execution_count": 10,
   "id": "15d6daca",
   "metadata": {},
   "outputs": [
    {
     "data": {
      "text/plain": [
       "\"60 Enquiries about disability and health (1) A person (A) to whom an application for work is made must not ask about the health of the applicant (B)— (a) before offering work to B, or (b) where A is not in a position to offer work to B, before including B in a pool of applicants from whom A intends (when in a position to do so) to select a person to whom to offer work. (2) A contravention of subsection (1) (or a contravention of section 111 or 112 that relates to a contravention of subsection (1)) is enforceable as an unlawful act under Part 1 of the Equality Act 2006 (and, by virtue of section 120(8), is enforceable only by the Commission under that Part). (3) A does not contravene a relevant disability provision merely by asking about B's health; but A's conduct in reliance on information given in response may be a contravention of a relevant disability provision. (4) Subsection (5) applies if B brings proceedings before an employment tribunal on a complaint that A's conduct in reliance on information given in response to a question about B's health is a contravention of a relevant disability provision. (5) In the application of section 136 to the proceedings, the particulars of the complaint are to be treated for the purposes of subsection (2) of that section as facts from which the tribunal could decide that A contravened the provision. (6) This section does not apply to a question that A asks in so far as asking the question is necessary for the purpose of— (a) establishing whether B will be able to comply with a requirement to undergo an assessment or establishing whether a duty to make reasonable adjustments is or will be imposed on A in relation to B in connection with a requirement to undergo an assessment, (b) establishing whether B will be able to carry out a function that is intrinsic to the work concerned, (c) monitoring diversity in the range of persons applying to A for work, (d) taking action to which section 158 would apply if references in that section to persons who share (or do not share) a protected characteristic were references to disabled persons (or persons who are not disabled) and the reference to the characteristic were a reference to disability, or (e) if A applies in relation to the work a requirement to have a particular disability, establishing whether B has that disability. (7) In subsection (6)(b), where A reasonably believes that a duty to make reasonable adjustments would be imposed on A in relation to B in connection with the work, the reference to a function that is intrinsic to the work is to be read as a reference to a function that would be intrinsic to the work once A complied with the duty. (8) Subsection (6)(e) applies only if A shows that, having regard to the nature or context of the work— (a) the requirement is an occupational requirement, and (b) the application of the requirement is a proportionate means of achieving a legitimate aim. (9) “ Work ” means employment, contract work, a position as a partner, a position as a member of an LLP , a pupillage or tenancy, being taken as a devil, membership of a stable, an appointment to a personal or public office, or the provision of an employment service; and the references in subsection (1) to offering a person work are, in relation to contract work, to be read as references to allowing a person to do the work. (10) A reference to offering work is a reference to making a conditional or unconditional offer of work (and, in relation to contract work, is a reference to allowing a person to do the work subject to fulfilment of one or more conditions). (11) The following, so far as relating to discrimination within section 13 because of disability, are relevant disability provisions— (a) section 39(1)(a) or (c); (b) section 41(1)(b); (c) section 44(1)(a) or (c); (d) section 45(1)(a) or (c); (e) section 47(1)(a) or (c); (f) section 48(1)(a) or (c); (g) section 49(3)(a) or (c); (h) section 50(3)(a) or (c); (i) section 51(1); (j) section 55(1)(a) or (c); (k) section 60A(1). (12) An assessment is an interview or other process designed to give an indication of a person's suitability for the work concerned. (13) For the purposes of this section, whether or not a person has a disability is to be regarded as an aspect of that person's health. (14) This section does not apply to anything done for the purpose of vetting applicants for work for reasons of national security.\""
      ]
     },
     "execution_count": 10,
     "metadata": {},
     "output_type": "execute_result"
    }
   ],
   "source": [
    "df_openai['section_text'].values[0]"
   ]
  },
  {
   "cell_type": "code",
   "execution_count": 102,
   "id": "15557c2b",
   "metadata": {},
   "outputs": [],
   "source": [
    "df_openai_new = pd.read_csv('../data/final_test/final/reexperiment/fewhot/11August/redo-gpt-4o-mini_output-combined.csv')"
   ]
  },
  {
   "cell_type": "code",
   "execution_count": 103,
   "id": "ac803425",
   "metadata": {},
   "outputs": [],
   "source": [
    "import re\n",
    "def remove_special_chars(s):\n",
    "    if not isinstance(s, str):\n",
    "        return s\n",
    "    # Remove all non-alphanumeric and non-space characters\n",
    "    return re.sub(r'[^A-Za-z0-9 ]+', '', s)"
   ]
  },
  {
   "cell_type": "code",
   "execution_count": 104,
   "id": "f6c31e1a",
   "metadata": {},
   "outputs": [],
   "source": [
    "\n",
    "def check_valid(row):\n",
    "    #case_ok = str(row.get('case_law_excerpt', '')) in str(row.get('para_text', ''))\n",
    "    legis_ok = str(row.get('legislation_excerpt', '')) in str(row.get('section_text', ''))\n",
    "    if legis_ok:#if case_ok and legis_ok:\n",
    "        return True\n",
    "    cleaned_caselaw_excerpt = remove_special_chars(row.get('case_law_excerpt', ''))\n",
    "    cleaned_legislation_excerpt = remove_special_chars(row.get('legislation_excerpt', ''))\n",
    "    cleaned_para_text = remove_special_chars(row.get('para_text', ''))\n",
    "    cleaned_section_text = remove_special_chars(row.get('section_text', ''))\n",
    "    case_ok = str(cleaned_caselaw_excerpt) in str(cleaned_para_text)\n",
    "    legis_ok = str(cleaned_legislation_excerpt) in str(cleaned_section_text)    \n",
    "    #return case_ok and legis_ok\n",
    "    return legis_ok\n",
    "df_openai['is_valid'] = df_openai.apply(check_valid, axis=1)"
   ]
  },
  {
   "cell_type": "code",
   "execution_count": 105,
   "id": "6a22eb74",
   "metadata": {},
   "outputs": [],
   "source": [
    "df_openai = df_openai[df_openai['is_valid'] == True]"
   ]
  },
  {
   "cell_type": "code",
   "execution_count": 17,
   "id": "ea36e0a0",
   "metadata": {},
   "outputs": [
    {
     "data": {
      "text/plain": [
       "8898"
      ]
     },
     "execution_count": 17,
     "metadata": {},
     "output_type": "execute_result"
    }
   ],
   "source": [
    "df_openai.para_id.nunique()"
   ]
  },
  {
   "cell_type": "code",
   "execution_count": 106,
   "id": "fa9cbef4",
   "metadata": {},
   "outputs": [],
   "source": [
    "df_openai_new['is_valid'] = df_openai_new.apply(check_valid, axis=1)\n",
    "df_openai_new = df_openai_new[df_openai_new['is_valid'] == True]"
   ]
  },
  {
   "cell_type": "code",
   "execution_count": 111,
   "id": "b0852a81",
   "metadata": {},
   "outputs": [
    {
     "name": "stdout",
     "output_type": "stream",
     "text": [
      "Number of para_ids with at least one High entry: 7701\n"
     ]
    }
   ],
   "source": [
    "#How many of the para_id atleast got one valid entry?\n",
    "# Count unique para_ids where is_valid is True\n",
    "High_ids = df_openai_new[df_openai_new['confidence'] == 'High']['para_id'].nunique()\n",
    "print(f\"Number of para_ids with at least one High entry: {High_ids}\")\n",
    "\n"
   ]
  },
  {
   "cell_type": "code",
   "execution_count": 20,
   "id": "000aea4f",
   "metadata": {},
   "outputs": [],
   "source": [
    "#copy the records of para_ids from df_openai to df_openai_new where para_id is not in df_openai_new\n",
    "df_openai_new = pd.concat([df_openai_new, df_openai[~df_openai['para_id'].isin(df_openai_new['para_id'])]], ignore_index=True)"
   ]
  },
  {
   "cell_type": "code",
   "execution_count": 21,
   "id": "c74867c0",
   "metadata": {},
   "outputs": [
    {
     "data": {
      "text/plain": [
       "8986"
      ]
     },
     "execution_count": 21,
     "metadata": {},
     "output_type": "execute_result"
    }
   ],
   "source": [
    "df_openai_new.para_id.nunique()"
   ]
  },
  {
   "cell_type": "code",
   "execution_count": 1,
   "id": "4a53c4b4",
   "metadata": {},
   "outputs": [
    {
     "data": {
      "text/html": [
       "<div>\n",
       "<style scoped>\n",
       "    .dataframe tbody tr th:only-of-type {\n",
       "        vertical-align: middle;\n",
       "    }\n",
       "\n",
       "    .dataframe tbody tr th {\n",
       "        vertical-align: top;\n",
       "    }\n",
       "\n",
       "    .dataframe thead th {\n",
       "        text-align: right;\n",
       "    }\n",
       "</style>\n",
       "<table border=\"1\" class=\"dataframe\">\n",
       "  <thead>\n",
       "    <tr style=\"text-align: right;\">\n",
       "      <th></th>\n",
       "      <th>custom_id</th>\n",
       "      <th>para_id</th>\n",
       "      <th>section_id</th>\n",
       "      <th>phrase_index</th>\n",
       "      <th>case_law_excerpt</th>\n",
       "      <th>legislation_excerpt</th>\n",
       "      <th>confidence</th>\n",
       "      <th>reasoning</th>\n",
       "      <th>para_text</th>\n",
       "      <th>section_text</th>\n",
       "      <th>line_number</th>\n",
       "      <th>status</th>\n",
       "    </tr>\n",
       "  </thead>\n",
       "  <tbody>\n",
       "    <tr>\n",
       "      <th>0</th>\n",
       "      <td>request_3</td>\n",
       "      <td>eat_2022_192#para_18</td>\n",
       "      <td>id/ukpga/2010/15_section-60</td>\n",
       "      <td>0</td>\n",
       "      <td>the claimant was referred to occupational heal...</td>\n",
       "      <td>A person (A) to whom an application for work i...</td>\n",
       "      <td>Low</td>\n",
       "      <td>The case law discusses an assessment that incl...</td>\n",
       "      <td>18. Subsequently, the claimant was referred to...</td>\n",
       "      <td>60 Enquiries about disability and health (1) A...</td>\n",
       "      <td>1</td>\n",
       "      <td>SUCCESS</td>\n",
       "    </tr>\n",
       "    <tr>\n",
       "      <th>1</th>\n",
       "      <td>request_3</td>\n",
       "      <td>eat_2022_192#para_18</td>\n",
       "      <td>id/ukpga/2010/15_section-60</td>\n",
       "      <td>0</td>\n",
       "      <td>the claimant was referred to occupational heal...</td>\n",
       "      <td>A person (A) to whom an application for work i...</td>\n",
       "      <td>Low</td>\n",
       "      <td>Empty extracted_phrases array</td>\n",
       "      <td>18. Subsequently, the claimant was referred to...</td>\n",
       "      <td>60 Enquiries about disability and health (1) A...</td>\n",
       "      <td>1</td>\n",
       "      <td>NO_PHRASES</td>\n",
       "    </tr>\n",
       "  </tbody>\n",
       "</table>\n",
       "</div>"
      ],
      "text/plain": [
       "   custom_id               para_id                   section_id  phrase_index  \\\n",
       "0  request_3  eat_2022_192#para_18  id/ukpga/2010/15_section-60             0   \n",
       "1  request_3  eat_2022_192#para_18  id/ukpga/2010/15_section-60             0   \n",
       "\n",
       "                                    case_law_excerpt  \\\n",
       "0  the claimant was referred to occupational heal...   \n",
       "1  the claimant was referred to occupational heal...   \n",
       "\n",
       "                                 legislation_excerpt confidence  \\\n",
       "0  A person (A) to whom an application for work i...        Low   \n",
       "1  A person (A) to whom an application for work i...        Low   \n",
       "\n",
       "                                           reasoning  \\\n",
       "0  The case law discusses an assessment that incl...   \n",
       "1                      Empty extracted_phrases array   \n",
       "\n",
       "                                           para_text  \\\n",
       "0  18. Subsequently, the claimant was referred to...   \n",
       "1  18. Subsequently, the claimant was referred to...   \n",
       "\n",
       "                                        section_text  line_number      status  \n",
       "0  60 Enquiries about disability and health (1) A...            1     SUCCESS  \n",
       "1  60 Enquiries about disability and health (1) A...            1  NO_PHRASES  "
      ]
     },
     "execution_count": 1,
     "metadata": {},
     "output_type": "execute_result"
    }
   ],
   "source": [
    "import pandas as pd\n",
    "\n",
    "df_llama = pd.read_csv('../data/final_test/final/reexperiment/fewhot/llama_combined_output.csv')\n",
    "\n",
    "df_llama.columns\n",
    "\n",
    "df_llama.head(2)"
   ]
  },
  {
   "cell_type": "code",
   "execution_count": 2,
   "id": "ca2ad416",
   "metadata": {},
   "outputs": [],
   "source": [
    "df_llama_redo = pd.read_csv('../data/final_test/final/reexperiment/fewhot/redo-llama_output.csv')\n"
   ]
  },
  {
   "cell_type": "code",
   "execution_count": 4,
   "id": "a3b3a703",
   "metadata": {},
   "outputs": [],
   "source": [
    "df_all_llama_remaining_output = pd.read_csv('../data/final_test/final/reexperiment/fewhot/11August/redo_all_llama_remaining_output_extracted.csv')"
   ]
  },
  {
   "cell_type": "code",
   "execution_count": 5,
   "id": "b4e34d51",
   "metadata": {},
   "outputs": [],
   "source": [
    "df_all_llama_remaining_output = df_all_llama_remaining_output[df_all_llama_remaining_output.status == 'SUCCESS']"
   ]
  },
  {
   "cell_type": "code",
   "execution_count": 6,
   "id": "6d50bf6e",
   "metadata": {},
   "outputs": [],
   "source": [
    "df_llama = pd.concat([df_llama, df_llama_redo,df_all_llama_remaining_output], ignore_index=True)"
   ]
  },
  {
   "cell_type": "code",
   "execution_count": 7,
   "id": "86e02ba8",
   "metadata": {},
   "outputs": [
    {
     "data": {
      "text/plain": [
       "confidence\n",
       "High      24854\n",
       "Low       17443\n",
       "Medium      267\n",
       "Name: count, dtype: int64"
      ]
     },
     "execution_count": 7,
     "metadata": {},
     "output_type": "execute_result"
    }
   ],
   "source": [
    "df_llama.confidence.value_counts()"
   ]
  },
  {
   "cell_type": "code",
   "execution_count": 8,
   "id": "f42b3bbe",
   "metadata": {},
   "outputs": [],
   "source": [
    "df_llama = df_llama [df_llama['status'] == 'SUCCESS']"
   ]
  },
  {
   "cell_type": "code",
   "execution_count": 9,
   "id": "6916a52e",
   "metadata": {},
   "outputs": [],
   "source": [
    "df_llama.to_csv('../data/final_test/final/reexperiment/fewhot/11August/llama_combined_output_final.csv', index=False)"
   ]
  },
  {
   "cell_type": "code",
   "execution_count": 172,
   "id": "a3f9b833",
   "metadata": {},
   "outputs": [],
   "source": [
    "df_llama_status = df_llama[['line_number','status']].drop_duplicates()"
   ]
  },
  {
   "cell_type": "code",
   "execution_count": 173,
   "id": "b510861a",
   "metadata": {},
   "outputs": [],
   "source": [
    "df_llama = df_llama[['para_id', 'section_id', 'para_text', 'section_text',\n",
    "       'case_law_excerpt', 'legislation_excerpt', 'confidence', 'reasoning']]"
   ]
  },
  {
   "cell_type": "code",
   "execution_count": 196,
   "id": "7fe694a7",
   "metadata": {},
   "outputs": [
    {
     "data": {
      "text/plain": [
       "8149"
      ]
     },
     "execution_count": 196,
     "metadata": {},
     "output_type": "execute_result"
    }
   ],
   "source": [
    "df_llama['is_valid'] = df_llama.apply(check_valid, axis=1)\n",
    "df_llama = df_llama[df_llama['is_valid'] == True]\n",
    "df_llama.para_id.nunique()"
   ]
  },
  {
   "cell_type": "code",
   "execution_count": 197,
   "id": "2cfa8629",
   "metadata": {},
   "outputs": [
    {
     "name": "stdout",
     "output_type": "stream",
     "text": [
      "Number of para_ids with at least one High entry: 5430\n"
     ]
    }
   ],
   "source": [
    "#How many of the para_id atleast got one valid entry?\n",
    "# Count unique para_ids where is_valid is True\n",
    "df_llama_High_ids = df_llama[df_llama['confidence'] == 'High']['para_id'].nunique()\n",
    "print(f\"Number of para_ids with at least one High entry: {df_llama_High_ids}\")"
   ]
  },
  {
   "cell_type": "code",
   "execution_count": 198,
   "id": "955251ff",
   "metadata": {},
   "outputs": [],
   "source": [
    "df_deepseek = pd.read_csv('../data/final_test/final/reexperiment/fewhot/deepseek_combined_output.csv')"
   ]
  },
  {
   "cell_type": "code",
   "execution_count": 122,
   "id": "ae50fb95",
   "metadata": {},
   "outputs": [
    {
     "data": {
      "text/plain": [
       "18004"
      ]
     },
     "execution_count": 122,
     "metadata": {},
     "output_type": "execute_result"
    }
   ],
   "source": [
    "df_deepseek.custom_id.nunique()"
   ]
  },
  {
   "cell_type": "code",
   "execution_count": 123,
   "id": "f12abb9d",
   "metadata": {},
   "outputs": [
    {
     "data": {
      "text/html": [
       "<div>\n",
       "<style scoped>\n",
       "    .dataframe tbody tr th:only-of-type {\n",
       "        vertical-align: middle;\n",
       "    }\n",
       "\n",
       "    .dataframe tbody tr th {\n",
       "        vertical-align: top;\n",
       "    }\n",
       "\n",
       "    .dataframe thead th {\n",
       "        text-align: right;\n",
       "    }\n",
       "</style>\n",
       "<table border=\"1\" class=\"dataframe\">\n",
       "  <thead>\n",
       "    <tr style=\"text-align: right;\">\n",
       "      <th></th>\n",
       "      <th>custom_id</th>\n",
       "      <th>para_id</th>\n",
       "      <th>section_id</th>\n",
       "      <th>phrase_index</th>\n",
       "      <th>case_law_excerpt</th>\n",
       "      <th>legislation_excerpt</th>\n",
       "      <th>confidence</th>\n",
       "      <th>reasoning</th>\n",
       "      <th>para_text</th>\n",
       "      <th>section_text</th>\n",
       "      <th>line_number</th>\n",
       "      <th>status</th>\n",
       "    </tr>\n",
       "  </thead>\n",
       "  <tbody>\n",
       "    <tr>\n",
       "      <th>0</th>\n",
       "      <td>request_31</td>\n",
       "      <td>eat_2022_192#para_5</td>\n",
       "      <td>id/ukpga/2010/15_section-60</td>\n",
       "      <td>0</td>\n",
       "      <td>When addressing the question of disability, th...</td>\n",
       "      <td>A person (A) to whom an application for work i...</td>\n",
       "      <td>High</td>\n",
       "      <td>The case law discusses the tribunal's assessme...</td>\n",
       "      <td>5. When addressing the question of disability,...</td>\n",
       "      <td>60 Enquiries about disability and health (1) A...</td>\n",
       "      <td>1</td>\n",
       "      <td>SUCCESS</td>\n",
       "    </tr>\n",
       "  </tbody>\n",
       "</table>\n",
       "</div>"
      ],
      "text/plain": [
       "    custom_id              para_id                   section_id  phrase_index  \\\n",
       "0  request_31  eat_2022_192#para_5  id/ukpga/2010/15_section-60             0   \n",
       "\n",
       "                                    case_law_excerpt  \\\n",
       "0  When addressing the question of disability, th...   \n",
       "\n",
       "                                 legislation_excerpt confidence  \\\n",
       "0  A person (A) to whom an application for work i...       High   \n",
       "\n",
       "                                           reasoning  \\\n",
       "0  The case law discusses the tribunal's assessme...   \n",
       "\n",
       "                                           para_text  \\\n",
       "0  5. When addressing the question of disability,...   \n",
       "\n",
       "                                        section_text  line_number   status  \n",
       "0  60 Enquiries about disability and health (1) A...            1  SUCCESS  "
      ]
     },
     "execution_count": 123,
     "metadata": {},
     "output_type": "execute_result"
    }
   ],
   "source": [
    "df_deepseek.head(1)"
   ]
  },
  {
   "cell_type": "code",
   "execution_count": 124,
   "id": "bc4122d2",
   "metadata": {},
   "outputs": [
    {
     "data": {
      "text/plain": [
       "33942"
      ]
     },
     "execution_count": 124,
     "metadata": {},
     "output_type": "execute_result"
    }
   ],
   "source": [
    "len(df_deepseek)"
   ]
  },
  {
   "cell_type": "code",
   "execution_count": 199,
   "id": "5c4a694b",
   "metadata": {},
   "outputs": [],
   "source": [
    "df_deepseek_redo = pd.read_csv('../data/final_test/final/reexperiment/fewhot/redo-deepseek_output.csv')\n"
   ]
  },
  {
   "cell_type": "code",
   "execution_count": 126,
   "id": "7f861484",
   "metadata": {},
   "outputs": [],
   "source": [
    "df_deepseek_status = df_deepseek[['line_number', 'status']].drop_duplicates()"
   ]
  },
  {
   "cell_type": "code",
   "execution_count": 191,
   "id": "f5273014",
   "metadata": {},
   "outputs": [],
   "source": [
    "df_all_deepseek_remaining_output = pd.read_csv('../data/final_test/final/reexperiment/fewhot/11August/redo_all_deepseek_remaining_output_extracted.csv')"
   ]
  },
  {
   "cell_type": "code",
   "execution_count": 200,
   "id": "e42fa612",
   "metadata": {},
   "outputs": [],
   "source": [
    "df_deepseek = pd.concat([df_deepseek, df_deepseek_redo,df_all_deepseek_remaining_output], ignore_index=True)"
   ]
  },
  {
   "cell_type": "code",
   "execution_count": 201,
   "id": "f1eedd4f",
   "metadata": {},
   "outputs": [],
   "source": [
    "df_deepseek = df_deepseek[df_deepseek.status == 'SUCCESS']"
   ]
  },
  {
   "cell_type": "code",
   "execution_count": null,
   "id": "e7d2e5a1",
   "metadata": {},
   "outputs": [],
   "source": [
    "df_deepseek.to_csv('../data/final_test/final/reexperiment/fewhot/11August/deepseek_combined_output_final.csv', index=False)"
   ]
  },
  {
   "cell_type": "code",
   "execution_count": 130,
   "id": "8022f992",
   "metadata": {},
   "outputs": [
    {
     "data": {
      "text/plain": [
       "8867"
      ]
     },
     "execution_count": 130,
     "metadata": {},
     "output_type": "execute_result"
    }
   ],
   "source": [
    "df_deepseek['is_valid'] = df_deepseek.apply(check_valid, axis=1)\n",
    "df_deepseek = df_deepseek[df_deepseek['is_valid'] == True]\n",
    "df_deepseek.para_id.nunique()"
   ]
  },
  {
   "cell_type": "code",
   "execution_count": 132,
   "id": "b0f9f9e8",
   "metadata": {},
   "outputs": [
    {
     "name": "stdout",
     "output_type": "stream",
     "text": [
      "Number of para_ids with at least one High entry: 7111\n"
     ]
    }
   ],
   "source": [
    "#How many of the para_id atleast got one valid entry?\n",
    "# Count unique para_ids where is_valid is True\n",
    "df_deepseek_High_ids = df_deepseek[df_deepseek['confidence'] == 'High']['para_id'].nunique()\n",
    "print(f\"Number of para_ids with at least one High entry: {df_deepseek_High_ids}\")"
   ]
  },
  {
   "cell_type": "code",
   "execution_count": 133,
   "id": "53916fab",
   "metadata": {},
   "outputs": [
    {
     "data": {
      "text/plain": [
       "9001"
      ]
     },
     "execution_count": 133,
     "metadata": {},
     "output_type": "execute_result"
    }
   ],
   "source": [
    "len(set(df_llama.para_id.unique()) | set(df_openai_new.para_id.unique()) | set(df_deepseek.para_id.unique()))"
   ]
  },
  {
   "cell_type": "code",
   "execution_count": 50,
   "id": "715ce121",
   "metadata": {},
   "outputs": [],
   "source": [
    "df_openai = df_openai_new.copy()"
   ]
  },
  {
   "cell_type": "code",
   "execution_count": 143,
   "id": "cca0616f",
   "metadata": {},
   "outputs": [],
   "source": [
    "all_para_section_pairs = set()\n",
    "\n",
    "# Use standard_para_id for OpenAI, para_id for DeepSeek and Llama\n",
    "openai_pairs = set(zip(df_openai['para_id'], df_openai['section_id']))\n",
    "deepseek_pairs = set(zip(df_deepseek['para_id'], df_deepseek['section_id']))\n",
    "llama_pairs = set(zip(df_llama['para_id'], df_llama['section_id']))\n",
    "\n",
    "all_para_section_pairs = openai_pairs | deepseek_pairs | llama_pairs"
   ]
  },
  {
   "cell_type": "code",
   "execution_count": 135,
   "id": "0bf717a1",
   "metadata": {},
   "outputs": [],
   "source": [
    "df_source = pd.read_csv('../data/final_test/final/reexperiment/combined_sourcedf_final_rebuild.csv')"
   ]
  },
  {
   "cell_type": "code",
   "execution_count": 145,
   "id": "9aad415f",
   "metadata": {},
   "outputs": [],
   "source": [
    "source_pairs = set(zip(df_source['para_id'], df_source['section_id']))\n"
   ]
  },
  {
   "cell_type": "code",
   "execution_count": 151,
   "id": "c559b179",
   "metadata": {},
   "outputs": [
    {
     "name": "stdout",
     "output_type": "stream",
     "text": [
      "Number of para_ids with high confidence that exist in source: 5493\n"
     ]
    }
   ],
   "source": [
    "\n",
    "# Filter df_llama for high confidence entries\n",
    "df_llama_high = df_llama[df_llama['confidence'] == 'High']\n",
    "\n",
    "# Get the pairs from high confidence entries\n",
    "llama_high_pairs = set(zip(df_llama_high['para_id'], df_llama_high['section_id']))\n",
    "\n",
    "# Find intersection with source pairs\n",
    "valid_high_pairs_llama = source_pairs.intersection(llama_high_pairs)\n",
    "\n",
    "# Count unique para_ids from the valid pairs\n",
    "df_llama_High_ids = len(set(pair[0] for pair in valid_high_pairs_llama))\n",
    "\n",
    "print(f\"Number of para_ids with high confidence that exist in source: {df_llama_High_ids}\")"
   ]
  },
  {
   "cell_type": "code",
   "execution_count": 152,
   "id": "37eb3bc3",
   "metadata": {},
   "outputs": [
    {
     "name": "stdout",
     "output_type": "stream",
     "text": [
      "Number of para_ids with high confidence that exist in source: 7701\n"
     ]
    }
   ],
   "source": [
    "\n",
    "# Filter df_llama for high confidence entries\n",
    "df_openai_new = df_openai_new[df_openai_new['confidence'] == 'High']\n",
    "\n",
    "# Get the pairs from high confidence entries\n",
    "df_openai_new_pairs = set(zip(df_openai_new['para_id'], df_openai_new['section_id']))\n",
    "\n",
    "# Find intersection with source pairs\n",
    "valid_high_pairs_openai = source_pairs.intersection(df_openai_new_pairs)\n",
    "\n",
    "# Count unique para_ids from the valid pairs\n",
    "df_openai_new_High_ids = len(set(pair[0] for pair in valid_high_pairs_openai))\n",
    "\n",
    "print(f\"Number of para_ids with high confidence that exist in source: {df_openai_new_High_ids}\")"
   ]
  },
  {
   "cell_type": "code",
   "execution_count": 154,
   "id": "11ba405e",
   "metadata": {},
   "outputs": [
    {
     "name": "stdout",
     "output_type": "stream",
     "text": [
      "Number of para_ids with high confidence that exist in source: 7108\n"
     ]
    }
   ],
   "source": [
    "# Filter df_deepseek for high confidence entries\n",
    "df_deepseek = df_deepseek[df_deepseek['confidence'] == 'High']\n",
    "\n",
    "# Get the pairs from high confidence entries\n",
    "df_deepseek_pairs = set(zip(df_deepseek['para_id'], df_deepseek['section_id']))\n",
    "\n",
    "# Find intersection with source pairs\n",
    "valid_high_pairs_deepseek = source_pairs.intersection(df_deepseek_pairs)\n",
    "\n",
    "# Count unique para_ids from the valid pairs\n",
    "df_deepseek_High_ids = len(set(pair[0] for pair in valid_high_pairs_deepseek))\n",
    "\n",
    "print(f\"Number of para_ids with high confidence that exist in source: {df_deepseek_High_ids}\")\n",
    "\n"
   ]
  },
  {
   "cell_type": "code",
   "execution_count": 161,
   "id": "7eddf271",
   "metadata": {},
   "outputs": [
    {
     "data": {
      "text/plain": [
       "6660"
      ]
     },
     "execution_count": 161,
     "metadata": {},
     "output_type": "execute_result"
    }
   ],
   "source": [
    "df_openai_new_High_ids & df_deepseek_High_ids"
   ]
  },
  {
   "cell_type": "code",
   "execution_count": 62,
   "id": "2b51e1f3",
   "metadata": {},
   "outputs": [],
   "source": [
    " #make a df with remaining_llama_pairs from df_source\n",
    "remaining_llama_df = df_source[df_source.apply(lambda row: (row['para_id'], row['section_id']) in remaining_llama_pairs, axis=1)]"
   ]
  },
  {
   "cell_type": "code",
   "execution_count": 64,
   "id": "21595d1c",
   "metadata": {},
   "outputs": [
    {
     "data": {
      "text/plain": [
       "5793"
      ]
     },
     "execution_count": 64,
     "metadata": {},
     "output_type": "execute_result"
    }
   ],
   "source": [
    "len(remaining_llama_df)"
   ]
  },
  {
   "cell_type": "code",
   "execution_count": 66,
   "id": "bee1647c",
   "metadata": {},
   "outputs": [],
   "source": [
    "remaining_openai_pairs = source_pairs - openai_pairs"
   ]
  },
  {
   "cell_type": "code",
   "execution_count": 67,
   "id": "8b07e295",
   "metadata": {},
   "outputs": [],
   "source": [
    "remaining_openai_df = df_source[df_source.apply(lambda row: (row['para_id'], row['section_id']) in remaining_openai_pairs, axis=1)]"
   ]
  },
  {
   "cell_type": "code",
   "execution_count": 68,
   "id": "0ca8ddd2",
   "metadata": {},
   "outputs": [
    {
     "data": {
      "text/plain": [
       "3351"
      ]
     },
     "execution_count": 68,
     "metadata": {},
     "output_type": "execute_result"
    }
   ],
   "source": [
    "len(remaining_openai_df)"
   ]
  },
  {
   "cell_type": "code",
   "execution_count": 69,
   "id": "056e32c9",
   "metadata": {},
   "outputs": [],
   "source": [
    "remaining_openai_df.to_csv('../data/final_test/final/reexperiment/fewhot/redo_remaining_openai_output.csv', index=False)"
   ]
  },
  {
   "cell_type": "code",
   "execution_count": 65,
   "id": "ea4b1e0c",
   "metadata": {},
   "outputs": [],
   "source": [
    "remaining_llama_df.to_csv('../data/final_test/final/reexperiment/fewhot/redo_remaining_llama_output.csv', index=False)"
   ]
  },
  {
   "cell_type": "code",
   "execution_count": 70,
   "id": "8c63cb7e",
   "metadata": {},
   "outputs": [],
   "source": [
    "remaining_deepseek_pairs = source_pairs - deepseek_pairs\n",
    "remaining_deepseek_df = df_source[df_source.apply(lambda row: (row['para_id'], row['section_id']) in remaining_deepseek_pairs, axis=1)]"
   ]
  },
  {
   "cell_type": "code",
   "execution_count": 72,
   "id": "00b17089",
   "metadata": {},
   "outputs": [],
   "source": [
    "remaining_deepseek_df.to_csv('../data/final_test/final/reexperiment/fewhot/redo_remaining_deepseek_output.csv', index=False)"
   ]
  },
  {
   "cell_type": "code",
   "execution_count": 69,
   "id": "063a2661",
   "metadata": {},
   "outputs": [],
   "source": [
    "all_para_section_pairs_valid = all_para_section_pairs & source_pairs"
   ]
  },
  {
   "cell_type": "code",
   "execution_count": 70,
   "id": "18a0ced3",
   "metadata": {},
   "outputs": [
    {
     "data": {
      "text/plain": [
       "17765"
      ]
     },
     "execution_count": 70,
     "metadata": {},
     "output_type": "execute_result"
    }
   ],
   "source": [
    "len(all_para_section_pairs_valid)"
   ]
  },
  {
   "cell_type": "code",
   "execution_count": 71,
   "id": "09bd1acb",
   "metadata": {},
   "outputs": [],
   "source": [
    "all_para_section_pairs = all_para_section_pairs_valid"
   ]
  },
  {
   "cell_type": "code",
   "execution_count": 82,
   "id": "b40868b4",
   "metadata": {},
   "outputs": [
    {
     "data": {
      "text/html": [
       "<div>\n",
       "<style scoped>\n",
       "    .dataframe tbody tr th:only-of-type {\n",
       "        vertical-align: middle;\n",
       "    }\n",
       "\n",
       "    .dataframe tbody tr th {\n",
       "        vertical-align: top;\n",
       "    }\n",
       "\n",
       "    .dataframe thead th {\n",
       "        text-align: right;\n",
       "    }\n",
       "</style>\n",
       "<table border=\"1\" class=\"dataframe\">\n",
       "  <thead>\n",
       "    <tr style=\"text-align: right;\">\n",
       "      <th></th>\n",
       "      <th>para_id</th>\n",
       "      <th>section_id</th>\n",
       "      <th>para_text</th>\n",
       "      <th>section_text</th>\n",
       "      <th>case_term_llama</th>\n",
       "      <th>legislation_term_llama</th>\n",
       "      <th>confidence_llama</th>\n",
       "      <th>reason_llama</th>\n",
       "      <th>case_term_openai</th>\n",
       "      <th>legislation_term_openai</th>\n",
       "      <th>confidence_openai</th>\n",
       "      <th>reason_openai</th>\n",
       "      <th>case_term_deepseek</th>\n",
       "      <th>legislation_term_deepseek</th>\n",
       "      <th>confidence_deepseek</th>\n",
       "      <th>reason_deepseek</th>\n",
       "    </tr>\n",
       "  </thead>\n",
       "  <tbody>\n",
       "    <tr>\n",
       "      <th>0</th>\n",
       "      <td>ewhc_admin_2004_1069#para_12</td>\n",
       "      <td>id/ukpga/1992/12_section-198F</td>\n",
       "      <td>12. As I have said, the obligation of the Reve...</td>\n",
       "      <td>198F Qualification for roll-over relief (1) Th...</td>\n",
       "      <td>the obligation of the Revenue to treat taxpaye...</td>\n",
       "      <td>all the circumstances are to be taken into acc...</td>\n",
       "      <td>Low</td>\n",
       "      <td>The case law excerpt mentions the Revenue's ob...</td>\n",
       "      <td>the obligation of the Revenue to treat taxpaye...</td>\n",
       "      <td>all the circumstances are to be taken into acc...</td>\n",
       "      <td>High</td>\n",
       "      <td>The caselaw discusses the fairness obligation ...</td>\n",
       "      <td>The obligation of the Revenue to treat taxpaye...</td>\n",
       "      <td>This section applies for the purposes of secti...</td>\n",
       "      <td>Low</td>\n",
       "      <td>The case law discusses the obligation of the R...</td>\n",
       "    </tr>\n",
       "    <tr>\n",
       "      <th>1</th>\n",
       "      <td>ewhc_admin_2004_1069#para_12</td>\n",
       "      <td>id/ukpga/1992/12_section-198F</td>\n",
       "      <td>12. As I have said, the obligation of the Reve...</td>\n",
       "      <td>198F Qualification for roll-over relief (1) Th...</td>\n",
       "      <td>the obligation of the Revenue to treat taxpaye...</td>\n",
       "      <td>all the circumstances are to be taken into acc...</td>\n",
       "      <td>Low</td>\n",
       "      <td>Empty extracted_phrases array</td>\n",
       "      <td>the obligation of the Revenue to treat taxpaye...</td>\n",
       "      <td>all the circumstances are to be taken into acc...</td>\n",
       "      <td>High</td>\n",
       "      <td>The caselaw discusses the fairness obligation ...</td>\n",
       "      <td>the obligation of the Revenue to treat taxpaye...</td>\n",
       "      <td>all the circumstances are to be taken into acc...</td>\n",
       "      <td>Low</td>\n",
       "      <td>The judge implies that while the law requires ...</td>\n",
       "    </tr>\n",
       "  </tbody>\n",
       "</table>\n",
       "</div>"
      ],
      "text/plain": [
       "                        para_id                     section_id  \\\n",
       "0  ewhc_admin_2004_1069#para_12  id/ukpga/1992/12_section-198F   \n",
       "1  ewhc_admin_2004_1069#para_12  id/ukpga/1992/12_section-198F   \n",
       "\n",
       "                                           para_text  \\\n",
       "0  12. As I have said, the obligation of the Reve...   \n",
       "1  12. As I have said, the obligation of the Reve...   \n",
       "\n",
       "                                        section_text  \\\n",
       "0  198F Qualification for roll-over relief (1) Th...   \n",
       "1  198F Qualification for roll-over relief (1) Th...   \n",
       "\n",
       "                                     case_term_llama  \\\n",
       "0  the obligation of the Revenue to treat taxpaye...   \n",
       "1  the obligation of the Revenue to treat taxpaye...   \n",
       "\n",
       "                              legislation_term_llama confidence_llama  \\\n",
       "0  all the circumstances are to be taken into acc...              Low   \n",
       "1  all the circumstances are to be taken into acc...              Low   \n",
       "\n",
       "                                        reason_llama  \\\n",
       "0  The case law excerpt mentions the Revenue's ob...   \n",
       "1                      Empty extracted_phrases array   \n",
       "\n",
       "                                    case_term_openai  \\\n",
       "0  the obligation of the Revenue to treat taxpaye...   \n",
       "1  the obligation of the Revenue to treat taxpaye...   \n",
       "\n",
       "                             legislation_term_openai confidence_openai  \\\n",
       "0  all the circumstances are to be taken into acc...              High   \n",
       "1  all the circumstances are to be taken into acc...              High   \n",
       "\n",
       "                                       reason_openai  \\\n",
       "0  The caselaw discusses the fairness obligation ...   \n",
       "1  The caselaw discusses the fairness obligation ...   \n",
       "\n",
       "                                  case_term_deepseek  \\\n",
       "0  The obligation of the Revenue to treat taxpaye...   \n",
       "1  the obligation of the Revenue to treat taxpaye...   \n",
       "\n",
       "                           legislation_term_deepseek confidence_deepseek  \\\n",
       "0  This section applies for the purposes of secti...                 Low   \n",
       "1  all the circumstances are to be taken into acc...                 Low   \n",
       "\n",
       "                                     reason_deepseek  \n",
       "0  The case law discusses the obligation of the R...  \n",
       "1  The judge implies that while the law requires ...  "
      ]
     },
     "execution_count": 82,
     "metadata": {},
     "output_type": "execute_result"
    }
   ],
   "source": [
    "# Helper: get phrase for a model by para_id and section_id\n",
    "def get_model_phrase(df, para_id, section_id, case_term_col, legis_term_col, conf_col, reason_col):\n",
    "    rows = df[(df['para_id'] == para_id) & (df['section_id'] == section_id)]\n",
    "    if not rows.empty:\n",
    "        return (\n",
    "            list(rows[case_term_col]),\n",
    "            list(rows[legis_term_col]),\n",
    "            list(rows[conf_col]),\n",
    "            list(rows[reason_col])\n",
    "        )\n",
    "    return [], [], [], []\n",
    "\n",
    "combined_rows = []\n",
    "for para_id, section_id in all_para_section_pairs:\n",
    "    # Get para_text and section_text from any available model (OpenAI preferred, then DeepSeek, then Llama)\n",
    "    para_text = None\n",
    "    section_text = None\n",
    "\n",
    "    # OpenAI\n",
    "    openai_row = df_openai[(df_openai['para_id'] == para_id) & (df_openai['section_id'] == section_id)]\n",
    "    if not openai_row.empty:\n",
    "        para_text = openai_row.iloc[0]['para_text']\n",
    "        section_text = openai_row.iloc[0]['section_text']\n",
    "    else:\n",
    "        # DeepSeek\n",
    "        deepseek_row = df_deepseek[(df_deepseek['para_id'] == para_id) & (df_deepseek['section_id'] == section_id)]\n",
    "        if not deepseek_row.empty:\n",
    "            para_text = deepseek_row.iloc[0]['para_text']\n",
    "            section_text = deepseek_row.iloc[0]['section_text']\n",
    "        else:\n",
    "            # Llama\n",
    "            llama_row = df_llama[(df_llama['para_id'] == para_id) & (df_llama['section_id'] == section_id)]\n",
    "            if not llama_row.empty:\n",
    "                para_text = llama_row.iloc[0]['para_text']\n",
    "                section_text = llama_row.iloc[0]['section_text']\n",
    "\n",
    "    # Get phrases for each model\n",
    "    case_term_llamas, legislation_term_llamas, confidence_llamas, reason_llamas = get_model_phrase(\n",
    "        df_llama, para_id, section_id, 'case_law_excerpt', 'legislation_excerpt', 'confidence', 'reasoning'\n",
    "    )\n",
    "    case_term_openais, legislation_term_openais, confidence_openais, reason_openais = get_model_phrase(\n",
    "        df_openai, para_id, section_id, 'case_law_excerpt', 'legislation_excerpt', 'confidence', 'reasoning'\n",
    "    )\n",
    "    case_term_deepseeks, legislation_term_deepseeks, confidence_deepseeks, reason_deepseeks = get_model_phrase(\n",
    "        df_deepseek, para_id, section_id, 'case_law_excerpt', 'legislation_excerpt', 'confidence', 'reasoning'\n",
    "    )\n",
    "    # For each model, we now have lists of phrases (not just one value)\n",
    "    # Add a row for each phrase found for each model, or a single row if none found\n",
    "    max_phrases = max(\n",
    "        len(case_term_llamas), len(case_term_openais), len(case_term_deepseeks)\n",
    "    )\n",
    "    # If no phrases found for any model, skip this pair\n",
    "    if max_phrases == 0:\n",
    "        continue\n",
    "    # Pad lists so they are all the same length for zipping\n",
    "    def pad(lst, n):\n",
    "        return lst + [None] * (n - len(lst))\n",
    "    for i in range(max_phrases):\n",
    "        combined_rows.append({\n",
    "            'para_id': para_id,\n",
    "            'section_id': section_id,\n",
    "            'para_text': para_text,\n",
    "            'section_text': section_text,\n",
    "            'case_term_llama': pad(case_term_llamas, max_phrases)[i],\n",
    "            'legislation_term_llama': pad(legislation_term_llamas, max_phrases)[i],\n",
    "            'confidence_llama': pad(confidence_llamas, max_phrases)[i],\n",
    "            'reason_llama': pad(reason_llamas, max_phrases)[i],\n",
    "            'case_term_openai': pad(case_term_openais, max_phrases)[i],\n",
    "            'legislation_term_openai': pad(legislation_term_openais, max_phrases)[i],\n",
    "            'confidence_openai': pad(confidence_openais, max_phrases)[i],\n",
    "            'reason_openai': pad(reason_openais, max_phrases)[i],\n",
    "            'case_term_deepseek': pad(case_term_deepseeks, max_phrases)[i],\n",
    "            'legislation_term_deepseek': pad(legislation_term_deepseeks, max_phrases)[i],\n",
    "            'confidence_deepseek': pad(confidence_deepseeks, max_phrases)[i],\n",
    "            'reason_deepseek': pad(reason_deepseeks, max_phrases)[i]\n",
    "        })\n",
    "\n",
    "df_combined = pd.DataFrame(combined_rows)\n",
    "#df_combined.drop_duplicates(subset=['para_id', 'section_id'], inplace=True)\n",
    "df_combined.head(2)"
   ]
  },
  {
   "cell_type": "code",
   "execution_count": 94,
   "id": "75fe5354",
   "metadata": {},
   "outputs": [],
   "source": [
    "def confidence_convergence(row):\n",
    "    # Convert them to lower case\n",
    "    try:\n",
    "        confidence_deepseek_lower = row['confidence_deepseek'].lower()\n",
    "    except:\n",
    "        confidence_deepseek_lower = \"low\"\n",
    "    try:\n",
    "        confidence_llama_lower = row['confidence_llama'].lower()\n",
    "    except:\n",
    "        confidence_llama_lower = \"low\"\n",
    "    try:    \n",
    "        confidence_openai_lower = row['confidence_openai'].lower()\n",
    "    except:\n",
    "        confidence_openai_lower = \"low\"\n",
    "    \n",
    "    if confidence_deepseek_lower == \"none\":\n",
    "        confidence_deepseek_lower = \"low\"\n",
    "    if confidence_llama_lower == \"none\":\n",
    "        confidence_llama_lower = \"low\"\n",
    "    if confidence_openai_lower == \"none\":\n",
    "        confidence_openai_lower = \"low\"\n",
    "    if confidence_deepseek_lower == \"moderate\":\n",
    "        confidence_deepseek_lower = \"high\"\n",
    "        row['confidence_deepseek'] = \"High\"\n",
    "    if confidence_deepseek_lower == \"medium\":\n",
    "        confidence_deepseek_lower = \"high\"\n",
    "        row['confidence_deepseek'] = \"High\"\n",
    "    if confidence_llama_lower == \"medium\":\n",
    "        confidence_llama_lower = \"high\"\n",
    "        row['confidence_llama'] = \"High\"\n",
    "\n",
    "    # If all of them are \"medium\":\n",
    "    if confidence_deepseek_lower == \"medium\" and confidence_llama_lower == \"medium\" and confidence_openai_lower == \"medium\":\n",
    "        row['confidence_deepseek'] = \"High\"\n",
    "        row['confidence_llama'] = \"High\"\n",
    "        row['confidence_openai'] = \"High\"\n",
    "    \n",
    "    # If one of them is medium and the others are high: make all of them high\n",
    "    elif (confidence_deepseek_lower == \"medium\" and confidence_llama_lower == \"high\" and confidence_openai_lower == \"high\") or \\\n",
    "         (confidence_deepseek_lower == \"high\" and confidence_llama_lower == \"medium\" and confidence_openai_lower == \"high\") or \\\n",
    "         (confidence_deepseek_lower == \"high\" and confidence_llama_lower == \"high\" and confidence_openai_lower == \"medium\"):\n",
    "        row['confidence_deepseek'] = \"High\"\n",
    "        row['confidence_llama'] = \"High\"\n",
    "        row['confidence_openai'] = \"High\"\n",
    "    \n",
    "    # If one of them is medium and others are low: make all of them low\n",
    "    elif (confidence_deepseek_lower == \"medium\" and confidence_llama_lower == \"low\" and confidence_openai_lower == \"low\") or \\\n",
    "         (confidence_deepseek_lower == \"low\" and confidence_llama_lower == \"medium\" and confidence_openai_lower == \"low\") or \\\n",
    "         (confidence_deepseek_lower == \"low\" and confidence_llama_lower == \"low\" and confidence_openai_lower == \"medium\"):\n",
    "        row['confidence_deepseek'] = \"High\"\n",
    "        row['confidence_llama'] = \"High\"\n",
    "        row['confidence_openai'] = \"High\"\n",
    "    \n",
    "    # If two of them are medium and one is low: convert mediums to low\n",
    "    elif (confidence_deepseek_lower == \"medium\" and confidence_llama_lower == \"medium\" and confidence_openai_lower == \"low\"):\n",
    "        row['confidence_deepseek'] = \"High\"\n",
    "        row['confidence_llama'] = \"High\"\n",
    "    elif (confidence_deepseek_lower == \"medium\" and confidence_llama_lower == \"low\" and confidence_openai_lower == \"medium\"):\n",
    "        row['confidence_deepseek'] = \"High\"\n",
    "        row['confidence_openai'] = \"High\"\n",
    "    elif (confidence_deepseek_lower == \"low\" and confidence_llama_lower == \"medium\" and confidence_openai_lower == \"medium\"):\n",
    "        row['confidence_llama'] = \"High\"\n",
    "        row['confidence_openai'] = \"High\"\n",
    "    elif (confidence_openai_lower == \"medium\" and confidence_llama_lower == \"low\" and confidence_openai_lower == \"low\"):\n",
    "        row['confidence_llama'] = \"low\"\n",
    "        row['confidence_deepseek'] = \"low\"\n",
    "        row['confidence_openai'] = \"High\"\n",
    "    \n",
    "    # If two of them are medium and one is high: convert mediums to high\n",
    "    elif (confidence_deepseek_lower == \"medium\" and confidence_llama_lower == \"medium\" and confidence_openai_lower == \"high\"):\n",
    "        row['confidence_deepseek'] = \"High\"\n",
    "        row['confidence_llama'] = \"High\"\n",
    "    elif (confidence_deepseek_lower == \"medium\" and confidence_llama_lower == \"high\" and confidence_openai_lower == \"medium\"):\n",
    "        row['confidence_deepseek'] = \"High\"\n",
    "        row['confidence_openai'] = \"High\"\n",
    "    elif (confidence_deepseek_lower == \"high\" and confidence_llama_lower == \"medium\" and confidence_openai_lower == \"medium\"):\n",
    "        row['confidence_llama'] = \"High\"\n",
    "        row['confidence_openai'] = \"High\"\n",
    "\n",
    "    # If one of them is High, one low and one medium: convert medium to High\n",
    "    elif confidence_llama_lower == \"medium\" and(confidence_deepseek_lower == \"high\"   or confidence_openai_lower == \"high\"):\n",
    "        row['confidence_llama'] = \"High\"  # Fixed: was row['confidence_llama_lower']\n",
    "    elif (confidence_deepseek_lower == \"medium\" or confidence_deepseek_lower == \"medium-high\" ) and (confidence_llama_lower == \"high\" or confidence_openai_lower == \"high\"):\n",
    "        row['confidence_deepseek'] = \"High\"\n",
    "    elif confidence_openai_lower == \"medium\" and (confidence_deepseek_lower == \"high\" or confidence_llama_lower == \"high\") :\n",
    "        row['confidence_openai'] = \"High\"\n",
    "    \n",
    "    # For all other cases (all high, all low, or high/low combinations without medium)\n",
    "    else:\n",
    "        \n",
    "        pass  # Keep original values\n",
    "        \n",
    "    return row"
   ]
  },
  {
   "cell_type": "code",
   "execution_count": 95,
   "id": "8f93e874",
   "metadata": {},
   "outputs": [],
   "source": [
    "df_combined = df_combined.apply(confidence_convergence,axis=1)"
   ]
  },
  {
   "cell_type": "code",
   "execution_count": 83,
   "id": "fba1c44c",
   "metadata": {},
   "outputs": [
    {
     "data": {
      "text/plain": [
       "confidence_openai\n",
       "High    24782\n",
       "Low      4930\n",
       "Name: count, dtype: int64"
      ]
     },
     "execution_count": 83,
     "metadata": {},
     "output_type": "execute_result"
    }
   ],
   "source": [
    "df_combined.confidence_openai.value_counts()"
   ]
  },
  {
   "cell_type": "code",
   "execution_count": 162,
   "id": "d8ae8921",
   "metadata": {},
   "outputs": [],
   "source": [
    "# Iterate over df_combined\n",
    "# rows_for_regenration = []\n",
    "# rows_accepted = []\n",
    "# rows_for_decision =[]\n",
    "# check these three columns confidence_openai ,confidence_llama , confidence_deepseek\n",
    "# if only one is high/High, then add to rows_accepted\n",
    "# if two oe three are high/High, then add to rows_for_decision\n",
    "# if all are low/Low, then add to rows_for_regeneration\n",
    "\n",
    "\n",
    "# Iterate over df_combined\n",
    "rows_for_regeneration = []\n",
    "rows_accepted = []\n",
    "rows_for_decision = []\n",
    "\n",
    "for idx, row in df_combined.iterrows():\n",
    "    # Check confidence columns\n",
    "    conf_openai = str(row['confidence_openai']).lower()\n",
    "    conf_llama = str(row['confidence_llama']).lower()\n",
    "    conf_deepseek = str(row['confidence_deepseek']).lower()\n",
    "    \n",
    "    # Count high confidence scores\n",
    "    high_count = sum([\n",
    "        conf_openai in ['high', 'High'],\n",
    "        conf_llama in ['high', 'High'],\n",
    "        conf_deepseek in ['high', 'High']\n",
    "    ])\n",
    "    \n",
    "    # Categorize based on high confidence count\n",
    "    if high_count == 1:\n",
    "        rows_accepted.append(idx)\n",
    "    elif high_count >= 2:\n",
    "        rows_for_decision.append(idx)\n",
    "    else:  # high_count == 0 (all low)\n",
    "        rows_for_regeneration.append(idx)\n"
   ]
  },
  {
   "cell_type": "code",
   "execution_count": 98,
   "id": "0e1d5b5e",
   "metadata": {},
   "outputs": [],
   "source": [
    "\n",
    "# Create three separate DataFrames\n",
    "df_accepted = df_combined.loc[rows_accepted].copy()\n",
    "df_for_decision = df_combined.loc[rows_for_decision].copy()\n",
    "df_for_regeneration = df_combined.loc[rows_for_regeneration].copy()"
   ]
  },
  {
   "cell_type": "code",
   "execution_count": 99,
   "id": "aae1dfab",
   "metadata": {},
   "outputs": [
    {
     "data": {
      "text/plain": [
       "37344"
      ]
     },
     "execution_count": 99,
     "metadata": {},
     "output_type": "execute_result"
    }
   ],
   "source": [
    "len(df_combined)"
   ]
  },
  {
   "cell_type": "code",
   "execution_count": 163,
   "id": "c9231077",
   "metadata": {},
   "outputs": [
    {
     "name": "stdout",
     "output_type": "stream",
     "text": [
      "confidence_openai\n",
      "High    24782\n",
      "Low      4930\n",
      "Name: count, dtype: int64\n",
      "confidence_llama\n",
      "Low     15875\n",
      "High    13128\n",
      "Name: count, dtype: int64\n",
      "confidence_deepseek\n",
      "High        10914\n",
      "Low          7487\n",
      "No match        1\n",
      "Name: count, dtype: int64\n"
     ]
    }
   ],
   "source": [
    "print(df_combined.confidence_openai.value_counts())\n",
    "print(df_combined.confidence_llama.value_counts())\n",
    "print(df_combined.confidence_deepseek.value_counts())"
   ]
  },
  {
   "cell_type": "code",
   "execution_count": 164,
   "id": "9e5fd10c",
   "metadata": {},
   "outputs": [
    {
     "name": "stdout",
     "output_type": "stream",
     "text": [
      "13147\n",
      "5425\n",
      "2029\n"
     ]
    }
   ],
   "source": [
    "print(len(df_accepted))\n",
    "print(len(df_for_decision))\n",
    "print(len(df_for_regeneration))"
   ]
  },
  {
   "cell_type": "code",
   "execution_count": null,
   "id": "dfafd072",
   "metadata": {},
   "outputs": [],
   "source": []
  },
  {
   "cell_type": "code",
   "execution_count": null,
   "id": "d7475584",
   "metadata": {},
   "outputs": [],
   "source": [
    "# Remove duplicates based on para_id priority: accepted > decision > regeneration\n",
    "# Get para_ids from accepted rows\n",
    "\n",
    "accepted_para_ids = set(df_accepted['para_id'])\n",
    "\n",
    "# Remove accepted para_ids from decision and regeneration\n",
    "df_for_decision = df_for_decision[~df_for_decision['para_id'].isin(accepted_para_ids)]\n",
    "df_for_regeneration = df_for_regeneration[~df_for_regeneration['para_id'].isin(accepted_para_ids)]\n",
    "\n",
    "# Get para_ids from remaining decision rows\n",
    "decision_para_ids = set(df_for_decision['para_id'])\n",
    "\n",
    "# Remove decision para_ids from regeneration\n",
    "df_for_regeneration = df_for_regeneration[~df_for_regeneration['para_id'].isin(decision_para_ids)]"
   ]
  },
  {
   "cell_type": "code",
   "execution_count": 79,
   "id": "e086d68c",
   "metadata": {},
   "outputs": [
    {
     "name": "stdout",
     "output_type": "stream",
     "text": [
      "6792\n",
      "1673\n",
      "536\n"
     ]
    }
   ],
   "source": [
    "print(df_accepted.para_id.nunique())\n",
    "print(df_for_decision.para_id.nunique())\n",
    "print(df_for_regeneration.para_id.nunique())"
   ]
  },
  {
   "cell_type": "code",
   "execution_count": 80,
   "id": "6f9ac4f3",
   "metadata": {},
   "outputs": [],
   "source": [
    "#check how many unique para_id where only confidence_llama is High\n",
    "unique_para_ids_llama = df_combined[(df_combined['confidence_llama'].str.lower() == 'high') & \n",
    "                                    (df_combined['confidence_openai'].str.lower() != 'high') & \n",
    "                                    (df_combined['confidence_deepseek'].str.lower() != 'high')]['para_id'].unique()\n",
    "#check how many unique para_id where only confidence_openai is High\n",
    "unique_para_ids_openai = df_combined[(df_combined['confidence_openai'].str.lower() == 'high') & \n",
    "                                     (df_combined['confidence_llama'].str.lower() != 'high') & \n",
    "                                     (df_combined['confidence_deepseek'].str.lower() != 'high')]['para_id'].unique()\n",
    "#check how many unique para_id where only confidence_deepseek is High\n",
    "unique_para_ids_deepseek = df_combined[(df_combined['confidence_deepseek'].str.lower() == 'high') & \n",
    "                                       (df_combined['confidence_llama'].str.lower() != 'high') & \n",
    "                                       (df_combined['confidence_openai'].str.lower() != 'high')]['para_id'].unique()"
   ]
  },
  {
   "cell_type": "code",
   "execution_count": 81,
   "id": "00b7ac3c",
   "metadata": {},
   "outputs": [
    {
     "name": "stdout",
     "output_type": "stream",
     "text": [
      "1319\n",
      "5551\n",
      "1125\n"
     ]
    }
   ],
   "source": [
    "print(len(unique_para_ids_llama))\n",
    "print(len(unique_para_ids_openai))\n",
    "print(len(unique_para_ids_deepseek))"
   ]
  },
  {
   "cell_type": "code",
   "execution_count": 67,
   "id": "cd8142c8",
   "metadata": {},
   "outputs": [
    {
     "data": {
      "text/plain": [
       "confidence_llama\n",
       "Low     7943\n",
       "High    1592\n",
       "Name: count, dtype: int64"
      ]
     },
     "execution_count": 67,
     "metadata": {},
     "output_type": "execute_result"
    }
   ],
   "source": [
    "df_accepted.confidence_llama.value_counts()"
   ]
  },
  {
   "cell_type": "code",
   "execution_count": null,
   "id": "bf3f36a7",
   "metadata": {},
   "outputs": [],
   "source": [
    "df_accepted.confidence_llama.value_counts()"
   ]
  },
  {
   "cell_type": "code",
   "execution_count": 66,
   "id": "a28104eb",
   "metadata": {},
   "outputs": [
    {
     "data": {
      "text/html": [
       "<div>\n",
       "<style scoped>\n",
       "    .dataframe tbody tr th:only-of-type {\n",
       "        vertical-align: middle;\n",
       "    }\n",
       "\n",
       "    .dataframe tbody tr th {\n",
       "        vertical-align: top;\n",
       "    }\n",
       "\n",
       "    .dataframe thead th {\n",
       "        text-align: right;\n",
       "    }\n",
       "</style>\n",
       "<table border=\"1\" class=\"dataframe\">\n",
       "  <thead>\n",
       "    <tr style=\"text-align: right;\">\n",
       "      <th></th>\n",
       "      <th>para_id</th>\n",
       "      <th>section_id</th>\n",
       "      <th>para_text</th>\n",
       "      <th>section_text</th>\n",
       "      <th>case_term_llama</th>\n",
       "      <th>legislation_term_llama</th>\n",
       "      <th>confidence_llama</th>\n",
       "      <th>reason_llama</th>\n",
       "      <th>case_term_openai</th>\n",
       "      <th>legislation_term_openai</th>\n",
       "      <th>confidence_openai</th>\n",
       "      <th>reason_openai</th>\n",
       "      <th>case_term_deepseek</th>\n",
       "      <th>legislation_term_deepseek</th>\n",
       "      <th>confidence_deepseek</th>\n",
       "      <th>reason_deepseek</th>\n",
       "    </tr>\n",
       "  </thead>\n",
       "  <tbody>\n",
       "    <tr>\n",
       "      <th>0</th>\n",
       "      <td>ewhc_admin_2004_1069#para_12</td>\n",
       "      <td>id/ukpga/1992/12_section-198F</td>\n",
       "      <td>12. As I have said, the obligation of the Reve...</td>\n",
       "      <td>198F Qualification for roll-over relief (1) Th...</td>\n",
       "      <td>the obligation of the Revenue to treat taxpaye...</td>\n",
       "      <td>all the circumstances are to be taken into acc...</td>\n",
       "      <td>Low</td>\n",
       "      <td>The case law excerpt mentions the Revenue's ob...</td>\n",
       "      <td>the obligation of the Revenue to treat taxpaye...</td>\n",
       "      <td>all the circumstances are to be taken into acc...</td>\n",
       "      <td>High</td>\n",
       "      <td>The caselaw discusses the fairness obligation ...</td>\n",
       "      <td>The obligation of the Revenue to treat taxpaye...</td>\n",
       "      <td>This section applies for the purposes of secti...</td>\n",
       "      <td>Low</td>\n",
       "      <td>The case law discusses the obligation of the R...</td>\n",
       "    </tr>\n",
       "    <tr>\n",
       "      <th>1</th>\n",
       "      <td>ewhc_admin_2004_1069#para_12</td>\n",
       "      <td>id/ukpga/1992/12_section-198F</td>\n",
       "      <td>12. As I have said, the obligation of the Reve...</td>\n",
       "      <td>198F Qualification for roll-over relief (1) Th...</td>\n",
       "      <td>the obligation of the Revenue to treat taxpaye...</td>\n",
       "      <td>all the circumstances are to be taken into acc...</td>\n",
       "      <td>Low</td>\n",
       "      <td>Empty extracted_phrases array</td>\n",
       "      <td>the obligation of the Revenue to treat taxpaye...</td>\n",
       "      <td>all the circumstances are to be taken into acc...</td>\n",
       "      <td>High</td>\n",
       "      <td>The caselaw discusses the fairness obligation ...</td>\n",
       "      <td>the obligation of the Revenue to treat taxpaye...</td>\n",
       "      <td>all the circumstances are to be taken into acc...</td>\n",
       "      <td>Low</td>\n",
       "      <td>The judge implies that while the law requires ...</td>\n",
       "    </tr>\n",
       "  </tbody>\n",
       "</table>\n",
       "</div>"
      ],
      "text/plain": [
       "                        para_id                     section_id  \\\n",
       "0  ewhc_admin_2004_1069#para_12  id/ukpga/1992/12_section-198F   \n",
       "1  ewhc_admin_2004_1069#para_12  id/ukpga/1992/12_section-198F   \n",
       "\n",
       "                                           para_text  \\\n",
       "0  12. As I have said, the obligation of the Reve...   \n",
       "1  12. As I have said, the obligation of the Reve...   \n",
       "\n",
       "                                        section_text  \\\n",
       "0  198F Qualification for roll-over relief (1) Th...   \n",
       "1  198F Qualification for roll-over relief (1) Th...   \n",
       "\n",
       "                                     case_term_llama  \\\n",
       "0  the obligation of the Revenue to treat taxpaye...   \n",
       "1  the obligation of the Revenue to treat taxpaye...   \n",
       "\n",
       "                              legislation_term_llama confidence_llama  \\\n",
       "0  all the circumstances are to be taken into acc...              Low   \n",
       "1  all the circumstances are to be taken into acc...              Low   \n",
       "\n",
       "                                        reason_llama  \\\n",
       "0  The case law excerpt mentions the Revenue's ob...   \n",
       "1                      Empty extracted_phrases array   \n",
       "\n",
       "                                    case_term_openai  \\\n",
       "0  the obligation of the Revenue to treat taxpaye...   \n",
       "1  the obligation of the Revenue to treat taxpaye...   \n",
       "\n",
       "                             legislation_term_openai confidence_openai  \\\n",
       "0  all the circumstances are to be taken into acc...              High   \n",
       "1  all the circumstances are to be taken into acc...              High   \n",
       "\n",
       "                                       reason_openai  \\\n",
       "0  The caselaw discusses the fairness obligation ...   \n",
       "1  The caselaw discusses the fairness obligation ...   \n",
       "\n",
       "                                  case_term_deepseek  \\\n",
       "0  The obligation of the Revenue to treat taxpaye...   \n",
       "1  the obligation of the Revenue to treat taxpaye...   \n",
       "\n",
       "                           legislation_term_deepseek confidence_deepseek  \\\n",
       "0  This section applies for the purposes of secti...                 Low   \n",
       "1  all the circumstances are to be taken into acc...                 Low   \n",
       "\n",
       "                                     reason_deepseek  \n",
       "0  The case law discusses the obligation of the R...  \n",
       "1  The judge implies that while the law requires ...  "
      ]
     },
     "execution_count": 66,
     "metadata": {},
     "output_type": "execute_result"
    }
   ],
   "source": [
    "df_accepted.head(2)"
   ]
  },
  {
   "cell_type": "code",
   "execution_count": null,
   "id": "ec3a0835",
   "metadata": {},
   "outputs": [],
   "source": []
  },
  {
   "cell_type": "code",
   "execution_count": 44,
   "id": "d75a1c35",
   "metadata": {},
   "outputs": [
    {
     "data": {
      "text/plain": [
       "9005"
      ]
     },
     "execution_count": 44,
     "metadata": {},
     "output_type": "execute_result"
    }
   ],
   "source": [
    "6850 + 1887 + 268"
   ]
  },
  {
   "cell_type": "code",
   "execution_count": 43,
   "id": "aa42625f",
   "metadata": {},
   "outputs": [
    {
     "data": {
      "text/plain": [
       "confidence_deepseek\n",
       "Low     4482\n",
       "High     482\n",
       "Name: count, dtype: int64"
      ]
     },
     "execution_count": 43,
     "metadata": {},
     "output_type": "execute_result"
    }
   ],
   "source": [
    "df_accepted.confidence_deepseek.value_counts()"
   ]
  },
  {
   "cell_type": "code",
   "execution_count": null,
   "id": "1a141806",
   "metadata": {},
   "outputs": [],
   "source": [
    "# for deepseek pick up the para_id and section_id from df_accepted where confidence_deepseek is Low\n",
    "# also from df_source where para_id and section_id are in df_accepted are not in df_combined\n",
    "deepseek_low_confidence = df_accepted[df_accepted['confidence_deepseek'].str.lower() == 'low']\n",
    "llama_low_confidence = df_accepted[df_accepted['confidence_llama'].str.lower() == 'low']"
   ]
  },
  {
   "cell_type": "code",
   "execution_count": 112,
   "id": "43b9b779",
   "metadata": {},
   "outputs": [],
   "source": [
    "deepseek_low_confidence_pairs = set(zip(deepseek_low_confidence['para_id'], deepseek_low_confidence['section_id']))"
   ]
  },
  {
   "cell_type": "code",
   "execution_count": 113,
   "id": "bc308c36",
   "metadata": {},
   "outputs": [
    {
     "data": {
      "text/plain": [
       "2330"
      ]
     },
     "execution_count": 113,
     "metadata": {},
     "output_type": "execute_result"
    }
   ],
   "source": [
    "len(deepseek_low_confidence_pairs)"
   ]
  },
  {
   "cell_type": "code",
   "execution_count": null,
   "id": "ef780f6c",
   "metadata": {},
   "outputs": [],
   "source": [
    "llama_low_confidence_pairs = set(zip(llama_low_confidence['para_id'], llama_low_confidence['section_id']))"
   ]
  },
  {
   "cell_type": "code",
   "execution_count": 95,
   "id": "cf814a6a",
   "metadata": {},
   "outputs": [
    {
     "data": {
      "text/plain": [
       "3143"
      ]
     },
     "execution_count": 95,
     "metadata": {},
     "output_type": "execute_result"
    }
   ],
   "source": [
    "len(llama_low_confidence_pairs)"
   ]
  },
  {
   "cell_type": "code",
   "execution_count": 97,
   "id": "becac231",
   "metadata": {},
   "outputs": [],
   "source": [
    "remaining_pairs = source_pairs - all_para_section_pairs_valid"
   ]
  },
  {
   "cell_type": "code",
   "execution_count": 101,
   "id": "5508a95f",
   "metadata": {},
   "outputs": [],
   "source": [
    "all_llama_remaining = llama_low_confidence_pairs | remaining_pairs"
   ]
  },
  {
   "cell_type": "code",
   "execution_count": 114,
   "id": "cfdfc11c",
   "metadata": {},
   "outputs": [],
   "source": [
    "all_deepseek_remaining = deepseek_low_confidence_pairs | remaining_pairs"
   ]
  },
  {
   "cell_type": "code",
   "execution_count": 115,
   "id": "b802be52",
   "metadata": {},
   "outputs": [
    {
     "data": {
      "text/plain": [
       "2804"
      ]
     },
     "execution_count": 115,
     "metadata": {},
     "output_type": "execute_result"
    }
   ],
   "source": [
    "len(all_deepseek_remaining)"
   ]
  },
  {
   "cell_type": "code",
   "execution_count": 103,
   "id": "1be2ee7f",
   "metadata": {},
   "outputs": [],
   "source": [
    "# df source where para_id and section_id are in all_llama_remaining\n",
    "df_all_llama_remaining = df_source[df_source.set_index(['para_id', 'section_id']).index.isin(all_llama_remaining)]"
   ]
  },
  {
   "cell_type": "code",
   "execution_count": 119,
   "id": "9a4d2207",
   "metadata": {},
   "outputs": [],
   "source": [
    "df_all_llama_remaining_output = pd.read_csv('../data/final_test/final/reexperiment/fewhot/11August/redo_all_llama_remaining_output_extracted.csv')"
   ]
  },
  {
   "cell_type": "code",
   "execution_count": 121,
   "id": "a23f4e38",
   "metadata": {},
   "outputs": [
    {
     "data": {
      "text/plain": [
       "1878"
      ]
     },
     "execution_count": 121,
     "metadata": {},
     "output_type": "execute_result"
    }
   ],
   "source": [
    "#check if these are valid\n",
    "#check if these are \n",
    "df_all_llama_remaining_output['is_valid'] = df_all_llama_remaining_output.apply(check_valid, axis=1)\n",
    "df_all_llama_remaining_output = df_all_llama_remaining_output[df_all_llama_remaining_output['is_valid'] == True]\n",
    "\n",
    "df_all_llama_remaining_output_pairs = set(zip(df_all_llama_remaining_output['para_id'], df_all_llama_remaining_output['section_id']))\n",
    "\n",
    "df_all_llama_remaining_output_pairs_valid = df_all_llama_remaining_output_pairs & source_pairs\n",
    "df_all_llama_remaining_output = df_all_llama_remaining_output[df_all_llama_remaining_output.apply(lambda row: (row['para_id'], row['section_id']) in df_all_llama_remaining_output_pairs_valid, axis=1)]\n",
    "\n",
    "df_all_llama_remaining_output.para_id.nunique()"
   ]
  },
  {
   "cell_type": "code",
   "execution_count": 122,
   "id": "48e6dc8c",
   "metadata": {},
   "outputs": [
    {
     "data": {
      "text/plain": [
       "confidence\n",
       "Low       3628\n",
       "High       341\n",
       "Medium       2\n",
       "Name: count, dtype: int64"
      ]
     },
     "execution_count": 122,
     "metadata": {},
     "output_type": "execute_result"
    }
   ],
   "source": [
    "df_all_llama_remaining_output.confidence.value_counts()"
   ]
  },
  {
   "cell_type": "code",
   "execution_count": 116,
   "id": "b5d879d5",
   "metadata": {},
   "outputs": [],
   "source": [
    "df_all_deepseek_remaining = df_source[df_source.set_index(['para_id', 'section_id']).index.isin(all_deepseek_remaining)]"
   ]
  },
  {
   "cell_type": "code",
   "execution_count": 108,
   "id": "a5ad4531",
   "metadata": {},
   "outputs": [],
   "source": [
    "df_all_llama_remaining.to_csv('../data/final_test/final/reexperiment/fewhot/11August/redo_all_llama_remaining_output.csv', index=False)"
   ]
  },
  {
   "cell_type": "code",
   "execution_count": 117,
   "id": "c4414a07",
   "metadata": {},
   "outputs": [],
   "source": [
    "df_all_deepseek_remaining.to_csv('../data/final_test/final/reexperiment/fewhot/11August/redo_all_deepseek_remaining_output.csv', index=False)"
   ]
  },
  {
   "cell_type": "code",
   "execution_count": 67,
   "id": "c3811ba6",
   "metadata": {},
   "outputs": [
    {
     "data": {
      "text/plain": [
       "8993"
      ]
     },
     "execution_count": 67,
     "metadata": {},
     "output_type": "execute_result"
    }
   ],
   "source": [
    "4552 + 4179 + 262"
   ]
  },
  {
   "cell_type": "code",
   "execution_count": 68,
   "id": "d030286c",
   "metadata": {},
   "outputs": [
    {
     "data": {
      "text/plain": [
       "{'eat_2024_17#para_100',\n",
       " 'eat_2024_17#para_112',\n",
       " 'eat_2024_17#para_118',\n",
       " 'eat_2024_17#para_97',\n",
       " 'eat_2024_56#para_88',\n",
       " 'ewca_civ_2005_1570#para_28',\n",
       " 'ewca_civ_2005_1570#para_39',\n",
       " 'ewca_civ_2009_454#para_23',\n",
       " 'ewca_civ_2010_390#para_108',\n",
       " 'ewca_civ_2010_390#para_50',\n",
       " 'ewca_civ_2010_390#para_80',\n",
       " 'ewca_civ_2013_1116#para_20',\n",
       " 'ewca_civ_2013_1116#para_4',\n",
       " 'ewca_civ_2015_1189#para_45',\n",
       " 'ewca_civ_2015_1230#para_13',\n",
       " 'ewca_civ_2015_1230#para_18',\n",
       " 'ewca_civ_2015_1230#para_19',\n",
       " 'ewca_civ_2015_1230#para_24',\n",
       " 'ewca_civ_2015_1230#para_28',\n",
       " 'ewca_civ_2015_1230#para_29',\n",
       " 'ewca_civ_2015_1230#para_30',\n",
       " 'ewca_civ_2015_1230#para_31',\n",
       " 'ewca_civ_2015_1230#para_32',\n",
       " 'ewca_civ_2015_1230#para_34',\n",
       " 'ewca_civ_2015_1230#para_37',\n",
       " 'ewca_civ_2015_1230#para_38',\n",
       " 'ewca_civ_2015_414#para_20',\n",
       " 'ewca_civ_2015_515#para_112',\n",
       " 'ewca_civ_2015_515#para_148',\n",
       " 'ewca_civ_2015_515#para_183',\n",
       " 'ewca_civ_2015_515#para_201',\n",
       " 'ewca_civ_2015_515#para_26',\n",
       " 'ewca_civ_2015_515#para_33',\n",
       " 'ewca_civ_2015_515#para_43',\n",
       " 'ewca_civ_2015_515#para_48',\n",
       " 'ewca_civ_2017_20#para_54',\n",
       " 'ewca_civ_2017_20#para_66',\n",
       " 'ewca_civ_2017_20#para_68',\n",
       " 'ewca_civ_2018_1105#para_48',\n",
       " 'ewca_civ_2018_162#para_17',\n",
       " 'ewca_civ_2018_162#para_20',\n",
       " 'ewca_civ_2018_162#para_36',\n",
       " 'ewca_civ_2018_1808#para_81',\n",
       " 'ewca_civ_2018_1841#para_32',\n",
       " 'ewca_civ_2020_620#para_39',\n",
       " 'ewca_civ_2020_833#para_32',\n",
       " 'ewca_civ_2022_1943#para_51',\n",
       " 'ewca_crim_2004_492#para_14',\n",
       " 'ewca_crim_2004_492#para_16',\n",
       " 'ewca_crim_2004_492#para_18',\n",
       " 'ewca_crim_2004_621#para_17',\n",
       " 'ewca_crim_2008_1745#para_13',\n",
       " 'ewca_crim_2008_1745#para_9',\n",
       " 'ewca_crim_2008_2500#para_19',\n",
       " 'ewca_crim_2008_2500#para_25',\n",
       " 'ewca_crim_2008_894#para_16',\n",
       " 'ewca_crim_2009_201#para_10',\n",
       " 'ewca_crim_2009_2204#para_4',\n",
       " 'ewca_crim_2010_1474#para_46',\n",
       " 'ewca_crim_2011_2651#para_16',\n",
       " 'ewca_crim_2011_2651#para_17',\n",
       " 'ewca_crim_2011_2651#para_19',\n",
       " 'ewca_crim_2011_2651#para_21',\n",
       " 'ewca_crim_2013_1026#para_26',\n",
       " 'ewca_crim_2013_1026#para_3',\n",
       " 'ewca_crim_2013_2406#para_23',\n",
       " 'ewca_crim_2013_2499#para_34',\n",
       " 'ewca_crim_2013_2499#para_39',\n",
       " 'ewca_crim_2014_382#para_22',\n",
       " 'ewca_crim_2015_1933#para_32',\n",
       " 'ewca_crim_2015_1933#para_38',\n",
       " 'ewca_crim_2016_1941#para_43',\n",
       " 'ewca_crim_2016_1941#para_60',\n",
       " 'ewca_crim_2017_2063#para_49',\n",
       " 'ewca_crim_2017_2065#para_25',\n",
       " 'ewca_crim_2020_597#para_70',\n",
       " 'ewca_crim_2022_483#para_29',\n",
       " 'ewca_crim_2023_1106#para_16',\n",
       " 'ewca_crim_2023_202#para_21',\n",
       " 'ewca_crim_2023_202#para_26',\n",
       " 'ewcop_2014_2#para_82',\n",
       " 'ewcop_2015_13#para_21',\n",
       " 'ewfc_2014_9#para_42',\n",
       " 'ewfc_2019_60#para_95',\n",
       " 'ewfc_2025_41#para_49',\n",
       " 'ewhc-admin_2009_634#para_14',\n",
       " 'ewhc_admin_2003_1578#para_115',\n",
       " 'ewhc_admin_2003_1578#para_145',\n",
       " 'ewhc_admin_2004_611#para_9',\n",
       " 'ewhc_admin_2006_2643#para_17',\n",
       " 'ewhc_admin_2006_3014#para_40',\n",
       " 'ewhc_admin_2007_807#para_15',\n",
       " 'ewhc_admin_2007_807#para_16',\n",
       " 'ewhc_admin_2009_1404#para_41',\n",
       " 'ewhc_admin_2009_2348#para_15',\n",
       " 'ewhc_admin_2009_2348#para_79',\n",
       " 'ewhc_admin_2009_2348#para_82',\n",
       " 'ewhc_admin_2009_3412#para_17',\n",
       " 'ewhc_admin_2009_634#para_10',\n",
       " 'ewhc_admin_2009_634#para_62',\n",
       " 'ewhc_admin_2009_771#para_46',\n",
       " 'ewhc_admin_2010_2929#para_19',\n",
       " 'ewhc_admin_2010_2929#para_33',\n",
       " 'ewhc_admin_2011_2962#para_19',\n",
       " 'ewhc_admin_2011_754#para_47',\n",
       " 'ewhc_admin_2014_1106#para_25',\n",
       " 'ewhc_admin_2014_3627#para_27',\n",
       " 'ewhc_admin_2014_3627#para_67',\n",
       " 'ewhc_admin_2015_1603#para_36',\n",
       " 'ewhc_admin_2015_3084#para_41',\n",
       " 'ewhc_admin_2016_3693#para_28',\n",
       " 'ewhc_admin_2019_62#para_37',\n",
       " 'ewhc_admin_2020_1905#para_25',\n",
       " 'ewhc_admin_2020_2352#para_2',\n",
       " 'ewhc_admin_2022_967#para_179',\n",
       " 'ewhc_admin_2022_967#para_288',\n",
       " 'ewhc_admin_2024_1780#para_104',\n",
       " 'ewhc_admin_2024_1780#para_41',\n",
       " 'ewhc_admin_2024_1780#para_99',\n",
       " 'ewhc_admin_2024_2864#para_52',\n",
       " 'ewhc_ch_2004_2947#para_39',\n",
       " 'ewhc_ch_2005_1075#para_135',\n",
       " 'ewhc_ch_2005_1075#para_149',\n",
       " 'ewhc_ch_2005_1075#para_45',\n",
       " 'ewhc_ch_2006_2612#para_101',\n",
       " 'ewhc_ch_2006_2612#para_102',\n",
       " 'ewhc_ch_2006_2612#para_49',\n",
       " 'ewhc_ch_2006_2612#para_56',\n",
       " 'ewhc_ch_2006_2612#para_58',\n",
       " 'ewhc_ch_2006_2612#para_72',\n",
       " 'ewhc_ch_2006_2612#para_85',\n",
       " 'ewhc_ch_2006_2612#para_86',\n",
       " 'ewhc_ch_2006_2612#para_87',\n",
       " 'ewhc_ch_2010_1951#para_100',\n",
       " 'ewhc_ch_2010_1951#para_62',\n",
       " 'ewhc_ch_2010_1951#para_75',\n",
       " 'ewhc_ch_2011_3782#para_34',\n",
       " 'ewhc_ch_2011_3782#para_49',\n",
       " 'ewhc_ch_2012_28#para_104',\n",
       " 'ewhc_ch_2012_28#para_105',\n",
       " 'ewhc_ch_2012_28#para_106',\n",
       " 'ewhc_ch_2012_28#para_114',\n",
       " 'ewhc_ch_2012_28#para_60',\n",
       " 'ewhc_ch_2012_28#para_66',\n",
       " 'ewhc_ch_2012_28#para_85',\n",
       " 'ewhc_ch_2012_28#para_99',\n",
       " 'ewhc_ch_2012_3266#para_14',\n",
       " 'ewhc_ch_2012_731#para_12',\n",
       " 'ewhc_ch_2012_731#para_21',\n",
       " 'ewhc_ch_2012_731#para_39',\n",
       " 'ewhc_ch_2012_731#para_46',\n",
       " 'ewhc_ch_2015_3910#para_3',\n",
       " 'ewhc_ch_2016_2759#para_15',\n",
       " 'ewhc_ch_2016_2759#para_37',\n",
       " 'ewhc_ch_2016_2759#para_41',\n",
       " 'ewhc_ch_2016_2759#para_44',\n",
       " 'ewhc_ch_2016_2759#para_48',\n",
       " 'ewhc_ch_2016_2759#para_49',\n",
       " 'ewhc_ch_2016_2759#para_53',\n",
       " 'ewhc_ch_2017_1727#para_14',\n",
       " 'ewhc_ch_2017_1727#para_33',\n",
       " 'ewhc_ch_2017_769#para_221',\n",
       " 'ewhc_ch_2017_769#para_228',\n",
       " 'ewhc_ch_2018_2877#para_118',\n",
       " 'ewhc_ch_2018_2877#para_72',\n",
       " 'ewhc_ch_2018_2877#para_75',\n",
       " 'ewhc_ch_2018_2877#para_85',\n",
       " 'ewhc_ch_2018_2877#para_86',\n",
       " 'ewhc_ch_2019_2517#para_24',\n",
       " 'ewhc_ch_2021_1275#para_29',\n",
       " 'ewhc_ch_2021_1275#para_50',\n",
       " 'ewhc_ch_2021_324#para_12',\n",
       " 'ewhc_ch_2021_324#para_28',\n",
       " 'ewhc_ch_2021_324#para_29',\n",
       " 'ewhc_ch_2021_324#para_36',\n",
       " 'ewhc_ch_2022_1348#para_120',\n",
       " 'ewhc_ch_2023_568#para_126',\n",
       " 'ewhc_ch_2023_568#para_130',\n",
       " 'ewhc_ch_2024_11#para_79',\n",
       " 'ewhc_ch_2024_560#para_108',\n",
       " 'ewhc_ch_2024_560#para_151',\n",
       " 'ewhc_ch_2024_560#para_160',\n",
       " 'ewhc_ch_2024_560#para_17',\n",
       " 'ewhc_ch_2024_560#para_26',\n",
       " 'ewhc_ch_2024_560#para_27',\n",
       " 'ewhc_ch_2024_560#para_44',\n",
       " 'ewhc_ch_2024_560#para_84',\n",
       " 'ewhc_ch_2024_560#para_95',\n",
       " 'ewhc_comm_2006_134#para_18',\n",
       " 'ewhc_comm_2006_134#para_26',\n",
       " 'ewhc_comm_2008_1785#para_1',\n",
       " 'ewhc_comm_2008_1785#para_19',\n",
       " 'ewhc_comm_2008_1785#para_28',\n",
       " 'ewhc_comm_2008_1785#para_30',\n",
       " 'ewhc_comm_2008_1785#para_32',\n",
       " 'ewhc_comm_2008_1785#para_45',\n",
       " 'ewhc_comm_2015_2748#para_52',\n",
       " 'ewhc_comm_2020_2012#para_51',\n",
       " 'ewhc_comm_2020_2736#para_42',\n",
       " 'ewhc_comm_2020_3334#para_129',\n",
       " 'ewhc_comm_2020_3334#para_150',\n",
       " 'ewhc_comm_2023_1889#para_34',\n",
       " 'ewhc_comm_2023_1889#para_40',\n",
       " 'ewhc_comm_2023_2866#para_21',\n",
       " 'ewhc_comm_2023_2866#para_65',\n",
       " 'ewhc_fam_2018_3244#para_43',\n",
       " 'ewhc_fam_2018_3244#para_45',\n",
       " 'ewhc_ipec_2019_126#para_106',\n",
       " 'ewhc_ipec_2019_126#para_66',\n",
       " 'ewhc_kb_2023_3472#para_27',\n",
       " 'ewhc_pat_2005_2240#para_29',\n",
       " 'ewhc_pat_2005_2240#para_31',\n",
       " 'ewhc_qb_2010_100#para_28',\n",
       " 'ewhc_qb_2011_272#para_24',\n",
       " 'ewhc_qb_2011_4#para_70',\n",
       " 'ewhc_qb_2015_1760#para_56',\n",
       " 'ewhc_qb_2015_1760#para_67',\n",
       " 'ewhc_qb_2015_1760#para_76',\n",
       " 'ewhc_qb_2015_1760#para_83',\n",
       " 'ewhc_qb_2018_1948#para_11',\n",
       " 'ewhc_qb_2020_718#para_51',\n",
       " 'ewhc_qb_2021_157#para_36',\n",
       " 'ewhc_qb_2021_157#para_69',\n",
       " 'ewhc_qb_2021_157#para_75',\n",
       " 'ewhc_qb_2022_1917#para_19',\n",
       " 'ewhc_qb_2022_1917#para_21',\n",
       " 'ewhc_qb_2022_1968#para_30',\n",
       " 'ewhc_scco_2022_3354#para_17',\n",
       " 'ewhc_scco_2022_3354#para_7',\n",
       " 'ewhc_tcc_2009_1664#para_18',\n",
       " 'ewhc_tcc_2009_1664#para_9',\n",
       " 'ewhc_tcc_2011_87#para_34',\n",
       " 'ewhc_tcc_2011_87#para_35',\n",
       " 'ewhc_tcc_2012_2593#para_150',\n",
       " 'ewhc_tcc_2012_2593#para_152',\n",
       " 'ewhc_tcc_2012_2593#para_205',\n",
       " 'ewhc_tcc_2012_2593#para_209',\n",
       " 'ewhc_tcc_2012_2593#para_214',\n",
       " 'ewhc_tcc_2012_2593#para_96',\n",
       " 'ewhc_tcc_2019_2212#para_47',\n",
       " 'ewhc_tcc_2019_2212#para_49',\n",
       " 'ukait_2009_40#para_16',\n",
       " 'ukait_2009_41#para_26',\n",
       " 'ukait_2009_54#para_5',\n",
       " 'ukftt_grc_2022_415#para_54',\n",
       " 'ukftt_tc_2022_201#para_32',\n",
       " 'ukftt_tc_2024_139#para_84',\n",
       " 'ukftt_tc_2024_462#para_83',\n",
       " 'ukftt_tc_2024_462#para_97',\n",
       " 'ukftt_tc_2024_744#para_94',\n",
       " 'ukpc_2013_21#para_20',\n",
       " 'ukpc_2013_21#para_21',\n",
       " 'ukpc_2013_21#para_22',\n",
       " 'ukpc_2013_21#para_23',\n",
       " 'ukpc_2013_21#para_7',\n",
       " 'ukpc_2023_36#para_21',\n",
       " 'ukpc_2023_36#para_82',\n",
       " 'ukpc_2023_36#para_83',\n",
       " 'uksc_2011_33#para_23',\n",
       " 'uksc_2013_11#para_39',\n",
       " 'ukut_lc_2022_342#para_14',\n",
       " 'ukut_lc_2024_202#para_61'}"
      ]
     },
     "execution_count": 68,
     "metadata": {},
     "output_type": "execute_result"
    }
   ],
   "source": [
    "set(df_for_regeneration.para_id.unique())"
   ]
  },
  {
   "cell_type": "code",
   "execution_count": 180,
   "id": "fa35713b",
   "metadata": {},
   "outputs": [],
   "source": [
    "df_accepted.to_csv('../data/final_test/final/reexperiment/fewhot/for_accepted.csv', index=False)"
   ]
  },
  {
   "cell_type": "code",
   "execution_count": 91,
   "id": "46eea9c2",
   "metadata": {},
   "outputs": [],
   "source": [
    "df_accepted = pd.read_csv('../data/final_test/final/reexperiment/fewhot/for_accepted.csv')"
   ]
  },
  {
   "cell_type": "code",
   "execution_count": 92,
   "id": "15754bae",
   "metadata": {},
   "outputs": [
    {
     "data": {
      "text/plain": [
       "3923"
      ]
     },
     "execution_count": 92,
     "metadata": {},
     "output_type": "execute_result"
    }
   ],
   "source": [
    "df_accepted.para_id.nunique()"
   ]
  },
  {
   "cell_type": "code",
   "execution_count": 94,
   "id": "a8c1c326",
   "metadata": {},
   "outputs": [],
   "source": [
    "df_for_decision = pd.read_csv('../data/final_test/final/reexperiment/fewhot/for_claude_decision.csv')"
   ]
  },
  {
   "cell_type": "code",
   "execution_count": 95,
   "id": "02f66a6b",
   "metadata": {},
   "outputs": [
    {
     "data": {
      "text/plain": [
       "4815"
      ]
     },
     "execution_count": 95,
     "metadata": {},
     "output_type": "execute_result"
    }
   ],
   "source": [
    "df_for_decision.para_id.nunique()"
   ]
  },
  {
   "cell_type": "code",
   "execution_count": 69,
   "id": "f156cac9",
   "metadata": {},
   "outputs": [],
   "source": [
    "openai_added_remaining = pd.read_csv('../data/final_test/final/reexperiment/fewhot/redo-regenerated-openai_output.csv')"
   ]
  },
  {
   "cell_type": "code",
   "execution_count": 70,
   "id": "9615c938",
   "metadata": {},
   "outputs": [
    {
     "data": {
      "text/plain": [
       "confidence\n",
       "High    110\n",
       "Name: count, dtype: int64"
      ]
     },
     "execution_count": 70,
     "metadata": {},
     "output_type": "execute_result"
    }
   ],
   "source": [
    "# get the rows with confidence 'High' or 'high'\n",
    "openai_added_remaining = openai_added_remaining[openai_added_remaining['confidence'].str.lower() == 'high']\n",
    "openai_added_remaining.confidence.value_counts()"
   ]
  },
  {
   "cell_type": "code",
   "execution_count": 71,
   "id": "232fbb1d",
   "metadata": {},
   "outputs": [
    {
     "data": {
      "text/plain": [
       "29"
      ]
     },
     "execution_count": 71,
     "metadata": {},
     "output_type": "execute_result"
    }
   ],
   "source": [
    "#check if these are valid\n",
    "#check if these are \n",
    "openai_added_remaining['is_valid'] = openai_added_remaining.apply(check_valid, axis=1)\n",
    "openai_added_remaining = openai_added_remaining[openai_added_remaining['is_valid'] == True]\n",
    "\n",
    "openai_added_remaining_pairs = set(zip(openai_added_remaining['para_id'], openai_added_remaining['section_id']))\n",
    "\n",
    "openai_added_remaining_pairs_valid = openai_added_remaining_pairs & source_pairs\n",
    "openai_added_remaining = openai_added_remaining[openai_added_remaining.apply(lambda row: (row['para_id'], row['section_id']) in openai_added_remaining_pairs_valid, axis=1)]\n",
    "\n",
    "openai_added_remaining.para_id.nunique()"
   ]
  },
  {
   "cell_type": "code",
   "execution_count": 72,
   "id": "2d64dd4f",
   "metadata": {},
   "outputs": [],
   "source": [
    "openai_added_remaining = openai_added_remaining[openai_added_remaining['status'] == 'SUCCESS']"
   ]
  },
  {
   "cell_type": "code",
   "execution_count": 73,
   "id": "d87fa6d8",
   "metadata": {},
   "outputs": [
    {
     "data": {
      "text/plain": [
       "29"
      ]
     },
     "execution_count": 73,
     "metadata": {},
     "output_type": "execute_result"
    }
   ],
   "source": [
    "openai_added_remaining.para_id.nunique()"
   ]
  },
  {
   "cell_type": "code",
   "execution_count": 74,
   "id": "75c3fbba",
   "metadata": {},
   "outputs": [
    {
     "data": {
      "text/html": [
       "<div>\n",
       "<style scoped>\n",
       "    .dataframe tbody tr th:only-of-type {\n",
       "        vertical-align: middle;\n",
       "    }\n",
       "\n",
       "    .dataframe tbody tr th {\n",
       "        vertical-align: top;\n",
       "    }\n",
       "\n",
       "    .dataframe thead th {\n",
       "        text-align: right;\n",
       "    }\n",
       "</style>\n",
       "<table border=\"1\" class=\"dataframe\">\n",
       "  <thead>\n",
       "    <tr style=\"text-align: right;\">\n",
       "      <th></th>\n",
       "      <th>para_id</th>\n",
       "      <th>section_id</th>\n",
       "      <th>para_text</th>\n",
       "      <th>section_text</th>\n",
       "      <th>case_term_llama</th>\n",
       "      <th>legislation_term_llama</th>\n",
       "      <th>confidence_llama</th>\n",
       "      <th>reason_llama</th>\n",
       "      <th>case_term_openai</th>\n",
       "      <th>legislation_term_openai</th>\n",
       "      <th>confidence_openai</th>\n",
       "      <th>reason_openai</th>\n",
       "      <th>case_term_deepseek</th>\n",
       "      <th>legislation_term_deepseek</th>\n",
       "      <th>confidence_deepseek</th>\n",
       "      <th>reason_deepseek</th>\n",
       "    </tr>\n",
       "  </thead>\n",
       "  <tbody>\n",
       "    <tr>\n",
       "      <th>22749</th>\n",
       "      <td>ewca_civ_2010_805#para_23</td>\n",
       "      <td>id/ukpga/1974/47_section-55</td>\n",
       "      <td>23. I am unable to accept that submission for ...</td>\n",
       "      <td>55 Applications to require solicitor to answer...</td>\n",
       "      <td>The privilege of the client has been described...</td>\n",
       "      <td>For the avoidance of doubt it is hereby declar...</td>\n",
       "      <td>Low</td>\n",
       "      <td>The paragraph discusses the principle of clien...</td>\n",
       "      <td>If the client will not waive his privilege to ...</td>\n",
       "      <td>an application by any person to require a soli...</td>\n",
       "      <td>Low</td>\n",
       "      <td>There is a connection between the requirement ...</td>\n",
       "      <td>I am unable to accept that submission for a nu...</td>\n",
       "      <td>For the avoidance of doubt it is hereby declar...</td>\n",
       "      <td>Low</td>\n",
       "      <td>The case law discusses the obligations of an i...</td>\n",
       "    </tr>\n",
       "    <tr>\n",
       "      <th>22750</th>\n",
       "      <td>ewca_civ_2010_805#para_23</td>\n",
       "      <td>id/ukpga/1974/47_section-55</td>\n",
       "      <td>23. I am unable to accept that submission for ...</td>\n",
       "      <td>55 Applications to require solicitor to answer...</td>\n",
       "      <td>The privilege of the client has been described...</td>\n",
       "      <td>For the avoidance of doubt it is hereby declar...</td>\n",
       "      <td>Low</td>\n",
       "      <td>Empty extracted_phrases array</td>\n",
       "      <td>If the client will not waive his privilege to ...</td>\n",
       "      <td>an application by any person to require a soli...</td>\n",
       "      <td>Low</td>\n",
       "      <td>Empty extracted_phrases array</td>\n",
       "      <td>I am unable to accept that submission for a nu...</td>\n",
       "      <td>For the avoidance of doubt it is hereby declar...</td>\n",
       "      <td>Low</td>\n",
       "      <td>Empty extracted_phrases array</td>\n",
       "    </tr>\n",
       "    <tr>\n",
       "      <th>22751</th>\n",
       "      <td>ewca_civ_2010_805#para_23</td>\n",
       "      <td>id/ukpga/1974/47_section-55</td>\n",
       "      <td>23. I am unable to accept that submission for ...</td>\n",
       "      <td>55 Applications to require solicitor to answer...</td>\n",
       "      <td>None</td>\n",
       "      <td>None</td>\n",
       "      <td>None</td>\n",
       "      <td>None</td>\n",
       "      <td>I am unable to accept that submission for a nu...</td>\n",
       "      <td>application by any person to require a solicit...</td>\n",
       "      <td>High</td>\n",
       "      <td>The case discusses the responsibilities and li...</td>\n",
       "      <td>None</td>\n",
       "      <td>None</td>\n",
       "      <td>None</td>\n",
       "      <td>None</td>\n",
       "    </tr>\n",
       "    <tr>\n",
       "      <th>22752</th>\n",
       "      <td>ewca_civ_2010_805#para_23</td>\n",
       "      <td>id/ukpga/1974/47_section-55</td>\n",
       "      <td>23. I am unable to accept that submission for ...</td>\n",
       "      <td>55 Applications to require solicitor to answer...</td>\n",
       "      <td>None</td>\n",
       "      <td>None</td>\n",
       "      <td>None</td>\n",
       "      <td>None</td>\n",
       "      <td>I am unable to accept that submission for a nu...</td>\n",
       "      <td>application by any person to require a solicit...</td>\n",
       "      <td>High</td>\n",
       "      <td>Empty extracted_phrases array</td>\n",
       "      <td>None</td>\n",
       "      <td>None</td>\n",
       "      <td>None</td>\n",
       "      <td>None</td>\n",
       "    </tr>\n",
       "    <tr>\n",
       "      <th>34054</th>\n",
       "      <td>ewca_civ_2010_805#para_23</td>\n",
       "      <td>id/ukpga/1974/47_section-42</td>\n",
       "      <td>23. I am unable to accept that submission for ...</td>\n",
       "      <td>42 Failure to disclose fact of having been str...</td>\n",
       "      <td>First, I do not accept that submission for a n...</td>\n",
       "      <td>42 Failure to disclose fact of having been str...</td>\n",
       "      <td>Low</td>\n",
       "      <td>There is no clear connection between the case ...</td>\n",
       "      <td>None</td>\n",
       "      <td>None</td>\n",
       "      <td>None</td>\n",
       "      <td>None</td>\n",
       "      <td>None</td>\n",
       "      <td>None</td>\n",
       "      <td>None</td>\n",
       "      <td>None</td>\n",
       "    </tr>\n",
       "    <tr>\n",
       "      <th>34055</th>\n",
       "      <td>ewca_civ_2010_805#para_23</td>\n",
       "      <td>id/ukpga/1974/47_section-42</td>\n",
       "      <td>23. I am unable to accept that submission for ...</td>\n",
       "      <td>42 Failure to disclose fact of having been str...</td>\n",
       "      <td>First, I do not accept that submission for a n...</td>\n",
       "      <td>42 Failure to disclose fact of having been str...</td>\n",
       "      <td>Low</td>\n",
       "      <td>Empty extracted_phrases array</td>\n",
       "      <td>None</td>\n",
       "      <td>None</td>\n",
       "      <td>None</td>\n",
       "      <td>None</td>\n",
       "      <td>None</td>\n",
       "      <td>None</td>\n",
       "      <td>None</td>\n",
       "      <td>None</td>\n",
       "    </tr>\n",
       "  </tbody>\n",
       "</table>\n",
       "</div>"
      ],
      "text/plain": [
       "                         para_id                   section_id  \\\n",
       "22749  ewca_civ_2010_805#para_23  id/ukpga/1974/47_section-55   \n",
       "22750  ewca_civ_2010_805#para_23  id/ukpga/1974/47_section-55   \n",
       "22751  ewca_civ_2010_805#para_23  id/ukpga/1974/47_section-55   \n",
       "22752  ewca_civ_2010_805#para_23  id/ukpga/1974/47_section-55   \n",
       "34054  ewca_civ_2010_805#para_23  id/ukpga/1974/47_section-42   \n",
       "34055  ewca_civ_2010_805#para_23  id/ukpga/1974/47_section-42   \n",
       "\n",
       "                                               para_text  \\\n",
       "22749  23. I am unable to accept that submission for ...   \n",
       "22750  23. I am unable to accept that submission for ...   \n",
       "22751  23. I am unable to accept that submission for ...   \n",
       "22752  23. I am unable to accept that submission for ...   \n",
       "34054  23. I am unable to accept that submission for ...   \n",
       "34055  23. I am unable to accept that submission for ...   \n",
       "\n",
       "                                            section_text  \\\n",
       "22749  55 Applications to require solicitor to answer...   \n",
       "22750  55 Applications to require solicitor to answer...   \n",
       "22751  55 Applications to require solicitor to answer...   \n",
       "22752  55 Applications to require solicitor to answer...   \n",
       "34054  42 Failure to disclose fact of having been str...   \n",
       "34055  42 Failure to disclose fact of having been str...   \n",
       "\n",
       "                                         case_term_llama  \\\n",
       "22749  The privilege of the client has been described...   \n",
       "22750  The privilege of the client has been described...   \n",
       "22751                                               None   \n",
       "22752                                               None   \n",
       "34054  First, I do not accept that submission for a n...   \n",
       "34055  First, I do not accept that submission for a n...   \n",
       "\n",
       "                                  legislation_term_llama confidence_llama  \\\n",
       "22749  For the avoidance of doubt it is hereby declar...              Low   \n",
       "22750  For the avoidance of doubt it is hereby declar...              Low   \n",
       "22751                                               None             None   \n",
       "22752                                               None             None   \n",
       "34054  42 Failure to disclose fact of having been str...              Low   \n",
       "34055  42 Failure to disclose fact of having been str...              Low   \n",
       "\n",
       "                                            reason_llama  \\\n",
       "22749  The paragraph discusses the principle of clien...   \n",
       "22750                      Empty extracted_phrases array   \n",
       "22751                                               None   \n",
       "22752                                               None   \n",
       "34054  There is no clear connection between the case ...   \n",
       "34055                      Empty extracted_phrases array   \n",
       "\n",
       "                                        case_term_openai  \\\n",
       "22749  If the client will not waive his privilege to ...   \n",
       "22750  If the client will not waive his privilege to ...   \n",
       "22751  I am unable to accept that submission for a nu...   \n",
       "22752  I am unable to accept that submission for a nu...   \n",
       "34054                                               None   \n",
       "34055                                               None   \n",
       "\n",
       "                                 legislation_term_openai confidence_openai  \\\n",
       "22749  an application by any person to require a soli...               Low   \n",
       "22750  an application by any person to require a soli...               Low   \n",
       "22751  application by any person to require a solicit...              High   \n",
       "22752  application by any person to require a solicit...              High   \n",
       "34054                                               None              None   \n",
       "34055                                               None              None   \n",
       "\n",
       "                                           reason_openai  \\\n",
       "22749  There is a connection between the requirement ...   \n",
       "22750                      Empty extracted_phrases array   \n",
       "22751  The case discusses the responsibilities and li...   \n",
       "22752                      Empty extracted_phrases array   \n",
       "34054                                               None   \n",
       "34055                                               None   \n",
       "\n",
       "                                      case_term_deepseek  \\\n",
       "22749  I am unable to accept that submission for a nu...   \n",
       "22750  I am unable to accept that submission for a nu...   \n",
       "22751                                               None   \n",
       "22752                                               None   \n",
       "34054                                               None   \n",
       "34055                                               None   \n",
       "\n",
       "                               legislation_term_deepseek confidence_deepseek  \\\n",
       "22749  For the avoidance of doubt it is hereby declar...                 Low   \n",
       "22750  For the avoidance of doubt it is hereby declar...                 Low   \n",
       "22751                                               None                None   \n",
       "22752                                               None                None   \n",
       "34054                                               None                None   \n",
       "34055                                               None                None   \n",
       "\n",
       "                                         reason_deepseek  \n",
       "22749  The case law discusses the obligations of an i...  \n",
       "22750                      Empty extracted_phrases array  \n",
       "22751                                               None  \n",
       "22752                                               None  \n",
       "34054                                               None  \n",
       "34055                                               None  "
      ]
     },
     "execution_count": 74,
     "metadata": {},
     "output_type": "execute_result"
    }
   ],
   "source": [
    "df_combined[df_combined['para_id'] == 'ewca_civ_2010_805#para_23']"
   ]
  },
  {
   "cell_type": "code",
   "execution_count": 75,
   "id": "6b1dcced",
   "metadata": {},
   "outputs": [
    {
     "data": {
      "text/html": [
       "<div>\n",
       "<style scoped>\n",
       "    .dataframe tbody tr th:only-of-type {\n",
       "        vertical-align: middle;\n",
       "    }\n",
       "\n",
       "    .dataframe tbody tr th {\n",
       "        vertical-align: top;\n",
       "    }\n",
       "\n",
       "    .dataframe thead th {\n",
       "        text-align: right;\n",
       "    }\n",
       "</style>\n",
       "<table border=\"1\" class=\"dataframe\">\n",
       "  <thead>\n",
       "    <tr style=\"text-align: right;\">\n",
       "      <th></th>\n",
       "      <th>para_id</th>\n",
       "      <th>section_id</th>\n",
       "      <th>para_text</th>\n",
       "      <th>section_text</th>\n",
       "      <th>case_term_llama</th>\n",
       "      <th>legislation_term_llama</th>\n",
       "      <th>confidence_llama</th>\n",
       "      <th>reason_llama</th>\n",
       "      <th>case_term_openai</th>\n",
       "      <th>legislation_term_openai</th>\n",
       "      <th>confidence_openai</th>\n",
       "      <th>reason_openai</th>\n",
       "      <th>case_term_deepseek</th>\n",
       "      <th>legislation_term_deepseek</th>\n",
       "      <th>confidence_deepseek</th>\n",
       "      <th>reason_deepseek</th>\n",
       "    </tr>\n",
       "  </thead>\n",
       "  <tbody>\n",
       "  </tbody>\n",
       "</table>\n",
       "</div>"
      ],
      "text/plain": [
       "Empty DataFrame\n",
       "Columns: [para_id, section_id, para_text, section_text, case_term_llama, legislation_term_llama, confidence_llama, reason_llama, case_term_openai, legislation_term_openai, confidence_openai, reason_openai, case_term_deepseek, legislation_term_deepseek, confidence_deepseek, reason_deepseek]\n",
       "Index: []"
      ]
     },
     "execution_count": 75,
     "metadata": {},
     "output_type": "execute_result"
    }
   ],
   "source": [
    "df_for_regeneration[df_for_regeneration['para_id'] == 'ewca_civ_2010_805#para_23']"
   ]
  },
  {
   "cell_type": "code",
   "execution_count": 76,
   "id": "f5da4b48",
   "metadata": {},
   "outputs": [
    {
     "data": {
      "text/html": [
       "<div>\n",
       "<style scoped>\n",
       "    .dataframe tbody tr th:only-of-type {\n",
       "        vertical-align: middle;\n",
       "    }\n",
       "\n",
       "    .dataframe tbody tr th {\n",
       "        vertical-align: top;\n",
       "    }\n",
       "\n",
       "    .dataframe thead th {\n",
       "        text-align: right;\n",
       "    }\n",
       "</style>\n",
       "<table border=\"1\" class=\"dataframe\">\n",
       "  <thead>\n",
       "    <tr style=\"text-align: right;\">\n",
       "      <th></th>\n",
       "      <th>custom_id</th>\n",
       "      <th>para_id</th>\n",
       "      <th>section_id</th>\n",
       "      <th>phrase_index</th>\n",
       "      <th>case_law_excerpt</th>\n",
       "      <th>legislation_excerpt</th>\n",
       "      <th>confidence</th>\n",
       "      <th>reasoning</th>\n",
       "      <th>para_text</th>\n",
       "      <th>section_text</th>\n",
       "      <th>line_number</th>\n",
       "      <th>status</th>\n",
       "      <th>is_valid</th>\n",
       "    </tr>\n",
       "  </thead>\n",
       "  <tbody>\n",
       "    <tr>\n",
       "      <th>2093</th>\n",
       "      <td>request_1065</td>\n",
       "      <td>ewca_civ_2010_805#para_23</td>\n",
       "      <td>id/ukpga/1974/47_section-55</td>\n",
       "      <td>0</td>\n",
       "      <td>If the client will not waive his privilege to ...</td>\n",
       "      <td>an application by any person to require a soli...</td>\n",
       "      <td>Low</td>\n",
       "      <td>There is a connection between the requirement ...</td>\n",
       "      <td>23. I am unable to accept that submission for ...</td>\n",
       "      <td>55 Applications to require solicitor to answer...</td>\n",
       "      <td>1065</td>\n",
       "      <td>SUCCESS</td>\n",
       "      <td>True</td>\n",
       "    </tr>\n",
       "    <tr>\n",
       "      <th>2094</th>\n",
       "      <td>request_1065</td>\n",
       "      <td>ewca_civ_2010_805#para_23</td>\n",
       "      <td>id/ukpga/1974/47_section-55</td>\n",
       "      <td>0</td>\n",
       "      <td>If the client will not waive his privilege to ...</td>\n",
       "      <td>an application by any person to require a soli...</td>\n",
       "      <td>Low</td>\n",
       "      <td>Empty extracted_phrases array</td>\n",
       "      <td>23. I am unable to accept that submission for ...</td>\n",
       "      <td>55 Applications to require solicitor to answer...</td>\n",
       "      <td>1065</td>\n",
       "      <td>NO_PHRASES</td>\n",
       "      <td>True</td>\n",
       "    </tr>\n",
       "    <tr>\n",
       "      <th>41856</th>\n",
       "      <td>request_435</td>\n",
       "      <td>ewca_civ_2010_805#para_23</td>\n",
       "      <td>id/ukpga/1974/47_section-55</td>\n",
       "      <td>0</td>\n",
       "      <td>I am unable to accept that submission for a nu...</td>\n",
       "      <td>application by any person to require a solicit...</td>\n",
       "      <td>High</td>\n",
       "      <td>The case discusses the responsibilities and li...</td>\n",
       "      <td>23. I am unable to accept that submission for ...</td>\n",
       "      <td>55 Applications to require solicitor to answer...</td>\n",
       "      <td>435</td>\n",
       "      <td>SUCCESS</td>\n",
       "      <td>True</td>\n",
       "    </tr>\n",
       "    <tr>\n",
       "      <th>41857</th>\n",
       "      <td>request_435</td>\n",
       "      <td>ewca_civ_2010_805#para_23</td>\n",
       "      <td>id/ukpga/1974/47_section-55</td>\n",
       "      <td>0</td>\n",
       "      <td>I am unable to accept that submission for a nu...</td>\n",
       "      <td>application by any person to require a solicit...</td>\n",
       "      <td>High</td>\n",
       "      <td>Empty extracted_phrases array</td>\n",
       "      <td>23. I am unable to accept that submission for ...</td>\n",
       "      <td>55 Applications to require solicitor to answer...</td>\n",
       "      <td>435</td>\n",
       "      <td>NO_PHRASES</td>\n",
       "      <td>True</td>\n",
       "    </tr>\n",
       "  </tbody>\n",
       "</table>\n",
       "</div>"
      ],
      "text/plain": [
       "          custom_id                    para_id                   section_id  \\\n",
       "2093   request_1065  ewca_civ_2010_805#para_23  id/ukpga/1974/47_section-55   \n",
       "2094   request_1065  ewca_civ_2010_805#para_23  id/ukpga/1974/47_section-55   \n",
       "41856   request_435  ewca_civ_2010_805#para_23  id/ukpga/1974/47_section-55   \n",
       "41857   request_435  ewca_civ_2010_805#para_23  id/ukpga/1974/47_section-55   \n",
       "\n",
       "       phrase_index                                   case_law_excerpt  \\\n",
       "2093              0  If the client will not waive his privilege to ...   \n",
       "2094              0  If the client will not waive his privilege to ...   \n",
       "41856             0  I am unable to accept that submission for a nu...   \n",
       "41857             0  I am unable to accept that submission for a nu...   \n",
       "\n",
       "                                     legislation_excerpt confidence  \\\n",
       "2093   an application by any person to require a soli...        Low   \n",
       "2094   an application by any person to require a soli...        Low   \n",
       "41856  application by any person to require a solicit...       High   \n",
       "41857  application by any person to require a solicit...       High   \n",
       "\n",
       "                                               reasoning  \\\n",
       "2093   There is a connection between the requirement ...   \n",
       "2094                       Empty extracted_phrases array   \n",
       "41856  The case discusses the responsibilities and li...   \n",
       "41857                      Empty extracted_phrases array   \n",
       "\n",
       "                                               para_text  \\\n",
       "2093   23. I am unable to accept that submission for ...   \n",
       "2094   23. I am unable to accept that submission for ...   \n",
       "41856  23. I am unable to accept that submission for ...   \n",
       "41857  23. I am unable to accept that submission for ...   \n",
       "\n",
       "                                            section_text  line_number  \\\n",
       "2093   55 Applications to require solicitor to answer...         1065   \n",
       "2094   55 Applications to require solicitor to answer...         1065   \n",
       "41856  55 Applications to require solicitor to answer...          435   \n",
       "41857  55 Applications to require solicitor to answer...          435   \n",
       "\n",
       "           status  is_valid  \n",
       "2093      SUCCESS      True  \n",
       "2094   NO_PHRASES      True  \n",
       "41856     SUCCESS      True  \n",
       "41857  NO_PHRASES      True  "
      ]
     },
     "execution_count": 76,
     "metadata": {},
     "output_type": "execute_result"
    }
   ],
   "source": [
    "df_openai[df_openai['para_id'] == 'ewca_civ_2010_805#para_23']"
   ]
  },
  {
   "cell_type": "code",
   "execution_count": 77,
   "id": "a5e545a6",
   "metadata": {},
   "outputs": [
    {
     "data": {
      "text/html": [
       "<div>\n",
       "<style scoped>\n",
       "    .dataframe tbody tr th:only-of-type {\n",
       "        vertical-align: middle;\n",
       "    }\n",
       "\n",
       "    .dataframe tbody tr th {\n",
       "        vertical-align: top;\n",
       "    }\n",
       "\n",
       "    .dataframe thead th {\n",
       "        text-align: right;\n",
       "    }\n",
       "</style>\n",
       "<table border=\"1\" class=\"dataframe\">\n",
       "  <thead>\n",
       "    <tr style=\"text-align: right;\">\n",
       "      <th></th>\n",
       "      <th>custom_id</th>\n",
       "      <th>para_id</th>\n",
       "      <th>section_id</th>\n",
       "      <th>phrase_index</th>\n",
       "      <th>case_law_excerpt</th>\n",
       "      <th>legislation_excerpt</th>\n",
       "      <th>confidence</th>\n",
       "      <th>reasoning</th>\n",
       "      <th>para_text</th>\n",
       "      <th>section_text</th>\n",
       "      <th>line_number</th>\n",
       "      <th>status</th>\n",
       "      <th>is_valid</th>\n",
       "    </tr>\n",
       "  </thead>\n",
       "  <tbody>\n",
       "    <tr>\n",
       "      <th>616</th>\n",
       "      <td>request_435</td>\n",
       "      <td>ewca_civ_2010_805#para_23</td>\n",
       "      <td>id/ukpga/1974/47_section-55</td>\n",
       "      <td>0</td>\n",
       "      <td>I am unable to accept that submission for a nu...</td>\n",
       "      <td>application by any person to require a solicit...</td>\n",
       "      <td>High</td>\n",
       "      <td>The case discusses the responsibilities and li...</td>\n",
       "      <td>23. I am unable to accept that submission for ...</td>\n",
       "      <td>55 Applications to require solicitor to answer...</td>\n",
       "      <td>435</td>\n",
       "      <td>SUCCESS</td>\n",
       "      <td>True</td>\n",
       "    </tr>\n",
       "  </tbody>\n",
       "</table>\n",
       "</div>"
      ],
      "text/plain": [
       "       custom_id                    para_id                   section_id  \\\n",
       "616  request_435  ewca_civ_2010_805#para_23  id/ukpga/1974/47_section-55   \n",
       "\n",
       "     phrase_index                                   case_law_excerpt  \\\n",
       "616             0  I am unable to accept that submission for a nu...   \n",
       "\n",
       "                                   legislation_excerpt confidence  \\\n",
       "616  application by any person to require a solicit...       High   \n",
       "\n",
       "                                             reasoning  \\\n",
       "616  The case discusses the responsibilities and li...   \n",
       "\n",
       "                                             para_text  \\\n",
       "616  23. I am unable to accept that submission for ...   \n",
       "\n",
       "                                          section_text  line_number   status  \\\n",
       "616  55 Applications to require solicitor to answer...          435  SUCCESS   \n",
       "\n",
       "     is_valid  \n",
       "616      True  "
      ]
     },
     "execution_count": 77,
     "metadata": {},
     "output_type": "execute_result"
    }
   ],
   "source": [
    "openai_added_remaining[openai_added_remaining['para_id'] == 'ewca_civ_2010_805#para_23']"
   ]
  },
  {
   "cell_type": "code",
   "execution_count": 78,
   "id": "6bb72bcd",
   "metadata": {},
   "outputs": [
    {
     "data": {
      "text/plain": [
       "set()"
      ]
     },
     "execution_count": 78,
     "metadata": {},
     "output_type": "execute_result"
    }
   ],
   "source": [
    "set(df_for_regeneration.para_id.unique()) & set(openai_added_remaining.para_id.unique())"
   ]
  },
  {
   "cell_type": "code",
   "execution_count": 110,
   "id": "1dad6dea",
   "metadata": {},
   "outputs": [],
   "source": [
    "df_accepted = pd.concat([df_accepted, openai_added_remaining], ignore_index=True)"
   ]
  },
  {
   "cell_type": "code",
   "execution_count": 111,
   "id": "85d9fd20",
   "metadata": {},
   "outputs": [
    {
     "data": {
      "text/plain": [
       "3952"
      ]
     },
     "execution_count": 111,
     "metadata": {},
     "output_type": "execute_result"
    }
   ],
   "source": [
    "df_accepted.para_id.nunique()"
   ]
  },
  {
   "cell_type": "code",
   "execution_count": 112,
   "id": "b37091be",
   "metadata": {},
   "outputs": [
    {
     "data": {
      "text/plain": [
       "4815"
      ]
     },
     "execution_count": 112,
     "metadata": {},
     "output_type": "execute_result"
    }
   ],
   "source": [
    "df_for_decision.para_id.nunique()"
   ]
  },
  {
   "cell_type": "code",
   "execution_count": 98,
   "id": "bc051f62",
   "metadata": {},
   "outputs": [
    {
     "data": {
      "text/plain": [
       "9002"
      ]
     },
     "execution_count": 98,
     "metadata": {},
     "output_type": "execute_result"
    }
   ],
   "source": [
    "3923 + 4815 + 264"
   ]
  },
  {
   "cell_type": "code",
   "execution_count": 178,
   "id": "76e393e7",
   "metadata": {},
   "outputs": [],
   "source": [
    "df_for_decision.to_csv('../data/final_test/final/reexperiment/fewhot/for_claude_decision.csv', index=False)"
   ]
  },
  {
   "cell_type": "code",
   "execution_count": 202,
   "id": "30a9b327",
   "metadata": {},
   "outputs": [
    {
     "data": {
      "text/plain": [
       "Index(['para_id', 'section_id', 'para_text', 'section_text', 'case_term_llama',\n",
       "       'legislation_term_llama', 'confidence_llama', 'reason_llama',\n",
       "       'case_term_openai', 'legislation_term_openai', 'confidence_openai',\n",
       "       'reason_openai', 'case_term_deepseek', 'legislation_term_deepseek',\n",
       "       'confidence_deepseek', 'reason_deepseek'],\n",
       "      dtype='object')"
      ]
     },
     "execution_count": 202,
     "metadata": {},
     "output_type": "execute_result"
    }
   ],
   "source": [
    "df_for_decision.columns"
   ]
  },
  {
   "cell_type": "code",
   "execution_count": 219,
   "id": "555cb5e0",
   "metadata": {},
   "outputs": [
    {
     "data": {
      "text/plain": [
       "array(['ewhc_qb_2017_2554#para_83', 'ewhc_ch_2021_324#para_42',\n",
       "       'ewhc_qb_2018_2135#para_18', ..., 'ewhc_admin_2020_1905#para_31',\n",
       "       'ewhc_admin_2020_1850#para_34', 'ewca_crim_2005_1881#para_53'],\n",
       "      shape=(4815,), dtype=object)"
      ]
     },
     "execution_count": 219,
     "metadata": {},
     "output_type": "execute_result"
    }
   ],
   "source": [
    "df_for_decision.para_id.unique()"
   ]
  },
  {
   "cell_type": "code",
   "execution_count": 222,
   "id": "76a469f1",
   "metadata": {},
   "outputs": [
    {
     "data": {
      "text/plain": [
       "para_id\n",
       "ewhc_qb_2017_2554#para_83        2\n",
       "ewca_crim_2023_1520#para_10      2\n",
       "ewhc_ch_2013_4630#para_51        2\n",
       "ewhc_admin_2020_1850#para_4      2\n",
       "ewca_civ_2023_239#para_49        2\n",
       "                                ..\n",
       "ewhc_admin_2013_1009#para_64     1\n",
       "ewhc_admin_2006_2784#para_109    1\n",
       "ewhc_comm_2005_2115#para_49      1\n",
       "ewhc_comm_2020_2012#para_100     1\n",
       "ewca_crim_2005_1881#para_53      1\n",
       "Name: count, Length: 4815, dtype: int64"
      ]
     },
     "execution_count": 222,
     "metadata": {},
     "output_type": "execute_result"
    }
   ],
   "source": [
    "df_for_decision.para_id.value_counts()"
   ]
  },
  {
   "cell_type": "code",
   "execution_count": 223,
   "id": "fcad5ca7",
   "metadata": {},
   "outputs": [],
   "source": [
    "sample_e_2 = df_for_decision[df_for_decision.para_id =='ewca_crim_2023_1520#para_10']"
   ]
  },
  {
   "cell_type": "code",
   "execution_count": 224,
   "id": "35cd1c15",
   "metadata": {},
   "outputs": [
    {
     "data": {
      "text/html": [
       "<div>\n",
       "<style scoped>\n",
       "    .dataframe tbody tr th:only-of-type {\n",
       "        vertical-align: middle;\n",
       "    }\n",
       "\n",
       "    .dataframe tbody tr th {\n",
       "        vertical-align: top;\n",
       "    }\n",
       "\n",
       "    .dataframe thead th {\n",
       "        text-align: right;\n",
       "    }\n",
       "</style>\n",
       "<table border=\"1\" class=\"dataframe\">\n",
       "  <thead>\n",
       "    <tr style=\"text-align: right;\">\n",
       "      <th></th>\n",
       "      <th>para_id</th>\n",
       "      <th>section_id</th>\n",
       "      <th>para_text</th>\n",
       "      <th>section_text</th>\n",
       "      <th>case_term_llama</th>\n",
       "      <th>legislation_term_llama</th>\n",
       "      <th>confidence_llama</th>\n",
       "      <th>reason_llama</th>\n",
       "      <th>case_term_openai</th>\n",
       "      <th>legislation_term_openai</th>\n",
       "      <th>confidence_openai</th>\n",
       "      <th>reason_openai</th>\n",
       "      <th>case_term_deepseek</th>\n",
       "      <th>legislation_term_deepseek</th>\n",
       "      <th>confidence_deepseek</th>\n",
       "      <th>reason_deepseek</th>\n",
       "    </tr>\n",
       "  </thead>\n",
       "  <tbody>\n",
       "    <tr>\n",
       "      <th>15781</th>\n",
       "      <td>ewca_crim_2023_1520#para_10</td>\n",
       "      <td>id/ukpga/2020/17_section-267</td>\n",
       "      <td>10. The judge found that the offender was a da...</td>\n",
       "      <td>267 Extended sentence of detention in a young ...</td>\n",
       "      <td>the sentence which he was imposing was not fou...</td>\n",
       "      <td>The 4 year term condition is that, if the cour...</td>\n",
       "      <td>High</td>\n",
       "      <td>The case discusses the condition for imposing ...</td>\n",
       "      <td>the sentence which he was imposing was not fou...</td>\n",
       "      <td>The 4 year term condition is that, if the cour...</td>\n",
       "      <td>High</td>\n",
       "      <td>The case law discusses the requirement that an...</td>\n",
       "      <td>the sentence which he was imposing was not fou...</td>\n",
       "      <td>the term that it would specify as the appropri...</td>\n",
       "      <td>High</td>\n",
       "      <td>The case law discusses the inability to impose...</td>\n",
       "    </tr>\n",
       "    <tr>\n",
       "      <th>19504</th>\n",
       "      <td>ewca_crim_2023_1520#para_10</td>\n",
       "      <td>id/ukpga/2020/17_section-280</td>\n",
       "      <td>10. The judge found that the offender was a da...</td>\n",
       "      <td>280 Extended sentence of imprisonment: availab...</td>\n",
       "      <td>the sentence which he was imposing was not fou...</td>\n",
       "      <td>The 4 year term condition is that, if the cour...</td>\n",
       "      <td>High</td>\n",
       "      <td>The case discusses the conditions under which ...</td>\n",
       "      <td>None</td>\n",
       "      <td>None</td>\n",
       "      <td>None</td>\n",
       "      <td>None</td>\n",
       "      <td>The judge found that the offender was a danger...</td>\n",
       "      <td>The 4 year term condition is that, if the cour...</td>\n",
       "      <td>High</td>\n",
       "      <td>The case law discusses the inability to impose...</td>\n",
       "    </tr>\n",
       "  </tbody>\n",
       "</table>\n",
       "</div>"
      ],
      "text/plain": [
       "                           para_id                    section_id  \\\n",
       "15781  ewca_crim_2023_1520#para_10  id/ukpga/2020/17_section-267   \n",
       "19504  ewca_crim_2023_1520#para_10  id/ukpga/2020/17_section-280   \n",
       "\n",
       "                                               para_text  \\\n",
       "15781  10. The judge found that the offender was a da...   \n",
       "19504  10. The judge found that the offender was a da...   \n",
       "\n",
       "                                            section_text  \\\n",
       "15781  267 Extended sentence of detention in a young ...   \n",
       "19504  280 Extended sentence of imprisonment: availab...   \n",
       "\n",
       "                                         case_term_llama  \\\n",
       "15781  the sentence which he was imposing was not fou...   \n",
       "19504  the sentence which he was imposing was not fou...   \n",
       "\n",
       "                                  legislation_term_llama confidence_llama  \\\n",
       "15781  The 4 year term condition is that, if the cour...             High   \n",
       "19504  The 4 year term condition is that, if the cour...             High   \n",
       "\n",
       "                                            reason_llama  \\\n",
       "15781  The case discusses the condition for imposing ...   \n",
       "19504  The case discusses the conditions under which ...   \n",
       "\n",
       "                                        case_term_openai  \\\n",
       "15781  the sentence which he was imposing was not fou...   \n",
       "19504                                               None   \n",
       "\n",
       "                                 legislation_term_openai confidence_openai  \\\n",
       "15781  The 4 year term condition is that, if the cour...              High   \n",
       "19504                                               None              None   \n",
       "\n",
       "                                           reason_openai  \\\n",
       "15781  The case law discusses the requirement that an...   \n",
       "19504                                               None   \n",
       "\n",
       "                                      case_term_deepseek  \\\n",
       "15781  the sentence which he was imposing was not fou...   \n",
       "19504  The judge found that the offender was a danger...   \n",
       "\n",
       "                               legislation_term_deepseek confidence_deepseek  \\\n",
       "15781  the term that it would specify as the appropri...                High   \n",
       "19504  The 4 year term condition is that, if the cour...                High   \n",
       "\n",
       "                                         reason_deepseek  \n",
       "15781  The case law discusses the inability to impose...  \n",
       "19504  The case law discusses the inability to impose...  "
      ]
     },
     "execution_count": 224,
     "metadata": {},
     "output_type": "execute_result"
    }
   ],
   "source": [
    "sample_e_2"
   ]
  },
  {
   "cell_type": "code",
   "execution_count": null,
   "id": "7196224f",
   "metadata": {},
   "outputs": [],
   "source": []
  },
  {
   "cell_type": "code",
   "execution_count": null,
   "id": "bb0a56b2",
   "metadata": {},
   "outputs": [],
   "source": [
    "sample_e = df_for_decision[df_for_decision.para_id =='ewhc_qb_2017_2554#para_83']"
   ]
  },
  {
   "cell_type": "code",
   "execution_count": 212,
   "id": "bd516717",
   "metadata": {},
   "outputs": [
    {
     "data": {
      "text/html": [
       "<div>\n",
       "<style scoped>\n",
       "    .dataframe tbody tr th:only-of-type {\n",
       "        vertical-align: middle;\n",
       "    }\n",
       "\n",
       "    .dataframe tbody tr th {\n",
       "        vertical-align: top;\n",
       "    }\n",
       "\n",
       "    .dataframe thead th {\n",
       "        text-align: right;\n",
       "    }\n",
       "</style>\n",
       "<table border=\"1\" class=\"dataframe\">\n",
       "  <thead>\n",
       "    <tr style=\"text-align: right;\">\n",
       "      <th></th>\n",
       "      <th>para_id</th>\n",
       "      <th>section_id</th>\n",
       "      <th>para_text</th>\n",
       "      <th>section_text</th>\n",
       "      <th>case_term_llama</th>\n",
       "      <th>legislation_term_llama</th>\n",
       "      <th>confidence_llama</th>\n",
       "      <th>reason_llama</th>\n",
       "      <th>case_term_openai</th>\n",
       "      <th>legislation_term_openai</th>\n",
       "      <th>confidence_openai</th>\n",
       "      <th>reason_openai</th>\n",
       "      <th>case_term_deepseek</th>\n",
       "      <th>legislation_term_deepseek</th>\n",
       "      <th>confidence_deepseek</th>\n",
       "      <th>reason_deepseek</th>\n",
       "    </tr>\n",
       "  </thead>\n",
       "  <tbody>\n",
       "    <tr>\n",
       "      <th>0</th>\n",
       "      <td>ewhc_qb_2017_2554#para_83</td>\n",
       "      <td>id/ukpga/2002/29_section-226</td>\n",
       "      <td>83. Addressing these issues seems to me to be ...</td>\n",
       "      <td>226 Gifts and their recipients (1) If the defe...</td>\n",
       "      <td>the rebuttable presumption that there was a gift</td>\n",
       "      <td>If the defendant transfers property to another...</td>\n",
       "      <td>High</td>\n",
       "      <td>The paragraph discusses the process of determi...</td>\n",
       "      <td>consider the rebuttable presumption that there...</td>\n",
       "      <td>he is to be treated as making a gift</td>\n",
       "      <td>High</td>\n",
       "      <td>The case law discusses the presumption of a gi...</td>\n",
       "      <td>the rebuttable presumption that there was a gift</td>\n",
       "      <td>If the defendant transfers property to another...</td>\n",
       "      <td>High</td>\n",
       "      <td>The case law discusses the rebuttable presumpt...</td>\n",
       "    </tr>\n",
       "    <tr>\n",
       "      <th>29419</th>\n",
       "      <td>ewhc_qb_2017_2554#para_83</td>\n",
       "      <td>id/ukpga/2002/29_section-78</td>\n",
       "      <td>83. Addressing these issues seems to me to be ...</td>\n",
       "      <td>78 Gifts and their recipients (1) If the defen...</td>\n",
       "      <td>If I start with the question of whether there ...</td>\n",
       "      <td>If the defendant transfers property to another...</td>\n",
       "      <td>High</td>\n",
       "      <td>The court is considering whether a gift was ma...</td>\n",
       "      <td>consider the rebuttable presumption that there...</td>\n",
       "      <td>If the defendant transfers property to another...</td>\n",
       "      <td>High</td>\n",
       "      <td>The case law discusses analyzing transfers and...</td>\n",
       "      <td>If I start with the question of whether there ...</td>\n",
       "      <td>If the defendant transfers property to another...</td>\n",
       "      <td>High</td>\n",
       "      <td>The case law discusses the burden of proof and...</td>\n",
       "    </tr>\n",
       "  </tbody>\n",
       "</table>\n",
       "</div>"
      ],
      "text/plain": [
       "                         para_id                    section_id  \\\n",
       "0      ewhc_qb_2017_2554#para_83  id/ukpga/2002/29_section-226   \n",
       "29419  ewhc_qb_2017_2554#para_83   id/ukpga/2002/29_section-78   \n",
       "\n",
       "                                               para_text  \\\n",
       "0      83. Addressing these issues seems to me to be ...   \n",
       "29419  83. Addressing these issues seems to me to be ...   \n",
       "\n",
       "                                            section_text  \\\n",
       "0      226 Gifts and their recipients (1) If the defe...   \n",
       "29419  78 Gifts and their recipients (1) If the defen...   \n",
       "\n",
       "                                         case_term_llama  \\\n",
       "0       the rebuttable presumption that there was a gift   \n",
       "29419  If I start with the question of whether there ...   \n",
       "\n",
       "                                  legislation_term_llama confidence_llama  \\\n",
       "0      If the defendant transfers property to another...             High   \n",
       "29419  If the defendant transfers property to another...             High   \n",
       "\n",
       "                                            reason_llama  \\\n",
       "0      The paragraph discusses the process of determi...   \n",
       "29419  The court is considering whether a gift was ma...   \n",
       "\n",
       "                                        case_term_openai  \\\n",
       "0      consider the rebuttable presumption that there...   \n",
       "29419  consider the rebuttable presumption that there...   \n",
       "\n",
       "                                 legislation_term_openai confidence_openai  \\\n",
       "0                   he is to be treated as making a gift              High   \n",
       "29419  If the defendant transfers property to another...              High   \n",
       "\n",
       "                                           reason_openai  \\\n",
       "0      The case law discusses the presumption of a gi...   \n",
       "29419  The case law discusses analyzing transfers and...   \n",
       "\n",
       "                                      case_term_deepseek  \\\n",
       "0       the rebuttable presumption that there was a gift   \n",
       "29419  If I start with the question of whether there ...   \n",
       "\n",
       "                               legislation_term_deepseek confidence_deepseek  \\\n",
       "0      If the defendant transfers property to another...                High   \n",
       "29419  If the defendant transfers property to another...                High   \n",
       "\n",
       "                                         reason_deepseek  \n",
       "0      The case law discusses the rebuttable presumpt...  \n",
       "29419  The case law discusses the burden of proof and...  "
      ]
     },
     "execution_count": 212,
     "metadata": {},
     "output_type": "execute_result"
    }
   ],
   "source": [
    "sample_e"
   ]
  },
  {
   "cell_type": "code",
   "execution_count": 214,
   "id": "7ce9a6c0",
   "metadata": {},
   "outputs": [
    {
     "name": "stdout",
     "output_type": "stream",
     "text": [
      "('83. Addressing these issues seems to me to be somewhat circular and, as one '\n",
      " 'goes round the circle, the burden of proof shifts (albeit only slightly). If '\n",
      " 'I start with the question of whether there is a gift and conclude that there '\n",
      " 'is, there is no need to consider whether there is a trust. If I am not '\n",
      " 'satisfied that there is a gift, then I consider the basis on which monies '\n",
      " 'were transferred to Ms Gheewala and I have to consider the rebuttable '\n",
      " 'presumption that there was a gift. However, looked at as a whole, it seems '\n",
      " 'to me that the questions I have to ask myself are still those in paragraph '\n",
      " '76 above.')\n"
     ]
    }
   ],
   "source": [
    "from pprint import pprint\n",
    "\n",
    "pprint(sample_e['para_text'].values[0])"
   ]
  },
  {
   "cell_type": "code",
   "execution_count": 216,
   "id": "7e4d21b8",
   "metadata": {},
   "outputs": [
    {
     "name": "stdout",
     "output_type": "stream",
     "text": [
      "('78 Gifts and their recipients (1) If the defendant transfers property to '\n",
      " 'another person for a consideration whose value is significantly less than '\n",
      " 'the value of the property at the time of the transfer, he is to be treated '\n",
      " 'as making a gift. (2) If subsection (1) applies the property given is to be '\n",
      " 'treated as such share in the property transferred as is represented by the '\n",
      " 'fraction— (a) whose numerator is the difference between the two values '\n",
      " 'mentioned in subsection (1), and (b) whose denominator is the value of the '\n",
      " 'property at the time of the transfer. (3) References to a recipient of a '\n",
      " 'tainted gift are to a person to whom the defendant has made the gift.')\n"
     ]
    }
   ],
   "source": [
    "pprint(sample_e['section_text'].values[1])"
   ]
  },
  {
   "cell_type": "code",
   "execution_count": 217,
   "id": "ab645442",
   "metadata": {},
   "outputs": [
    {
     "name": "stdout",
     "output_type": "stream",
     "text": [
      "('226 Gifts and their recipients (1) If the defendant transfers property to '\n",
      " 'another person for a consideration whose value is significantly less than '\n",
      " 'the value of the property at the time of the transfer, he is to be treated '\n",
      " 'as making a gift. (2) If subsection (1) applies the property given is to be '\n",
      " 'treated as such share in the property transferred as is represented by the '\n",
      " 'fraction— (a) whose numerator is the difference between the two values '\n",
      " 'mentioned in subsection (1), and (b) whose denominator is the value of the '\n",
      " 'property at the time of the transfer. (3) References to a recipient of a '\n",
      " 'tainted gift are to a person to whom the defendant has made the gift.')\n"
     ]
    }
   ],
   "source": [
    "pprint(sample_e['section_text'].values[0])"
   ]
  },
  {
   "cell_type": "code",
   "execution_count": null,
   "id": "804424c8",
   "metadata": {},
   "outputs": [],
   "source": [
    "pprint(sample_e['section_text'].values[0])"
   ]
  },
  {
   "cell_type": "code",
   "execution_count": 211,
   "id": "a4a60d6c",
   "metadata": {},
   "outputs": [
    {
     "name": "stdout",
     "output_type": "stream",
     "text": [
      "consider the rebuttable presumption that there was a gift\n",
      "the rebuttable presumption that there was a gift\n",
      "the rebuttable presumption that there was a gift\n",
      "he is to be treated as making a gift\n",
      "If the defendant transfers property to another person for a consideration whose value is significantly less than the value of the property at the time of the transfer, he is to be treated as making a gift\n",
      "If the defendant transfers property to another person for a consideration whose value is significantly less than the value of the property at the time of the transfer, he is to be treated as making a gift.\n",
      "consider the rebuttable presumption that there was a gift\n",
      "If I start with the question of whether there is a gift and conclude that there is, there is no need to consider whether there is a trust.\n",
      "If I start with the question of whether there is a gift and conclude that there is, there is no need to consider whether there is a trust. If I am not satisfied that there is a gift, then I consider the basis on which monies were transferred to Ms Gheewala and I have to consider the rebuttable presumption that there was a gift.\n",
      "If the defendant transfers property to another person for a consideration whose value is significantly less than the value of the property at the time of the transfer, he is to be treated as making a gift.\n",
      "If the defendant transfers property to another person for a consideration whose value is significantly less than the value of the property at the time of the transfer, he is to be treated as making a gift.\n",
      "If the defendant transfers property to another person for a consideration whose value is significantly less than the value of the property at the time of the transfer, he is to be treated as making a gift.\n"
     ]
    }
   ],
   "source": [
    "print(sample_e['case_term_openai'].values[0])\n",
    "print(sample_e['case_term_llama'].values[0])\n",
    "print(sample_e['case_term_deepseek'].values[0])\n",
    "print(sample_e['legislation_term_openai'].values[0])\n",
    "print(sample_e['legislation_term_llama'].values[0])\n",
    "print(sample_e['legislation_term_deepseek'].values[0])\n",
    "\n",
    "print(sample_e['case_term_openai'].values[1])\n",
    "print(sample_e['case_term_llama'].values[1])\n",
    "print(sample_e['case_term_deepseek'].values[1])\n",
    "print(sample_e['legislation_term_openai'].values[1])\n",
    "print(sample_e['legislation_term_llama'].values[1])\n",
    "print(sample_e['legislation_term_deepseek'].values[1])"
   ]
  },
  {
   "cell_type": "code",
   "execution_count": 188,
   "id": "6e62138a",
   "metadata": {},
   "outputs": [],
   "source": [
    "example = df_for_regeneration[df_for_regeneration.para_id == 'ewhc_admin_2014_1106#para_25']"
   ]
  },
  {
   "cell_type": "code",
   "execution_count": 192,
   "id": "79699052",
   "metadata": {},
   "outputs": [
    {
     "data": {
      "text/plain": [
       "'Both excerpts discuss the concept of special circumstances affecting legal outcomes; the case law raises the idea of extending protections under Article 8 due to special circumstances, while the legislation addresses the potential injustice of extradition based on the passage of time.'"
      ]
     },
     "execution_count": 192,
     "metadata": {},
     "output_type": "execute_result"
    }
   ],
   "source": [
    "example.reason_openai.values[1]"
   ]
  },
  {
   "cell_type": "code",
   "execution_count": 196,
   "id": "6a472191",
   "metadata": {},
   "outputs": [],
   "source": [
    "df_for_regeneration.to_csv('../data/final_test/final/reexperiment/fewhot/for_claude_regeneration.csv', index=False)"
   ]
  },
  {
   "cell_type": "code",
   "execution_count": 195,
   "id": "d8b199dd",
   "metadata": {},
   "outputs": [],
   "source": [
    "df_for_regeneration.rename(columns={'para_text':'paragraphs'}, inplace=True)"
   ]
  },
  {
   "cell_type": "code",
   "execution_count": 194,
   "id": "ac07fe7c",
   "metadata": {},
   "outputs": [
    {
     "data": {
      "text/html": [
       "<div>\n",
       "<style scoped>\n",
       "    .dataframe tbody tr th:only-of-type {\n",
       "        vertical-align: middle;\n",
       "    }\n",
       "\n",
       "    .dataframe tbody tr th {\n",
       "        vertical-align: top;\n",
       "    }\n",
       "\n",
       "    .dataframe thead th {\n",
       "        text-align: right;\n",
       "    }\n",
       "</style>\n",
       "<table border=\"1\" class=\"dataframe\">\n",
       "  <thead>\n",
       "    <tr style=\"text-align: right;\">\n",
       "      <th></th>\n",
       "      <th>para_id</th>\n",
       "      <th>section_id</th>\n",
       "      <th>para_text</th>\n",
       "      <th>section_text</th>\n",
       "      <th>case_term_llama</th>\n",
       "      <th>legislation_term_llama</th>\n",
       "      <th>confidence_llama</th>\n",
       "      <th>reason_llama</th>\n",
       "      <th>case_term_openai</th>\n",
       "      <th>legislation_term_openai</th>\n",
       "      <th>confidence_openai</th>\n",
       "      <th>reason_openai</th>\n",
       "      <th>case_term_deepseek</th>\n",
       "      <th>legislation_term_deepseek</th>\n",
       "      <th>confidence_deepseek</th>\n",
       "      <th>reason_deepseek</th>\n",
       "    </tr>\n",
       "  </thead>\n",
       "  <tbody>\n",
       "    <tr>\n",
       "      <th>49</th>\n",
       "      <td>ewhc_admin_2022_967#para_179</td>\n",
       "      <td>id/ukpga/2005/9_section-16</td>\n",
       "      <td>179. Mr Coppel took the court to the Runnymede...</td>\n",
       "      <td>16 Powers to make decisions and appoint deputi...</td>\n",
       "      <td>None</td>\n",
       "      <td>None</td>\n",
       "      <td>None</td>\n",
       "      <td>None</td>\n",
       "      <td>None</td>\n",
       "      <td>None</td>\n",
       "      <td>None</td>\n",
       "      <td>None</td>\n",
       "      <td>Mr Coppel submitted that Runnymede was importa...</td>\n",
       "      <td>When deciding whether it is in P's best intere...</td>\n",
       "      <td>Low</td>\n",
       "      <td>The case law discusses the requirement for evi...</td>\n",
       "    </tr>\n",
       "    <tr>\n",
       "      <th>146</th>\n",
       "      <td>ewhc_ch_2024_560#para_84</td>\n",
       "      <td>id/ukpga/1978/47_section-9</td>\n",
       "      <td>84. The APOC were eventually served dated 1 Ju...</td>\n",
       "      <td>9 Consequential amendments and repeals. (1) Th...</td>\n",
       "      <td>The wholesale amendments to the APOC had not b...</td>\n",
       "      <td>The enactments specified in Schedule 1 to this...</td>\n",
       "      <td>Low</td>\n",
       "      <td>There is no direct connection between the case...</td>\n",
       "      <td>wholesale amendments to the APOC had not been ...</td>\n",
       "      <td>amendments set out in that Schedule, being ame...</td>\n",
       "      <td>Low</td>\n",
       "      <td>The case law refers to the improper amendment ...</td>\n",
       "      <td>The APOC were eventually served dated 1 July 2...</td>\n",
       "      <td>The enactments specified in Schedule 1 to this...</td>\n",
       "      <td>Low</td>\n",
       "      <td>The case law discusses the procedural handling...</td>\n",
       "    </tr>\n",
       "  </tbody>\n",
       "</table>\n",
       "</div>"
      ],
      "text/plain": [
       "                          para_id                  section_id  \\\n",
       "49   ewhc_admin_2022_967#para_179  id/ukpga/2005/9_section-16   \n",
       "146      ewhc_ch_2024_560#para_84  id/ukpga/1978/47_section-9   \n",
       "\n",
       "                                             para_text  \\\n",
       "49   179. Mr Coppel took the court to the Runnymede...   \n",
       "146  84. The APOC were eventually served dated 1 Ju...   \n",
       "\n",
       "                                          section_text  \\\n",
       "49   16 Powers to make decisions and appoint deputi...   \n",
       "146  9 Consequential amendments and repeals. (1) Th...   \n",
       "\n",
       "                                       case_term_llama  \\\n",
       "49                                                None   \n",
       "146  The wholesale amendments to the APOC had not b...   \n",
       "\n",
       "                                legislation_term_llama confidence_llama  \\\n",
       "49                                                None             None   \n",
       "146  The enactments specified in Schedule 1 to this...              Low   \n",
       "\n",
       "                                          reason_llama  \\\n",
       "49                                                None   \n",
       "146  There is no direct connection between the case...   \n",
       "\n",
       "                                      case_term_openai  \\\n",
       "49                                                None   \n",
       "146  wholesale amendments to the APOC had not been ...   \n",
       "\n",
       "                               legislation_term_openai confidence_openai  \\\n",
       "49                                                None              None   \n",
       "146  amendments set out in that Schedule, being ame...               Low   \n",
       "\n",
       "                                         reason_openai  \\\n",
       "49                                                None   \n",
       "146  The case law refers to the improper amendment ...   \n",
       "\n",
       "                                    case_term_deepseek  \\\n",
       "49   Mr Coppel submitted that Runnymede was importa...   \n",
       "146  The APOC were eventually served dated 1 July 2...   \n",
       "\n",
       "                             legislation_term_deepseek confidence_deepseek  \\\n",
       "49   When deciding whether it is in P's best intere...                 Low   \n",
       "146  The enactments specified in Schedule 1 to this...                 Low   \n",
       "\n",
       "                                       reason_deepseek  \n",
       "49   The case law discusses the requirement for evi...  \n",
       "146  The case law discusses the procedural handling...  "
      ]
     },
     "execution_count": 194,
     "metadata": {},
     "output_type": "execute_result"
    }
   ],
   "source": [
    "df_for_regeneration.head(2)"
   ]
  }
 ],
 "metadata": {
  "kernelspec": {
   "display_name": ".venv",
   "language": "python",
   "name": "python3"
  },
  "language_info": {
   "codemirror_mode": {
    "name": "ipython",
    "version": 3
   },
   "file_extension": ".py",
   "mimetype": "text/x-python",
   "name": "python",
   "nbconvert_exporter": "python",
   "pygments_lexer": "ipython3",
   "version": "3.13.5"
  }
 },
 "nbformat": 4,
 "nbformat_minor": 5
}
