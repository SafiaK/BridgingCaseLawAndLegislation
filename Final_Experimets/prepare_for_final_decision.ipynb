{
 "cells": [
  {
   "cell_type": "code",
   "execution_count": 1,
   "id": "e7650f3a",
   "metadata": {},
   "outputs": [],
   "source": [
    "import pandas as pd\n",
    "df_final = pd.read_csv('../data/final_test/final/reexperiment/fewhot/11August/df_final_wide_analysis.csv', index_col=0)\n",
    "\n"
   ]
  },
  {
   "cell_type": "code",
   "execution_count": 2,
   "id": "6ccff3a3",
   "metadata": {},
   "outputs": [
    {
     "data": {
      "text/html": [
       "<div>\n",
       "<style scoped>\n",
       "    .dataframe tbody tr th:only-of-type {\n",
       "        vertical-align: middle;\n",
       "    }\n",
       "\n",
       "    .dataframe tbody tr th {\n",
       "        vertical-align: top;\n",
       "    }\n",
       "\n",
       "    .dataframe thead th {\n",
       "        text-align: right;\n",
       "    }\n",
       "</style>\n",
       "<table border=\"1\" class=\"dataframe\">\n",
       "  <thead>\n",
       "    <tr style=\"text-align: right;\">\n",
       "      <th></th>\n",
       "      <th>section_id</th>\n",
       "      <th>category</th>\n",
       "      <th>case_law_excerpt_deepseek</th>\n",
       "      <th>legislation_excerpt_deepseek</th>\n",
       "      <th>confidence_deepseek</th>\n",
       "      <th>reasoning_deepseek</th>\n",
       "      <th>case_law_excerpt_llama</th>\n",
       "      <th>legislation_excerpt_llama</th>\n",
       "      <th>confidence_llama</th>\n",
       "      <th>reasoning_llama</th>\n",
       "      <th>case_law_excerpt_openai</th>\n",
       "      <th>legislation_excerpt_openai</th>\n",
       "      <th>confidence_openai</th>\n",
       "      <th>reasoning_openai</th>\n",
       "      <th>paragraphs</th>\n",
       "      <th>section_text</th>\n",
       "    </tr>\n",
       "    <tr>\n",
       "      <th>para_id</th>\n",
       "      <th></th>\n",
       "      <th></th>\n",
       "      <th></th>\n",
       "      <th></th>\n",
       "      <th></th>\n",
       "      <th></th>\n",
       "      <th></th>\n",
       "      <th></th>\n",
       "      <th></th>\n",
       "      <th></th>\n",
       "      <th></th>\n",
       "      <th></th>\n",
       "      <th></th>\n",
       "      <th></th>\n",
       "      <th></th>\n",
       "      <th></th>\n",
       "    </tr>\n",
       "  </thead>\n",
       "  <tbody>\n",
       "    <tr>\n",
       "      <th>eat_2022_192#para_12</th>\n",
       "      <td>id/ukpga/2010/15_section-60</td>\n",
       "      <td>a_all_high</td>\n",
       "      <td>This was picked up when the paperwork was forw...</td>\n",
       "      <td>A person (A) to whom an application for work i...</td>\n",
       "      <td>High</td>\n",
       "      <td>The case discusses the handling of a pre-emplo...</td>\n",
       "      <td>He ticked the relevant box to state he had a d...</td>\n",
       "      <td>A person (A) to whom an application for work i...</td>\n",
       "      <td>High</td>\n",
       "      <td>The case discusses the claimant's declaration ...</td>\n",
       "      <td>when completing the respondent’s forms, the cl...</td>\n",
       "      <td>A person (A) to whom an application for work i...</td>\n",
       "      <td>High</td>\n",
       "      <td>The case law discusses the employer's handling...</td>\n",
       "      <td>12. In April 2016, the claimant was moved into...</td>\n",
       "      <td>60 Enquiries about disability and health (1) A...</td>\n",
       "    </tr>\n",
       "    <tr>\n",
       "      <th>eat_2022_192#para_18</th>\n",
       "      <td>id/ukpga/2010/15_schedule-8-part-1</td>\n",
       "      <td>a_all_high</td>\n",
       "      <td>[The claimant] agreed in evidence that it was ...</td>\n",
       "      <td>the reference in section 20(3) to a provision,...</td>\n",
       "      <td>High</td>\n",
       "      <td>The case law discusses the reasonableness of t...</td>\n",
       "      <td>He said he was asymptomatic at the time and he...</td>\n",
       "      <td>A must comply with the first, second and third...</td>\n",
       "      <td>High</td>\n",
       "      <td>The case discusses the respondent's handling o...</td>\n",
       "      <td>NaN</td>\n",
       "      <td>NaN</td>\n",
       "      <td>NaN</td>\n",
       "      <td>NaN</td>\n",
       "      <td>18. Subsequently, the claimant was referred to...</td>\n",
       "      <td>Part 1 Introductory Preliminary 1 This Schedul...</td>\n",
       "    </tr>\n",
       "  </tbody>\n",
       "</table>\n",
       "</div>"
      ],
      "text/plain": [
       "                                              section_id    category  \\\n",
       "para_id                                                                \n",
       "eat_2022_192#para_12         id/ukpga/2010/15_section-60  a_all_high   \n",
       "eat_2022_192#para_18  id/ukpga/2010/15_schedule-8-part-1  a_all_high   \n",
       "\n",
       "                                              case_law_excerpt_deepseek  \\\n",
       "para_id                                                                   \n",
       "eat_2022_192#para_12  This was picked up when the paperwork was forw...   \n",
       "eat_2022_192#para_18  [The claimant] agreed in evidence that it was ...   \n",
       "\n",
       "                                           legislation_excerpt_deepseek  \\\n",
       "para_id                                                                   \n",
       "eat_2022_192#para_12  A person (A) to whom an application for work i...   \n",
       "eat_2022_192#para_18  the reference in section 20(3) to a provision,...   \n",
       "\n",
       "                     confidence_deepseek  \\\n",
       "para_id                                    \n",
       "eat_2022_192#para_12                High   \n",
       "eat_2022_192#para_18                High   \n",
       "\n",
       "                                                     reasoning_deepseek  \\\n",
       "para_id                                                                   \n",
       "eat_2022_192#para_12  The case discusses the handling of a pre-emplo...   \n",
       "eat_2022_192#para_18  The case law discusses the reasonableness of t...   \n",
       "\n",
       "                                                 case_law_excerpt_llama  \\\n",
       "para_id                                                                   \n",
       "eat_2022_192#para_12  He ticked the relevant box to state he had a d...   \n",
       "eat_2022_192#para_18  He said he was asymptomatic at the time and he...   \n",
       "\n",
       "                                              legislation_excerpt_llama  \\\n",
       "para_id                                                                   \n",
       "eat_2022_192#para_12  A person (A) to whom an application for work i...   \n",
       "eat_2022_192#para_18  A must comply with the first, second and third...   \n",
       "\n",
       "                     confidence_llama  \\\n",
       "para_id                                 \n",
       "eat_2022_192#para_12             High   \n",
       "eat_2022_192#para_18             High   \n",
       "\n",
       "                                                        reasoning_llama  \\\n",
       "para_id                                                                   \n",
       "eat_2022_192#para_12  The case discusses the claimant's declaration ...   \n",
       "eat_2022_192#para_18  The case discusses the respondent's handling o...   \n",
       "\n",
       "                                                case_law_excerpt_openai  \\\n",
       "para_id                                                                   \n",
       "eat_2022_192#para_12  when completing the respondent’s forms, the cl...   \n",
       "eat_2022_192#para_18                                                NaN   \n",
       "\n",
       "                                             legislation_excerpt_openai  \\\n",
       "para_id                                                                   \n",
       "eat_2022_192#para_12  A person (A) to whom an application for work i...   \n",
       "eat_2022_192#para_18                                                NaN   \n",
       "\n",
       "                     confidence_openai  \\\n",
       "para_id                                  \n",
       "eat_2022_192#para_12              High   \n",
       "eat_2022_192#para_18               NaN   \n",
       "\n",
       "                                                       reasoning_openai  \\\n",
       "para_id                                                                   \n",
       "eat_2022_192#para_12  The case law discusses the employer's handling...   \n",
       "eat_2022_192#para_18                                                NaN   \n",
       "\n",
       "                                                             paragraphs  \\\n",
       "para_id                                                                   \n",
       "eat_2022_192#para_12  12. In April 2016, the claimant was moved into...   \n",
       "eat_2022_192#para_18  18. Subsequently, the claimant was referred to...   \n",
       "\n",
       "                                                           section_text  \n",
       "para_id                                                                  \n",
       "eat_2022_192#para_12  60 Enquiries about disability and health (1) A...  \n",
       "eat_2022_192#para_18  Part 1 Introductory Preliminary 1 This Schedul...  "
      ]
     },
     "execution_count": 2,
     "metadata": {},
     "output_type": "execute_result"
    }
   ],
   "source": [
    "df_final.head(2)"
   ]
  },
  {
   "cell_type": "code",
   "execution_count": 3,
   "id": "f5a351d9",
   "metadata": {},
   "outputs": [
    {
     "data": {
      "text/plain": [
       "array(['a_all_high', 'b_2high_1low', 'c_1high_2low', 'd_all_low'],\n",
       "      dtype=object)"
      ]
     },
     "execution_count": 3,
     "metadata": {},
     "output_type": "execute_result"
    }
   ],
   "source": [
    "df_final.category.unique()"
   ]
  },
  {
   "cell_type": "code",
   "execution_count": 4,
   "id": "f0ca9cd5",
   "metadata": {},
   "outputs": [],
   "source": [
    "df_for_accepted = df_final[df_final['category'].isin(['c_1high_2low'])]\n"
   ]
  },
  {
   "cell_type": "code",
   "execution_count": 5,
   "id": "b799f2df",
   "metadata": {},
   "outputs": [
    {
     "data": {
      "text/plain": [
       "240"
      ]
     },
     "execution_count": 5,
     "metadata": {},
     "output_type": "execute_result"
    }
   ],
   "source": [
    "#number of unique para_ids where confidence_deepseek is High\n",
    "df_for_accepted[df_for_accepted['confidence_deepseek'] == 'High'].index.nunique()"
   ]
  },
  {
   "cell_type": "code",
   "execution_count": 6,
   "id": "659c80c8",
   "metadata": {},
   "outputs": [
    {
     "data": {
      "text/plain": [
       "124"
      ]
     },
     "execution_count": 6,
     "metadata": {},
     "output_type": "execute_result"
    }
   ],
   "source": [
    "df_for_accepted[df_for_accepted['confidence_llama'] == 'High'].index.nunique()"
   ]
  },
  {
   "cell_type": "code",
   "execution_count": 7,
   "id": "f731fd4d",
   "metadata": {},
   "outputs": [
    {
     "data": {
      "text/plain": [
       "865"
      ]
     },
     "execution_count": 7,
     "metadata": {},
     "output_type": "execute_result"
    }
   ],
   "source": [
    "df_for_accepted[df_for_accepted['confidence_openai'] == 'High'].index.nunique()"
   ]
  },
  {
   "cell_type": "code",
   "execution_count": null,
   "id": "9e118127",
   "metadata": {},
   "outputs": [
    {
     "data": {
      "text/plain": [
       "confidence_deepseek\n",
       "Low     989\n",
       "High    240\n",
       "Name: count, dtype: int64"
      ]
     },
     "execution_count": 10,
     "metadata": {},
     "output_type": "execute_result"
    }
   ],
   "source": [
    "#number of unique values in the 'confidence_deepseek' column\n",
    "df_for_accepted.confidence_deepseek.value_counts()"
   ]
  },
  {
   "cell_type": "code",
   "execution_count": 54,
   "id": "c2602c49",
   "metadata": {},
   "outputs": [
    {
     "name": "stderr",
     "output_type": "stream",
     "text": [
      "/var/folders/_6/nv4mjz1j03qg3185mdyhd5h40000gn/T/ipykernel_41995/1415362145.py:1: SettingWithCopyWarning: \n",
      "A value is trying to be set on a copy of a slice from a DataFrame.\n",
      "Try using .loc[row_indexer,col_indexer] = value instead\n",
      "\n",
      "See the caveats in the documentation: https://pandas.pydata.org/pandas-docs/stable/user_guide/indexing.html#returning-a-view-versus-a-copy\n",
      "  df_for_accepted['para_id'] = df_for_accepted.index\n"
     ]
    }
   ],
   "source": [
    "df_for_accepted['para_id'] = df_for_accepted.index"
   ]
  },
  {
   "cell_type": "code",
   "execution_count": 55,
   "id": "96690ed5",
   "metadata": {},
   "outputs": [
    {
     "data": {
      "text/plain": [
       "para_id\n",
       "eat_2022_192#para_71            2\n",
       "ewhc_ch_2012_731#para_78        2\n",
       "ewhc_ch_2010_938#para_28        2\n",
       "ewhc_ch_2011_3782#para_14       2\n",
       "ewhc_ch_2011_3782#para_18       2\n",
       "                               ..\n",
       "ewhc_admin_2019_84#para_34      1\n",
       "ewhc_admin_2020_1905#para_28    1\n",
       "ewca_crim_2024_313#para_30      1\n",
       "ewhc_comm_2015_2748#para_35     1\n",
       "ewhc_admin_2007_807#para_87     1\n",
       "Name: count, Length: 1229, dtype: int64"
      ]
     },
     "execution_count": 55,
     "metadata": {},
     "output_type": "execute_result"
    }
   ],
   "source": [
    "df_for_accepted.para_id.value_counts()"
   ]
  },
  {
   "cell_type": "code",
   "execution_count": 57,
   "id": "48a54aa7",
   "metadata": {},
   "outputs": [
    {
     "data": {
      "text/html": [
       "<div>\n",
       "<style scoped>\n",
       "    .dataframe tbody tr th:only-of-type {\n",
       "        vertical-align: middle;\n",
       "    }\n",
       "\n",
       "    .dataframe tbody tr th {\n",
       "        vertical-align: top;\n",
       "    }\n",
       "\n",
       "    .dataframe thead th {\n",
       "        text-align: right;\n",
       "    }\n",
       "</style>\n",
       "<table border=\"1\" class=\"dataframe\">\n",
       "  <thead>\n",
       "    <tr style=\"text-align: right;\">\n",
       "      <th></th>\n",
       "      <th>section_id</th>\n",
       "      <th>category</th>\n",
       "      <th>case_law_excerpt_deepseek</th>\n",
       "      <th>legislation_excerpt_deepseek</th>\n",
       "      <th>confidence_deepseek</th>\n",
       "      <th>reasoning_deepseek</th>\n",
       "      <th>case_law_excerpt_llama</th>\n",
       "      <th>legislation_excerpt_llama</th>\n",
       "      <th>confidence_llama</th>\n",
       "      <th>reasoning_llama</th>\n",
       "      <th>case_law_excerpt_openai</th>\n",
       "      <th>legislation_excerpt_openai</th>\n",
       "      <th>confidence_openai</th>\n",
       "      <th>reasoning_openai</th>\n",
       "      <th>paragraphs</th>\n",
       "      <th>section_text</th>\n",
       "      <th>para_id</th>\n",
       "    </tr>\n",
       "    <tr>\n",
       "      <th>para_id</th>\n",
       "      <th></th>\n",
       "      <th></th>\n",
       "      <th></th>\n",
       "      <th></th>\n",
       "      <th></th>\n",
       "      <th></th>\n",
       "      <th></th>\n",
       "      <th></th>\n",
       "      <th></th>\n",
       "      <th></th>\n",
       "      <th></th>\n",
       "      <th></th>\n",
       "      <th></th>\n",
       "      <th></th>\n",
       "      <th></th>\n",
       "      <th></th>\n",
       "      <th></th>\n",
       "    </tr>\n",
       "  </thead>\n",
       "  <tbody>\n",
       "    <tr>\n",
       "      <th>ewhc_ch_2012_731#para_78</th>\n",
       "      <td>id/ukpga/1980/58_section-37</td>\n",
       "      <td>c_1high_2low</td>\n",
       "      <td>It is worth emphasising that the arguments bef...</td>\n",
       "      <td>Except as otherwise expressly provided in this...</td>\n",
       "      <td>Low</td>\n",
       "      <td>The case discusses the application of the Act ...</td>\n",
       "      <td>NaN</td>\n",
       "      <td>NaN</td>\n",
       "      <td>NaN</td>\n",
       "      <td>NaN</td>\n",
       "      <td>NaN</td>\n",
       "      <td>NaN</td>\n",
       "      <td>NaN</td>\n",
       "      <td>NaN</td>\n",
       "      <td>78. It is worth emphasising that the arguments...</td>\n",
       "      <td>37 Application to the Crown and the Duke of Co...</td>\n",
       "      <td>ewhc_ch_2012_731#para_78</td>\n",
       "    </tr>\n",
       "    <tr>\n",
       "      <th>ewhc_ch_2012_731#para_78</th>\n",
       "      <td>id/ukpga/1980/58_section-33</td>\n",
       "      <td>c_1high_2low</td>\n",
       "      <td>NaN</td>\n",
       "      <td>NaN</td>\n",
       "      <td>NaN</td>\n",
       "      <td>NaN</td>\n",
       "      <td>There is no doctrine of “forum non conveniens”...</td>\n",
       "      <td>The court shall have regard to all the circums...</td>\n",
       "      <td>Low</td>\n",
       "      <td>The case law discusses the joining of defendan...</td>\n",
       "      <td>Where a defendant is properly sued within the ...</td>\n",
       "      <td>the court may direct that those provisions sha...</td>\n",
       "      <td>High</td>\n",
       "      <td>The paragraph discusses the jurisdictional pri...</td>\n",
       "      <td>78. It is worth emphasising that the arguments...</td>\n",
       "      <td>33 Discretionary exclusion of time limit for a...</td>\n",
       "      <td>ewhc_ch_2012_731#para_78</td>\n",
       "    </tr>\n",
       "  </tbody>\n",
       "</table>\n",
       "</div>"
      ],
      "text/plain": [
       "                                           section_id      category  \\\n",
       "para_id                                                               \n",
       "ewhc_ch_2012_731#para_78  id/ukpga/1980/58_section-37  c_1high_2low   \n",
       "ewhc_ch_2012_731#para_78  id/ukpga/1980/58_section-33  c_1high_2low   \n",
       "\n",
       "                                                  case_law_excerpt_deepseek  \\\n",
       "para_id                                                                       \n",
       "ewhc_ch_2012_731#para_78  It is worth emphasising that the arguments bef...   \n",
       "ewhc_ch_2012_731#para_78                                                NaN   \n",
       "\n",
       "                                               legislation_excerpt_deepseek  \\\n",
       "para_id                                                                       \n",
       "ewhc_ch_2012_731#para_78  Except as otherwise expressly provided in this...   \n",
       "ewhc_ch_2012_731#para_78                                                NaN   \n",
       "\n",
       "                         confidence_deepseek  \\\n",
       "para_id                                        \n",
       "ewhc_ch_2012_731#para_78                 Low   \n",
       "ewhc_ch_2012_731#para_78                 NaN   \n",
       "\n",
       "                                                         reasoning_deepseek  \\\n",
       "para_id                                                                       \n",
       "ewhc_ch_2012_731#para_78  The case discusses the application of the Act ...   \n",
       "ewhc_ch_2012_731#para_78                                                NaN   \n",
       "\n",
       "                                                     case_law_excerpt_llama  \\\n",
       "para_id                                                                       \n",
       "ewhc_ch_2012_731#para_78                                                NaN   \n",
       "ewhc_ch_2012_731#para_78  There is no doctrine of “forum non conveniens”...   \n",
       "\n",
       "                                                  legislation_excerpt_llama  \\\n",
       "para_id                                                                       \n",
       "ewhc_ch_2012_731#para_78                                                NaN   \n",
       "ewhc_ch_2012_731#para_78  The court shall have regard to all the circums...   \n",
       "\n",
       "                         confidence_llama  \\\n",
       "para_id                                     \n",
       "ewhc_ch_2012_731#para_78              NaN   \n",
       "ewhc_ch_2012_731#para_78              Low   \n",
       "\n",
       "                                                            reasoning_llama  \\\n",
       "para_id                                                                       \n",
       "ewhc_ch_2012_731#para_78                                                NaN   \n",
       "ewhc_ch_2012_731#para_78  The case law discusses the joining of defendan...   \n",
       "\n",
       "                                                    case_law_excerpt_openai  \\\n",
       "para_id                                                                       \n",
       "ewhc_ch_2012_731#para_78                                                NaN   \n",
       "ewhc_ch_2012_731#para_78  Where a defendant is properly sued within the ...   \n",
       "\n",
       "                                                 legislation_excerpt_openai  \\\n",
       "para_id                                                                       \n",
       "ewhc_ch_2012_731#para_78                                                NaN   \n",
       "ewhc_ch_2012_731#para_78  the court may direct that those provisions sha...   \n",
       "\n",
       "                         confidence_openai  \\\n",
       "para_id                                      \n",
       "ewhc_ch_2012_731#para_78               NaN   \n",
       "ewhc_ch_2012_731#para_78              High   \n",
       "\n",
       "                                                           reasoning_openai  \\\n",
       "para_id                                                                       \n",
       "ewhc_ch_2012_731#para_78                                                NaN   \n",
       "ewhc_ch_2012_731#para_78  The paragraph discusses the jurisdictional pri...   \n",
       "\n",
       "                                                                 paragraphs  \\\n",
       "para_id                                                                       \n",
       "ewhc_ch_2012_731#para_78  78. It is worth emphasising that the arguments...   \n",
       "ewhc_ch_2012_731#para_78  78. It is worth emphasising that the arguments...   \n",
       "\n",
       "                                                               section_text  \\\n",
       "para_id                                                                       \n",
       "ewhc_ch_2012_731#para_78  37 Application to the Crown and the Duke of Co...   \n",
       "ewhc_ch_2012_731#para_78  33 Discretionary exclusion of time limit for a...   \n",
       "\n",
       "                                           para_id  \n",
       "para_id                                             \n",
       "ewhc_ch_2012_731#para_78  ewhc_ch_2012_731#para_78  \n",
       "ewhc_ch_2012_731#para_78  ewhc_ch_2012_731#para_78  "
      ]
     },
     "execution_count": 57,
     "metadata": {},
     "output_type": "execute_result"
    }
   ],
   "source": [
    "df_for_accepted[df_for_accepted['para_id']== 'ewhc_ch_2012_731#para_78']"
   ]
  },
  {
   "cell_type": "code",
   "execution_count": 15,
   "id": "06255877",
   "metadata": {},
   "outputs": [],
   "source": [
    "df_for_decision = df_final[df_final['category'].isin(['a_all_high', 'b_2high_1low'])]\n"
   ]
  },
  {
   "cell_type": "code",
   "execution_count": 16,
   "id": "72a3ad6e",
   "metadata": {},
   "outputs": [
    {
     "data": {
      "text/html": [
       "<div>\n",
       "<style scoped>\n",
       "    .dataframe tbody tr th:only-of-type {\n",
       "        vertical-align: middle;\n",
       "    }\n",
       "\n",
       "    .dataframe tbody tr th {\n",
       "        vertical-align: top;\n",
       "    }\n",
       "\n",
       "    .dataframe thead th {\n",
       "        text-align: right;\n",
       "    }\n",
       "</style>\n",
       "<table border=\"1\" class=\"dataframe\">\n",
       "  <thead>\n",
       "    <tr style=\"text-align: right;\">\n",
       "      <th></th>\n",
       "      <th>section_id</th>\n",
       "      <th>category</th>\n",
       "      <th>case_law_excerpt_deepseek</th>\n",
       "      <th>legislation_excerpt_deepseek</th>\n",
       "      <th>confidence_deepseek</th>\n",
       "      <th>reasoning_deepseek</th>\n",
       "      <th>case_law_excerpt_llama</th>\n",
       "      <th>legislation_excerpt_llama</th>\n",
       "      <th>confidence_llama</th>\n",
       "      <th>reasoning_llama</th>\n",
       "      <th>case_law_excerpt_openai</th>\n",
       "      <th>legislation_excerpt_openai</th>\n",
       "      <th>confidence_openai</th>\n",
       "      <th>reasoning_openai</th>\n",
       "      <th>paragraphs</th>\n",
       "      <th>section_text</th>\n",
       "    </tr>\n",
       "    <tr>\n",
       "      <th>para_id</th>\n",
       "      <th></th>\n",
       "      <th></th>\n",
       "      <th></th>\n",
       "      <th></th>\n",
       "      <th></th>\n",
       "      <th></th>\n",
       "      <th></th>\n",
       "      <th></th>\n",
       "      <th></th>\n",
       "      <th></th>\n",
       "      <th></th>\n",
       "      <th></th>\n",
       "      <th></th>\n",
       "      <th></th>\n",
       "      <th></th>\n",
       "      <th></th>\n",
       "    </tr>\n",
       "  </thead>\n",
       "  <tbody>\n",
       "    <tr>\n",
       "      <th>eat_2022_192#para_12</th>\n",
       "      <td>id/ukpga/2010/15_section-60</td>\n",
       "      <td>a_all_high</td>\n",
       "      <td>This was picked up when the paperwork was forw...</td>\n",
       "      <td>A person (A) to whom an application for work i...</td>\n",
       "      <td>High</td>\n",
       "      <td>The case discusses the handling of a pre-emplo...</td>\n",
       "      <td>He ticked the relevant box to state he had a d...</td>\n",
       "      <td>A person (A) to whom an application for work i...</td>\n",
       "      <td>High</td>\n",
       "      <td>The case discusses the claimant's declaration ...</td>\n",
       "      <td>when completing the respondent’s forms, the cl...</td>\n",
       "      <td>A person (A) to whom an application for work i...</td>\n",
       "      <td>High</td>\n",
       "      <td>The case law discusses the employer's handling...</td>\n",
       "      <td>12. In April 2016, the claimant was moved into...</td>\n",
       "      <td>60 Enquiries about disability and health (1) A...</td>\n",
       "    </tr>\n",
       "  </tbody>\n",
       "</table>\n",
       "</div>"
      ],
      "text/plain": [
       "                                       section_id    category  \\\n",
       "para_id                                                         \n",
       "eat_2022_192#para_12  id/ukpga/2010/15_section-60  a_all_high   \n",
       "\n",
       "                                              case_law_excerpt_deepseek  \\\n",
       "para_id                                                                   \n",
       "eat_2022_192#para_12  This was picked up when the paperwork was forw...   \n",
       "\n",
       "                                           legislation_excerpt_deepseek  \\\n",
       "para_id                                                                   \n",
       "eat_2022_192#para_12  A person (A) to whom an application for work i...   \n",
       "\n",
       "                     confidence_deepseek  \\\n",
       "para_id                                    \n",
       "eat_2022_192#para_12                High   \n",
       "\n",
       "                                                     reasoning_deepseek  \\\n",
       "para_id                                                                   \n",
       "eat_2022_192#para_12  The case discusses the handling of a pre-emplo...   \n",
       "\n",
       "                                                 case_law_excerpt_llama  \\\n",
       "para_id                                                                   \n",
       "eat_2022_192#para_12  He ticked the relevant box to state he had a d...   \n",
       "\n",
       "                                              legislation_excerpt_llama  \\\n",
       "para_id                                                                   \n",
       "eat_2022_192#para_12  A person (A) to whom an application for work i...   \n",
       "\n",
       "                     confidence_llama  \\\n",
       "para_id                                 \n",
       "eat_2022_192#para_12             High   \n",
       "\n",
       "                                                        reasoning_llama  \\\n",
       "para_id                                                                   \n",
       "eat_2022_192#para_12  The case discusses the claimant's declaration ...   \n",
       "\n",
       "                                                case_law_excerpt_openai  \\\n",
       "para_id                                                                   \n",
       "eat_2022_192#para_12  when completing the respondent’s forms, the cl...   \n",
       "\n",
       "                                             legislation_excerpt_openai  \\\n",
       "para_id                                                                   \n",
       "eat_2022_192#para_12  A person (A) to whom an application for work i...   \n",
       "\n",
       "                     confidence_openai  \\\n",
       "para_id                                  \n",
       "eat_2022_192#para_12              High   \n",
       "\n",
       "                                                       reasoning_openai  \\\n",
       "para_id                                                                   \n",
       "eat_2022_192#para_12  The case law discusses the employer's handling...   \n",
       "\n",
       "                                                             paragraphs  \\\n",
       "para_id                                                                   \n",
       "eat_2022_192#para_12  12. In April 2016, the claimant was moved into...   \n",
       "\n",
       "                                                           section_text  \n",
       "para_id                                                                  \n",
       "eat_2022_192#para_12  60 Enquiries about disability and health (1) A...  "
      ]
     },
     "execution_count": 16,
     "metadata": {},
     "output_type": "execute_result"
    }
   ],
   "source": [
    "df_for_decision.head(1)"
   ]
  },
  {
   "cell_type": "code",
   "execution_count": 16,
   "id": "2c1ddb6f",
   "metadata": {},
   "outputs": [
    {
     "data": {
      "text/plain": [
       "11714"
      ]
     },
     "execution_count": 16,
     "metadata": {},
     "output_type": "execute_result"
    }
   ],
   "source": [
    "len(df_for_decision)"
   ]
  },
  {
   "cell_type": "code",
   "execution_count": 17,
   "id": "0c50cda4",
   "metadata": {},
   "outputs": [
    {
     "data": {
      "text/plain": [
       "Index(['section_id', 'category', 'case_law_excerpt_deepseek',\n",
       "       'legislation_excerpt_deepseek', 'confidence_deepseek',\n",
       "       'reasoning_deepseek', 'case_law_excerpt_llama',\n",
       "       'legislation_excerpt_llama', 'confidence_llama', 'reasoning_llama',\n",
       "       'case_law_excerpt_openai', 'legislation_excerpt_openai',\n",
       "       'confidence_openai', 'reasoning_openai', 'paragraphs', 'section_text'],\n",
       "      dtype='object')"
      ]
     },
     "execution_count": 17,
     "metadata": {},
     "output_type": "execute_result"
    }
   ],
   "source": [
    "df_for_decision.columns"
   ]
  },
  {
   "cell_type": "code",
   "execution_count": 23,
   "id": "9b8a8f10",
   "metadata": {},
   "outputs": [
    {
     "name": "stdout",
     "output_type": "stream",
     "text": [
      "Created decision dictionary for 7235 para_ids\n",
      "\n",
      "Example entries:\n",
      "\n",
      "Para_id: eat_2022_192#para_12\n",
      "  Para_text: 12. In April 2016, the claimant was moved into a complaints resolution manager role. He performed we...\n",
      "  Section_1_id: id/ukpga/2010/15_section-60\n",
      "  Section_1_text: 60 Enquiries about disability and health (1) A person (A) to whom an application for work is made mu...\n",
      "  Section_2_id: Nil\n",
      "  Section_2_text: Nil...\n",
      "  High_confidence_pairs count: 3\n",
      "    Pair 1: Model=deepseek, Section=id/ukpga/2010/15_section-60\n",
      "      Case_law: This was picked up when the paperwork was forwarde...\n",
      "      Legislation: A person (A) to whom an application for work is ma...\n",
      "    Pair 2: Model=llama, Section=id/ukpga/2010/15_section-60\n",
      "      Case_law: He ticked the relevant box to state he had a disab...\n",
      "      Legislation: A person (A) to whom an application for work is ma...\n",
      "\n",
      "Para_id: eat_2022_192#para_18\n",
      "  Para_text: 18. Subsequently, the claimant was referred to occupational health and an assessment took place with...\n",
      "  Section_1_id: id/ukpga/2010/15_schedule-8-part-1\n",
      "  Section_1_text: Part 1 Introductory Preliminary 1 This Schedule applies where a duty to make reasonable adjustments ...\n",
      "  Section_2_id: id/ukpga/2010/15_section-60\n",
      "  Section_2_text: 60 Enquiries about disability and health (1) A person (A) to whom an application for work is made mu...\n",
      "  High_confidence_pairs count: 3\n",
      "    Pair 1: Model=deepseek, Section=id/ukpga/2010/15_schedule-8-part-1\n",
      "      Case_law: [The claimant] agreed in evidence that it was reas...\n",
      "      Legislation: the reference in section 20(3) to a provision, cri...\n",
      "    Pair 2: Model=llama, Section=id/ukpga/2010/15_schedule-8-part-1\n",
      "      Case_law: He said he was asymptomatic at the time and he did...\n",
      "      Legislation: A must comply with the first, second and third req...\n",
      "\n",
      "Para_id: eat_2022_192#para_21\n",
      "  Para_text: 21. The claimant continued to be signed off work by his GP; his fit notes referencing “ depressive s...\n",
      "  Section_1_id: id/ukpga/2010/15_schedule-1-part-1\n",
      "  Section_1_text: Part 1 Determination of disability Impairment 1 Regulations may make provision for a condition of a ...\n",
      "  Section_2_id: Nil\n",
      "  Section_2_text: Nil...\n",
      "  High_confidence_pairs count: 2\n",
      "    Pair 1: Model=deepseek, Section=id/ukpga/2010/15_schedule-1-part-1\n",
      "      Case_law: We do not accept that PRE is a cause of his stress...\n",
      "      Legislation: An impairment is to be treated as having a substan...\n",
      "    Pair 2: Model=openai, Section=id/ukpga/2010/15_schedule-1-part-1\n",
      "      Case_law: We do not accept that PRE is a cause of his stress...\n",
      "      Legislation: The effect of an impairment is long-term if— (a) i...\n",
      "\n",
      "Saved dictionary to 'decision_dictionary.json'\n"
     ]
    }
   ],
   "source": [
    "def create_decision_dictionary(df_for_decision):\n",
    "    dict_for_decision = {}\n",
    "    \n",
    "    # Get unique para_ids from the index\n",
    "    for para_id in df_for_decision.index.unique():\n",
    "        # Get all records for this para_id using .loc\n",
    "        para_records = df_for_decision.loc[para_id]\n",
    "        \n",
    "        # Handle case where there's only one record (Series) vs multiple records (DataFrame)\n",
    "        if isinstance(para_records, pd.Series):\n",
    "            para_records = pd.DataFrame([para_records])\n",
    "        \n",
    "        # Get para_text (should be same across all records for this para_id)\n",
    "        para_text = para_records['paragraphs'].iloc[0]\n",
    "        \n",
    "        # Get unique section_ids and their corresponding section_texts\n",
    "        sections_info = para_records[['section_id', 'section_text']].drop_duplicates()\n",
    "        \n",
    "        # Create section entries\n",
    "        section_1_id = 'Nil'\n",
    "        section_1_text = 'Nil'\n",
    "        section_2_id = 'Nil' \n",
    "        section_2_text = 'Nil'\n",
    "        \n",
    "        if len(sections_info) > 0:\n",
    "            section_1_id = sections_info.iloc[0]['section_id']\n",
    "            section_1_text = sections_info.iloc[0]['section_text']\n",
    "            \n",
    "        if len(sections_info) > 1:\n",
    "            section_2_id = sections_info.iloc[1]['section_id']\n",
    "            section_2_text = sections_info.iloc[1]['section_text']\n",
    "        \n",
    "        # Collect high confidence pairs\n",
    "        high_confidence_pairs = []\n",
    "        \n",
    "        for _, row in para_records.iterrows():\n",
    "            # Check each model for High confidence\n",
    "            models_to_check = [\n",
    "                ('deepseek', 'case_law_excerpt_deepseek', 'legislation_excerpt_deepseek', 'confidence_deepseek', 'reasoning_deepseek'),\n",
    "                ('llama', 'case_law_excerpt_llama', 'legislation_excerpt_llama', 'confidence_llama', 'reasoning_llama'),\n",
    "                ('openai', 'case_law_excerpt_openai', 'legislation_excerpt_openai', 'confidence_openai', 'reasoning_openai')\n",
    "            ]\n",
    "            \n",
    "            # Add Claude if it exists in the dataframe\n",
    "            if 'confidence_claude' in row.index:\n",
    "                models_to_check.append(('claude', 'case_law_excerpt_claude', 'legislation_excerpt_claude', 'confidence_claude', 'reasoning_claude'))\n",
    "            \n",
    "            for model_name, case_col, leg_col, conf_col, reason_col in models_to_check:\n",
    "                if pd.notna(row[conf_col]) and row[conf_col] == 'High':\n",
    "                    pair = {\n",
    "                        'case_law_excerpt': row[case_col] if pd.notna(row[case_col]) else '',\n",
    "                        'legislation_excerpt': row[leg_col] if pd.notna(row[leg_col]) else '',\n",
    "                        'model': model_name,\n",
    "                        'reasoning': row[reason_col] if pd.notna(row[reason_col]) else '',\n",
    "                        'section_id': row['section_id'],\n",
    "                    }\n",
    "                    high_confidence_pairs.append(pair)\n",
    "        \n",
    "        # Create the dictionary entry for this para_id\n",
    "        dict_for_decision[para_id] = {\n",
    "            'para_id': para_id,\n",
    "            'para_text': para_text,\n",
    "            'section_1_id': section_1_id,\n",
    "            'section_1_text': section_1_text,\n",
    "            'section_2_id': section_2_id,\n",
    "            'section_2_text': section_2_text,\n",
    "            'high_confidence_pairs': high_confidence_pairs\n",
    "        }\n",
    "    \n",
    "    return dict_for_decision\n",
    "\n",
    "# Create the dictionary\n",
    "dict_for_decision = create_decision_dictionary(df_for_decision)\n",
    "\n",
    "# Print summary\n",
    "print(f\"Created decision dictionary for {len(dict_for_decision)} para_ids\")\n",
    "\n",
    "# Show example entries\n",
    "print(\"\\nExample entries:\")\n",
    "for i, (para_id, entry) in enumerate(dict_for_decision.items()):\n",
    "    if i >= 3:  # Show first 3 examples\n",
    "        break\n",
    "    print(f\"\\nPara_id: {para_id}\")\n",
    "    print(f\"  Para_text: {entry['para_text'][:100]}...\")\n",
    "    print(f\"  Section_1_id: {entry['section_1_id']}\")\n",
    "    print(f\"  Section_1_text: {entry['section_1_text'][:100]}...\")\n",
    "    print(f\"  Section_2_id: {entry['section_2_id']}\")\n",
    "    print(f\"  Section_2_text: {entry['section_2_text'][:100]}...\")\n",
    "    print(f\"  High_confidence_pairs count: {len(entry['high_confidence_pairs'])}\")\n",
    "    \n",
    "    # Show first few pairs\n",
    "    for j, pair in enumerate(entry['high_confidence_pairs'][:2]):\n",
    "        print(f\"    Pair {j+1}: Model={pair['model']}, Section={pair['section_id']}\")\n",
    "        print(f\"      Case_law: {pair['case_law_excerpt'][:50]}...\")\n",
    "        print(f\"      Legislation: {pair['legislation_excerpt'][:50]}...\")\n",
    "\n",
    "# Optional: Save to JSON for LLM processing\n",
    "import json\n",
    "with open('decision_dictionary.json', 'w') as f:\n",
    "    json.dump(dict_for_decision, f, indent=2)\n",
    "print(f\"\\nSaved dictionary to 'decision_dictionary.json'\")"
   ]
  },
  {
   "cell_type": "code",
   "execution_count": null,
   "id": "06a19f9d",
   "metadata": {},
   "outputs": [],
   "source": [
    "\n",
    "import json\n",
    "\n",
    "def create_llm_decision_prompt():\n",
    "    \"\"\"Create the system prompt for LLM decision making\"\"\"\n",
    "    \n",
    "    system_prompt = \"\"\"You are an expert legal analyst tasked with selecting excerpts of legislation most\n",
    "relevant to a given case law paragraph, based on results produced by AI models.\n",
    "TASK: Analyze the provided section, paragraph, and list of excerpts. Each ex-\n",
    "cerpt was extracted verbatim from the section and was identified by an AI model\n",
    "as applicable to the paragraph with high confidence. Each model also provided a\n",
    "relevant excerpt from the paragraph along with an explanation to justify its choice.\n",
    "From the list of provided excerpts, you must select the one that best applies to the\n",
    "paragraph. ALWAYS SELECT ONE EXCERPT (NEVER LEAVE IT EMPTY).\n",
    "EVALUATION CRITERIA:\n",
    "- Relevance to paragraph context\n",
    "- Quality and specificity of legal terms\n",
    "- Clear connection between case law and legislation\n",
    "- Avoid redundant/duplicate content\n",
    "- Do not report explanations in the output\n",
    "RESPONSE FORMAT: Return only a valid JSON dictionary:\n",
    "{\n",
    "\"para_id\": \"original para id\",\n",
    "\"model\": \"model name\",\n",
    "\"section id\": \"section id\",\n",
    "\"legislation_excerpt\": \"selected legislation excerpt\",\n",
    "\"case_law_excerpt\":\"selected case_law excerpt\"\n",
    "}\n",
    "No explanations, just the JSON response.\"\"\"\n",
    "    \n",
    "    return system_prompt\n",
    "\n",
    "def create_user_prompt_template():\n",
    "    \"\"\"Create the user prompt template\"\"\"\n",
    "    \n",
    "    user_prompt = \"\"\"\n",
    "    para_id: {para_id}\n",
    "    PARAGRAPH TEXT:\n",
    "{para_text}\n",
    "\n",
    "SECTION 1 (ID: {section_1_id}):\n",
    "{section_1_text}\n",
    "\n",
    "SECTION 2 (ID: {section_2_id}):\n",
    "{section_2_text}\n",
    "\n",
    "HIGH CONFIDENCE PAIRS:\n",
    "{pairs_text}\n",
    "\n",
    "Select the most relevant pair(s) following the rules. Return JSON only.\"\"\"\n",
    "\n",
    "    return user_prompt\n",
    "\n",
    "def format_pairs_for_prompt(pairs):\n",
    "    \"\"\"Format high confidence pairs for the prompt\"\"\"\n",
    "    pairs_text = \"\"\n",
    "    for i, pair in enumerate(pairs, 1):\n",
    "        pairs_text += f\"\"\"\n",
    "Pair {i}:\n",
    "- Model: {pair['model']}\n",
    "- Section: {pair['section_id']}\n",
    "- Case Law excerpt: {pair['case_law_excerpt']}\n",
    "- Legislation excerpt: {pair['legislation_excerpt']}\n",
    "- Reasoning: {pair['reasoning']}\n",
    "\"\"\"\n",
    "    return pairs_text.strip()\n",
    "\n",
    "def create_jsonl_for_llm_decision(dict_for_decision, output_file='../helper_data_files/llm_decision_tasks.jsonl'):\n",
    "    \"\"\"Create JSONL file for LLM decision making\"\"\"\n",
    "    \n",
    "    system_prompt = create_llm_decision_prompt()\n",
    "    user_prompt_template = create_user_prompt_template()\n",
    "    i = 0\n",
    "    with open(output_file, 'w') as f:\n",
    "        \n",
    "        for para_id, entry in dict_for_decision.items():\n",
    "            i = i+1\n",
    "            # Format the pairs for the prompt\n",
    "            # print(entry['high_confidence_pairs'])\n",
    "            # print(\"+++++++++++++++++++++++++++++++++++++++++++\")\n",
    "            pairs_text = format_pairs_for_prompt(entry['high_confidence_pairs'])\n",
    "            \n",
    "            # Create user prompt\n",
    "            user_prompt = user_prompt_template.format(\n",
    "                para_id=para_id,\n",
    "\n",
    "                para_text=entry['para_text'],\n",
    "                section_1_id=entry['section_1_id'],\n",
    "                section_1_text=entry['section_1_text'],\n",
    "                section_2_id=entry['section_2_id'],\n",
    "                section_2_text=entry['section_2_text'],\n",
    "                pairs_text=pairs_text\n",
    "            )\n",
    "            \n",
    "            # Create JSONL entry\n",
    "            jsonl_entry = {\n",
    "                \"custom_id\": f\"request_{i}\",\n",
    "                \"method\": \"POST\",\n",
    "                \"url\": \"/v1/chat/completions\",\n",
    "                \"body\": {\n",
    "                    \"model\": \"claude-sonnet-4-20250514\",  # or your preferred model\n",
    "                    \"messages\": [\n",
    "                        {\n",
    "                            \"role\": \"system\",\n",
    "                            \"content\": system_prompt\n",
    "                        },\n",
    "                        {\n",
    "                            \"role\": \"user\", \n",
    "                            \"content\": user_prompt\n",
    "                        }\n",
    "                    ],\n",
    "                    \"max_tokens\": 1000,\n",
    "                    \"temperature\": 0.1\n",
    "                }\n",
    "            }\n",
    "            \n",
    "            # Write to JSONL file\n",
    "            f.write(json.dumps(jsonl_entry) + '\\n')\n",
    "    \n",
    "    print(f\"Created JSONL file: {output_file}\")\n",
    "    print(f\"Total tasks: {len(dict_for_decision)}\")\n",
    "    \n",
    "    return output_file\n",
    "\n"
   ]
  },
  {
   "cell_type": "code",
   "execution_count": 28,
   "id": "40f01b35",
   "metadata": {},
   "outputs": [
    {
     "name": "stdout",
     "output_type": "stream",
     "text": [
      "Created JSONL file: ../helper_data_files/llm_decision_tasks.jsonl\n",
      "Total tasks: 7235\n"
     ]
    }
   ],
   "source": [
    " # Assuming dict_for_decision is already created\n",
    "# Create JSONL file for OpenAI Batch API\n",
    "jsonl_file = create_jsonl_for_llm_decision(dict_for_decision)\n",
    "    \n"
   ]
  },
  {
   "cell_type": "code",
   "execution_count": 8,
   "id": "b236da1a",
   "metadata": {},
   "outputs": [],
   "source": [
    "df_decision_after_resolution = pd.read_csv('../data/final_test/final/reexperiment/fewhot/11August/claude_decision_to_pick_the_pairs.csv', index_col=0)"
   ]
  },
  {
   "cell_type": "code",
   "execution_count": 9,
   "id": "f14760cf",
   "metadata": {},
   "outputs": [
    {
     "data": {
      "text/html": [
       "<div>\n",
       "<style scoped>\n",
       "    .dataframe tbody tr th:only-of-type {\n",
       "        vertical-align: middle;\n",
       "    }\n",
       "\n",
       "    .dataframe tbody tr th {\n",
       "        vertical-align: top;\n",
       "    }\n",
       "\n",
       "    .dataframe thead th {\n",
       "        text-align: right;\n",
       "    }\n",
       "</style>\n",
       "<table border=\"1\" class=\"dataframe\">\n",
       "  <thead>\n",
       "    <tr style=\"text-align: right;\">\n",
       "      <th></th>\n",
       "      <th>para_id</th>\n",
       "      <th>section_id</th>\n",
       "      <th>model</th>\n",
       "      <th>case_law_excerpt</th>\n",
       "      <th>legislation_excerpt</th>\n",
       "    </tr>\n",
       "    <tr>\n",
       "      <th>custom_id</th>\n",
       "      <th></th>\n",
       "      <th></th>\n",
       "      <th></th>\n",
       "      <th></th>\n",
       "      <th></th>\n",
       "    </tr>\n",
       "  </thead>\n",
       "  <tbody>\n",
       "    <tr>\n",
       "      <th>request_1</th>\n",
       "      <td>eat_2022_192#para_12</td>\n",
       "      <td>id/ukpga/2010/15_section-60</td>\n",
       "      <td>deepseek</td>\n",
       "      <td>This was picked up when the paperwork was forw...</td>\n",
       "      <td>A person (A) to whom an application for work i...</td>\n",
       "    </tr>\n",
       "    <tr>\n",
       "      <th>request_2</th>\n",
       "      <td>eat_2022_192#para_18</td>\n",
       "      <td>id/ukpga/2010/15_schedule-8-part-1</td>\n",
       "      <td>deepseek</td>\n",
       "      <td>[The claimant] agreed in evidence that it was ...</td>\n",
       "      <td>the reference in section 20(3) to a provision,...</td>\n",
       "    </tr>\n",
       "    <tr>\n",
       "      <th>request_2</th>\n",
       "      <td>eat_2022_192#para_18</td>\n",
       "      <td>id/ukpga/2010/15_section-60</td>\n",
       "      <td>openai</td>\n",
       "      <td>He stated that the issues raised did not relat...</td>\n",
       "      <td>A does not contravene a relevant disability pr...</td>\n",
       "    </tr>\n",
       "    <tr>\n",
       "      <th>request_3</th>\n",
       "      <td>eat_2022_192#para_21</td>\n",
       "      <td>id/ukpga/2010/15_schedule-1-part-1</td>\n",
       "      <td>deepseek</td>\n",
       "      <td>We do not accept that PRE is a cause of his st...</td>\n",
       "      <td>An impairment is to be treated as having a sub...</td>\n",
       "    </tr>\n",
       "    <tr>\n",
       "      <th>request_4</th>\n",
       "      <td>eat_2022_192#para_22</td>\n",
       "      <td>id/ukpga/2010/15_section-60</td>\n",
       "      <td>deepseek</td>\n",
       "      <td>the ET found that PRE was only indirectly rais...</td>\n",
       "      <td>A does not contravene a relevant disability pr...</td>\n",
       "    </tr>\n",
       "    <tr>\n",
       "      <th>...</th>\n",
       "      <td>...</td>\n",
       "      <td>...</td>\n",
       "      <td>...</td>\n",
       "      <td>...</td>\n",
       "      <td>...</td>\n",
       "    </tr>\n",
       "    <tr>\n",
       "      <th>request_7231</th>\n",
       "      <td>ukut_tcc_2023_244#para_74</td>\n",
       "      <td>http://www.legislation.gov.uk/id/ukpga/1970/9/...</td>\n",
       "      <td>deepseek</td>\n",
       "      <td>HMRC did not need to establish a date on which...</td>\n",
       "      <td>An assessment on a person in a case involving ...</td>\n",
       "    </tr>\n",
       "    <tr>\n",
       "      <th>request_7232</th>\n",
       "      <td>ukut_tcc_2023_244#para_78</td>\n",
       "      <td>id/ukpga/1970/9_section-56</td>\n",
       "      <td>llama</td>\n",
       "      <td>it would be absurd for Parliament to have inte...</td>\n",
       "      <td>Tax is payable or repayable in accordance with...</td>\n",
       "    </tr>\n",
       "    <tr>\n",
       "      <th>request_7233</th>\n",
       "      <td>ukut_tcc_2023_244#para_79</td>\n",
       "      <td>id/ukpga/1970/9_section-50</td>\n",
       "      <td>openai</td>\n",
       "      <td>Mr Nawbatt KC did not in terms refer to s.50(6...</td>\n",
       "      <td>If, on an appeal notified to the tribunal, the...</td>\n",
       "    </tr>\n",
       "    <tr>\n",
       "      <th>request_7234</th>\n",
       "      <td>ukut_tcc_2023_244#para_80</td>\n",
       "      <td>id/ukpga/1970/9_section-50</td>\n",
       "      <td>deepseek</td>\n",
       "      <td>An appeal has been notified to the tribunal (t...</td>\n",
       "      <td>If, on an appeal notified to the tribunal, the...</td>\n",
       "    </tr>\n",
       "    <tr>\n",
       "      <th>request_7235</th>\n",
       "      <td>ukut_tcc_2023_244#para_81</td>\n",
       "      <td>id/ukpga/1970/9_section-101</td>\n",
       "      <td>deepseek</td>\n",
       "      <td>HMRC have made valid penalty assessments and t...</td>\n",
       "      <td>An assessment which can no longer be varied by...</td>\n",
       "    </tr>\n",
       "  </tbody>\n",
       "</table>\n",
       "<p>8104 rows × 5 columns</p>\n",
       "</div>"
      ],
      "text/plain": [
       "                                para_id  \\\n",
       "custom_id                                 \n",
       "request_1          eat_2022_192#para_12   \n",
       "request_2          eat_2022_192#para_18   \n",
       "request_2          eat_2022_192#para_18   \n",
       "request_3          eat_2022_192#para_21   \n",
       "request_4          eat_2022_192#para_22   \n",
       "...                                 ...   \n",
       "request_7231  ukut_tcc_2023_244#para_74   \n",
       "request_7232  ukut_tcc_2023_244#para_78   \n",
       "request_7233  ukut_tcc_2023_244#para_79   \n",
       "request_7234  ukut_tcc_2023_244#para_80   \n",
       "request_7235  ukut_tcc_2023_244#para_81   \n",
       "\n",
       "                                                     section_id     model  \\\n",
       "custom_id                                                                   \n",
       "request_1                           id/ukpga/2010/15_section-60  deepseek   \n",
       "request_2                    id/ukpga/2010/15_schedule-8-part-1  deepseek   \n",
       "request_2                           id/ukpga/2010/15_section-60    openai   \n",
       "request_3                    id/ukpga/2010/15_schedule-1-part-1  deepseek   \n",
       "request_4                           id/ukpga/2010/15_section-60  deepseek   \n",
       "...                                                         ...       ...   \n",
       "request_7231  http://www.legislation.gov.uk/id/ukpga/1970/9/...  deepseek   \n",
       "request_7232                         id/ukpga/1970/9_section-56     llama   \n",
       "request_7233                         id/ukpga/1970/9_section-50    openai   \n",
       "request_7234                         id/ukpga/1970/9_section-50  deepseek   \n",
       "request_7235                        id/ukpga/1970/9_section-101  deepseek   \n",
       "\n",
       "                                               case_law_excerpt  \\\n",
       "custom_id                                                         \n",
       "request_1     This was picked up when the paperwork was forw...   \n",
       "request_2     [The claimant] agreed in evidence that it was ...   \n",
       "request_2     He stated that the issues raised did not relat...   \n",
       "request_3     We do not accept that PRE is a cause of his st...   \n",
       "request_4     the ET found that PRE was only indirectly rais...   \n",
       "...                                                         ...   \n",
       "request_7231  HMRC did not need to establish a date on which...   \n",
       "request_7232  it would be absurd for Parliament to have inte...   \n",
       "request_7233  Mr Nawbatt KC did not in terms refer to s.50(6...   \n",
       "request_7234  An appeal has been notified to the tribunal (t...   \n",
       "request_7235  HMRC have made valid penalty assessments and t...   \n",
       "\n",
       "                                            legislation_excerpt  \n",
       "custom_id                                                        \n",
       "request_1     A person (A) to whom an application for work i...  \n",
       "request_2     the reference in section 20(3) to a provision,...  \n",
       "request_2     A does not contravene a relevant disability pr...  \n",
       "request_3     An impairment is to be treated as having a sub...  \n",
       "request_4     A does not contravene a relevant disability pr...  \n",
       "...                                                         ...  \n",
       "request_7231  An assessment on a person in a case involving ...  \n",
       "request_7232  Tax is payable or repayable in accordance with...  \n",
       "request_7233  If, on an appeal notified to the tribunal, the...  \n",
       "request_7234  If, on an appeal notified to the tribunal, the...  \n",
       "request_7235  An assessment which can no longer be varied by...  \n",
       "\n",
       "[8104 rows x 5 columns]"
      ]
     },
     "execution_count": 9,
     "metadata": {},
     "output_type": "execute_result"
    }
   ],
   "source": [
    "df_decision_after_resolution"
   ]
  },
  {
   "cell_type": "code",
   "execution_count": 10,
   "id": "ddbad4aa",
   "metadata": {},
   "outputs": [],
   "source": [
    "#check how many para_ids have more than one row? get the count of para_ids with 1 row and with 2 rows\n",
    "para_id_counts = df_decision_after_resolution['para_id'].value_counts()\n",
    "one_row_count = para_id_counts[para_id_counts == 1].count()\n",
    "two_row_count = para_id_counts[para_id_counts == 2].count()"
   ]
  },
  {
   "cell_type": "code",
   "execution_count": 31,
   "id": "1c28e7b3",
   "metadata": {},
   "outputs": [
    {
     "data": {
      "text/plain": [
       "9002"
      ]
     },
     "execution_count": 31,
     "metadata": {},
     "output_type": "execute_result"
    }
   ],
   "source": [
    "df_final.index.nunique()"
   ]
  },
  {
   "cell_type": "code",
   "execution_count": 43,
   "id": "f22e1d53",
   "metadata": {},
   "outputs": [],
   "source": [
    "import re\n",
    "def remove_special_chars(s):\n",
    "    if not isinstance(s, str):\n",
    "        return s\n",
    "    # Remove all non-alphanumeric and non-space characters\n",
    "    return re.sub(r'[^A-Za-z0-9 ]+', '', s)\n",
    "def check_valid(row):\n",
    "    #case_ok = str(row.get('case_law_excerpt', '')) in str(row.get('para_text', ''))\n",
    "    legis_ok = str(row.get('legislation_excerpt', '')) in str(row.get('section_text', ''))\n",
    "    if legis_ok:#if case_ok and legis_ok:\n",
    "        return True\n",
    "    cleaned_caselaw_excerpt = remove_special_chars(row.get('case_law_excerpt', ''))\n",
    "    cleaned_legislation_excerpt = remove_special_chars(row.get('legislation_excerpt', ''))\n",
    "    cleaned_para_text = remove_special_chars(row.get('para_text', ''))\n",
    "    cleaned_section_text = remove_special_chars(row.get('section_text', ''))\n",
    "    case_ok = str(cleaned_caselaw_excerpt) in str(cleaned_para_text)\n",
    "    legis_ok = str(cleaned_legislation_excerpt) in str(cleaned_section_text)    \n",
    "    #return case_ok and legis_ok\n",
    "    return legis_ok"
   ]
  },
  {
   "cell_type": "code",
   "execution_count": 93,
   "id": "052611e4",
   "metadata": {},
   "outputs": [],
   "source": [
    "df_decision_after_resolution.to_csv('../data/final_test/final/reexperiment/fewhot/11August/claude_decision_to_pick_the_pairs.csv', index=False)"
   ]
  },
  {
   "cell_type": "code",
   "execution_count": 13,
   "id": "577b9a60",
   "metadata": {},
   "outputs": [],
   "source": [
    "df_decision_after_resolution.loc[df_decision_after_resolution['model']=='seepseek','model']='deepseek'"
   ]
  },
  {
   "cell_type": "code",
   "execution_count": 43,
   "id": "e22619b6",
   "metadata": {},
   "outputs": [
    {
     "name": "stdout",
     "output_type": "stream",
     "text": [
      "Adding reasoning to resolved decisions...\n",
      "Warning: No matching row found for para_id=eat_2022_192#para_42, section_id=id/ukpga/2010/15_section-16\n",
      "Warning: No matching row found for para_id=eat_2022_192#para_64, section_id=id/ukpga/2010/15_schedule-8-part-3\n",
      "Warning: No matching row found for para_id=eat_2022_192#para_70, section_id=id/ukpga/2010/15_schedule-8-part-3\n",
      "Warning: No matching row found for para_id=eat_2023_162#para_18, section_id=id/ukpga/2010/15_section-134\n",
      "Warning: No matching row found for para_id=eat_2024_17#para_119, section_id=id/ukpga/1996/18_section-129\n",
      "Warning: No matching row found for para_id=eat_2024_17#para_132, section_id=id/ukpga/1996/18_section-122\n",
      "Warning: No matching row found for para_id=eat_2024_17#para_47, section_id=id/ukpga/1996/18_section-48\n",
      "Warning: No matching row found for para_id=eat_2024_17#para_85, section_id=id/ukpga/1996/18_section-129\n",
      "Warning: No matching row found for para_id=eat_2024_56#para_37, section_id=id/ukpga/2010/15_section-92\n",
      "Warning: No matching row found for para_id=eat_2024_56#para_38, section_id=id/ukpga/2010/15_schedule-8-part-3\n",
      "Warning: No matching row found for para_id=eat_2024_56#para_70, section_id=id/ukpga/2010/15_section-124\n",
      "Warning: No matching row found for para_id=ewca_civ_2003_135#para_43, section_id=id/ukpga/1976/74_section-2\n",
      "Warning: No matching row found for para_id=ewca_civ_2003_167#para_39, section_id=id/ukpga/1999/33_section-3\n",
      "Warning: No matching row found for para_id=ewca_civ_2003_167#para_47, section_id=id/ukpga/1999/33_section-112\n",
      "Warning: No matching row found for para_id=ewca_civ_2003_167#para_54, section_id=id/ukpga/1999/33_section-94\n",
      "Warning: No matching row found for para_id=ewca_civ_2004_988#para_20, section_id=id/ukpga/1986/45_section-424\n",
      "Warning: No matching row found for para_id=ewca_civ_2005_647#para_19, section_id=id/ukpga/1984/60_section-118\n",
      "Warning: No matching row found for para_id=ewca_civ_2006_380#para_31, section_id=id/ukpga/1994/26_section-30\n",
      "Warning: No matching row found for para_id=ewca_civ_2006_380#para_54, section_id=id/ukpga/1994/26_section-11A\n",
      "Warning: No matching row found for para_id=ewca_civ_2006_529#para_38, section_id=id/ukpga/1989/41_section-100\n",
      "Warning: No matching row found for para_id=ewca_civ_2006_529#para_51, section_id=id/ukpga/1999/22_section-98\n",
      "Warning: No matching row found for para_id=ewca_civ_2007_826#para_11, section_id=id/ukpga/Eliz2/2-3/56_section-46\n",
      "Warning: No matching row found for para_id=ewca_civ_2008_1097#para_27, section_id=id/ukpga/2003/44_schedule-20B-part-2\n",
      "Warning: No matching row found for para_id=ewca_civ_2008_1097#para_30, section_id=http://www.legislation.gov.uk/id/ukpga/2003/44/section/181_\n",
      "Warning: No matching row found for para_id=ewca_civ_2008_1097#para_49, section_id=id/ukpga/1991/53_section-50\n",
      "Warning: No matching row found for para_id=ewca_civ_2008_1097#para_6, section_id=id/ukpga/2003/44_schedule-20B-part-3\n",
      "Warning: No matching row found for para_id=ewca_civ_2008_1097#para_6, section_id=id/ukpga/1991/53_section-34A\n",
      "Warning: No matching row found for para_id=ewca_civ_2009_454#para_13, section_id=id/ukpga/1996/18_section-47F\n",
      "Warning: No matching row found for para_id=ewca_civ_2009_454#para_34, section_id=id/ukpga/1996/18_section-47\n",
      "Warning: No matching row found for para_id=ewca_civ_2010_1468#para_46, section_id=id/ukpga/1981/69_section-66\n",
      "Warning: No matching row found for para_id=ewca_civ_2010_390#para_38, section_id=id/ukpga/1988/48_section-252\n",
      "Warning: No matching row found for para_id=ewca_civ_2010_390#para_88, section_id=id/ukpga/1988/48_section-115\n",
      "Warning: No matching row found for para_id=ewca_civ_2010_805#para_17, section_id=id/ukpga/1974/47_section-37\n",
      "Warning: No matching row found for para_id=ewca_civ_2010_805#para_26, section_id=id/ukpga/1974/47_section-37\n",
      "Warning: No matching row found for para_id=ewca_civ_2011_1515#para_69, section_id=id/ukpga/1992/5_section-173\n",
      "Warning: No matching row found for para_id=ewca_civ_2012_1395#para_118, section_id=id/ukpga/1986/45_section-182\n",
      "Warning: No matching row found for para_id=ewca_civ_2012_1395#para_123, section_id=id/ukpga/2006/46_section-589\n",
      "Warning: No matching row found for para_id=ewca_civ_2012_1395#para_139, section_id=id/ukpga/2006/46_section-268\n",
      "Warning: No matching row found for para_id=ewca_civ_2012_1395#para_156, section_id=id/ukpga/2006/46_section-268\n",
      "Warning: No matching row found for para_id=ewca_civ_2012_1395#para_77, section_id=id/ukpga/2006/46_section-251\n",
      "Warning: No matching row found for para_id=ewca_civ_2012_1395#para_79, section_id=id/ukpga/2006/46_section-268\n",
      "Warning: No matching row found for para_id=ewca_civ_2012_1660#para_7, section_id=id/ukpga/1980/58_schedule-1-part-II\n",
      "Warning: No matching row found for para_id=ewca_civ_2012_51#para_53, section_id=id/ukpga/1971/77_section-13\n",
      "Warning: No matching row found for para_id=ewca_civ_2012_51#para_68, section_id=id/ukpga/1971/77_section-13\n",
      "Warning: No matching row found for para_id=ewca_civ_2012_51#para_69, section_id=id/ukpga/1971/77_section-14\n",
      "Warning: No matching row found for para_id=ewca_civ_2012_51#para_70, section_id=id/ukpga/1971/77_section-13\n",
      "Warning: No matching row found for para_id=ewca_civ_2012_543#para_10, section_id=id/ukpga/1996/18_section-7A\n",
      "Warning: No matching row found for para_id=ewca_civ_2012_543#para_20, section_id=id/ukpga/1996/18_section-104\n",
      "Warning: No matching row found for para_id=ewca_civ_2013_703#para_13, section_id=id/ukpga/1990/8_section-92\n",
      "Warning: No matching row found for para_id=ewca_civ_2013_703#para_16, section_id=id/ukpga/1990/8_section-92\n",
      "Warning: No matching row found for para_id=ewca_civ_2013_703#para_21, section_id=id/ukpga/1990/8_section-9\n",
      "Warning: No matching row found for para_id=ewca_civ_2013_703#para_29, section_id=id/ukpga/1990/8_section-62M\n",
      "Warning: No matching row found for para_id=ewca_civ_2014_1105#para_24, section_id=id/ukpga/1990/41_section-4\n",
      "Warning: No matching row found for para_id=ewca_civ_2014_1105#para_40, section_id=id/ukpga/1981/54_section-32A\n",
      "Warning: No matching row found for para_id=ewca_civ_2014_163#para_19, section_id=id/ukpga/1971/77_section-6\n",
      "Warning: No matching row found for para_id=ewca_civ_2014_935#para_34, section_id=id/ukpga/2006/46_section-205\n",
      "Warning: No matching row found for para_id=ewca_civ_2014_935#para_35, section_id=id/ukpga/2006/46_section-205\n",
      "Warning: No matching row found for para_id=ewca_civ_2015_1085#para_31, section_id=id/ukpga/1995/38_section-7\n",
      "Warning: No matching row found for para_id=ewca_civ_2015_1085#para_45, section_id=id/ukpga/1995/38_section-4\n",
      "Warning: No matching row found for para_id=ewca_civ_2015_1419#para_67, section_id=id/ukpga/1998/42_section-7\n",
      "Warning: No matching row found for para_id=ewca_civ_2015_515#para_133, section_id=id/ukpga/1994/23_section-90\n",
      "Warning: No matching row found for para_id=ewca_civ_2015_515#para_156, section_id=id/ukpga/1970/9_section-59DA\n",
      "Warning: No matching row found for para_id=ewca_civ_2015_515#para_165, section_id=id/ukpga/2004/12_section-277\n",
      "Warning: No matching row found for para_id=ewca_civ_2015_515#para_202, section_id=id/ukpga/1989/26_section-180\n",
      "Warning: No matching row found for para_id=ewca_civ_2015_515#para_207, section_id=id/ukpga/1994/23_section-84\n",
      "Warning: No matching row found for para_id=ewca_civ_2015_515#para_47, section_id=http://www.legislation.gov.uk/id/ukpga/1994/23/section/84_\n",
      "Warning: No matching row found for para_id=ewca_civ_2015_515#para_79, section_id=id/ukpga/1994/23_section-85B\n",
      "Warning: No matching row found for para_id=ewca_civ_2015_718#para_46, section_id=id/ukpga/Eliz2/4-5/60_section-7\n",
      "Warning: No matching row found for para_id=ewca_civ_2015_718#para_63, section_id=id/ukpga/1967/9_section-115\n",
      "Warning: No matching row found for para_id=ewca_civ_2015_718#para_67, section_id=id/ukpga/Eliz2/4-5/60_section-22\n",
      "Warning: No matching row found for para_id=ewca_civ_2016_775#para_12, section_id=id/ukpga/1980/58_section-33\n",
      "Warning: No matching row found for para_id=ewca_civ_2016_775#para_22, section_id=id/ukpga/1998/42_section-7\n",
      "Warning: No matching row found for para_id=ewca_civ_2016_775#para_27, section_id=id/ukpga/2010/15_section-140B\n",
      "Warning: No matching row found for para_id=ewca_civ_2016_775#para_29, section_id=id/ukpga/2010/15_section-140B\n",
      "Warning: No matching row found for para_id=ewca_civ_2016_775#para_31, section_id=id/ukpga/1990/41_section-7\n",
      "Warning: No matching row found for para_id=ewca_civ_2017_20#para_38, section_id=id/ukpga/1992/52_schedule-A1-part-IX\n",
      "Warning: No matching row found for para_id=ewca_civ_2017_438#para_22, section_id=id/ukpga/1990/8_section-171\n",
      "Warning: No matching row found for para_id=ewca_civ_2017_438#para_26, section_id=id/ukpga/1990/8_section-70A\n",
      "Warning: No matching row found for para_id=ewca_civ_2017_438#para_35, section_id=id/ukpga/1990/8_section-76C\n",
      "Warning: No matching row found for para_id=ewca_civ_2018_1105#para_42, section_id=http://www.legislation.gov.uk/id/ukpga/2006/3/section/15_\n",
      "Warning: No matching row found for para_id=ewca_civ_2018_1105#para_53, section_id=nan\n",
      "Warning: No matching row found for para_id=ewca_civ_2018_1105#para_53, section_id=nan\n",
      "Warning: No matching row found for para_id=ewca_civ_2018_1808#para_15, section_id=id/ukpga/1990/8_section-241\n",
      "Warning: No matching row found for para_id=ewca_civ_2018_1808#para_42, section_id=id/ukpga/1990/8_section-106C\n",
      "Warning: No matching row found for para_id=ewca_civ_2018_1808#para_50, section_id=id/ukpga/1990/8_section-61O\n",
      "Warning: No matching row found for para_id=ewca_civ_2018_1808#para_52, section_id=id/ukpga/1990/8_section-70D\n",
      "Warning: No matching row found for para_id=ewca_civ_2018_1808#para_61, section_id=id/ukpga/1990/8_section-24\n",
      "Warning: No matching row found for para_id=ewca_civ_2018_1808#para_69, section_id=id/ukpga/1990/8_section-176\n",
      "Warning: No matching row found for para_id=ewca_civ_2018_1808#para_71, section_id=id/ukpga/1990/8_section-106C\n",
      "Warning: No matching row found for para_id=ewca_civ_2018_1808#para_83, section_id=id/ukpga/1990/8_section-284\n",
      "Warning: No matching row found for para_id=ewca_civ_2018_1841#para_55, section_id=id/ukpga/2003/44_section-329\n",
      "Warning: No matching row found for para_id=ewca_civ_2018_764#para_10, section_id=id/ukpga/1993/28_schedule-9-part-IV\n",
      "Warning: No matching row found for para_id=ewca_civ_2018_764#para_12, section_id=id/ukpga/1993/28_section-88\n",
      "Warning: No matching row found for para_id=ewca_civ_2018_764#para_21, section_id=id/ukpga/1993/28_section-7\n",
      "Warning: No matching row found for para_id=ewca_civ_2018_764#para_22, section_id=id/ukpga/1993/28_section-63\n",
      "Warning: No matching row found for para_id=ewca_civ_2019_53#para_23, section_id=id/ukpga/2002/41_section-117B\n",
      "Warning: No matching row found for para_id=ewca_civ_2020_620#para_50, section_id=id/ukpga/1974/39_section-135\n",
      "Warning: No matching row found for para_id=ewca_civ_2020_833#para_11, section_id=id/ukpga/Eliz2/2-3/56_section-13\n",
      "Warning: No matching row found for para_id=ewca_civ_2020_833#para_26, section_id=id/ukpga/Eliz2/2-3/56_section-13\n",
      "Warning: No matching row found for para_id=ewca_civ_2020_833#para_28, section_id=id/ukpga/Eliz2/2-3/56_section-12\n",
      "Warning: No matching row found for para_id=ewca_civ_2020_833#para_38, section_id=id/ukpga/Eliz2/2-3/56_section-64\n",
      "Warning: No matching row found for para_id=ewca_civ_2021_113#para_36, section_id=id/ukpga/2002/41_section-21\n",
      "Warning: No matching row found for para_id=ewca_civ_2021_113#para_60, section_id=id/ukpga/2002/41_section-79\n",
      "Warning: No matching row found for para_id=ewca_civ_2021_252#para_22, section_id=id/ukpga/1980/58_section-32\n",
      "Warning: No matching row found for para_id=ewca_civ_2021_252#para_24, section_id=id/ukpga/1980/58_section-35\n",
      "Warning: No matching row found for para_id=ewca_civ_2021_763#para_3, section_id=id/ukpga/1983/54_section-40A\n",
      "Warning: No matching row found for para_id=ewca_civ_2021_763#para_6, section_id=id/ukpga/1983/54_section-40A\n",
      "Warning: No matching row found for para_id=ewca_civ_2022_1943#para_34, section_id=id/ukpga/1967/7_section-2\n",
      "Warning: No matching row found for para_id=ewca_civ_2022_1943#para_50, section_id=id/ukpga/1967/7_section-2\n",
      "Warning: No matching row found for para_id=ewca_civ_2023_1000#para_29, section_id=id/ukpga/2013/26_section-3\n",
      "Warning: No matching row found for para_id=ewca_civ_2023_1000#para_62, section_id=id/ukpga/2013/26_section-4\n",
      "Warning: No matching row found for para_id=ewca_civ_2023_239#para_102, section_id=id/ukpga/1996/40_section-21\n",
      "Warning: No matching row found for para_id=ewca_civ_2023_239#para_79, section_id=id/ukpga/1996/40_section-3\n",
      "Warning: No matching row found for para_id=ewca_civ_2023_652#para_25, section_id=id/ukpga/1995/50_section-8-n.i.\n",
      "Warning: No matching row found for para_id=ewca_civ_2023_652#para_26, section_id=id/ukpga/1995/50_section-17A\n",
      "Warning: No matching row found for para_id=ewca_civ_2023_652#para_41, section_id=id/ukpga/1996/17_section-37ZA\n",
      "Warning: No matching row found for para_id=ewca_civ_2024_16#para_39, section_id=id/ukpga/2012/10_schedule-4-part-3\n",
      "Warning: No matching row found for para_id=ewca_civ_2024_16#para_52, section_id=http://www.legislation.gov.uk/id/ukpga/2002/21/section/38_\n",
      "Warning: No matching row found for para_id=ewca_crim_2003_190#para_32, section_id=id/ukpga/1999/23_section-41\n",
      "Warning: No matching row found for para_id=ewca_crim_2005_1681#para_14, section_id=id/ukpga/1984/60_section-77\n",
      "Warning: No matching row found for para_id=ewca_crim_2005_1881#para_22, section_id=id/ukpga/1968/19_section-23\n",
      "Warning: No matching row found for para_id=ewca_crim_2006_2136#para_10, section_id=id/ukpga/2003/44_section-237A\n",
      "Warning: No matching row found for para_id=ewca_crim_2006_2136#para_11, section_id=id/ukpga/2003/44_section-264\n",
      "Warning: No matching row found for para_id=ewca_crim_2006_3335#para_16, section_id=id/ukpga/1968/19_section-10\n",
      "Warning: No matching row found for para_id=ewca_crim_2006_3335#para_17, section_id=id/ukpga/1988/33_section-36\n",
      "Warning: No matching row found for para_id=ewca_crim_2007_1165#para_78, section_id=id/ukpga/1984/60_section-79\n",
      "Warning: No matching row found for para_id=ewca_crim_2007_2548#para_2, section_id=http://www.legislation.gov.uk/id/ukpga/1991/65/section/4_\n",
      "Warning: No matching row found for para_id=ewca_crim_2007_3223#para_38, section_id=id/ukpga/2000/6_section-4\n",
      "Warning: No matching row found for para_id=ewca_crim_2007_3223#para_39, section_id=id/ukpga/2000/6_section-119\n",
      "Warning: No matching row found for para_id=ewca_crim_2007_3223#para_43, section_id=id/ukpga/2000/6_section-11\n",
      "Warning: No matching row found for para_id=ewca_crim_2007_36#para_14, section_id=http://www.legislation.gov.uk/id/ukpga/2003/44/section/112_\n",
      "Warning: No matching row found for para_id=ewca_crim_2008_2500#para_28, section_id=http://www.legislation.gov.uk/id/ukpga/2003/44/section/269_\n",
      "Warning: No matching row found for para_id=ewca_crim_2008_2500#para_32, section_id=id/ukpga/2003/44_section-272\n",
      "Warning: No matching row found for para_id=ewca_crim_2008_468#para_15, section_id=id/ukpga/1983/20_section-63\n",
      "Warning: No matching row found for para_id=ewca_crim_2008_894#para_20, section_id=id/ukpga/2003/42_section-13\n",
      "Warning: No matching row found for para_id=ewca_crim_2008_894#para_8, section_id=id/ukpga/2003/42_section-2\n",
      "Warning: No matching row found for para_id=ewca_crim_2008_894#para_9, section_id=id/ukpga/2003/42_section-131\n",
      "Warning: No matching row found for para_id=ewca_crim_2009_1942#para_35, section_id=id/ukpga/2003/44_section-130\n",
      "Warning: No matching row found for para_id=ewca_crim_2009_201#para_13, section_id=id/ukpga/2002/29_section-6\n",
      "Warning: No matching row found for para_id=ewca_crim_2009_288#para_5, section_id=id/ukpga/1996/49_section-4\n",
      "Warning: No matching row found for para_id=ewca_crim_2009_288#para_9, section_id=id/ukpga/2002/29_section-21\n",
      "Warning: No matching row found for para_id=ewca_crim_2009_379#para_16, section_id=id/ukpga/2003/44_schedule-15-part-1\n",
      "Warning: No matching row found for para_id=ewca_crim_2009_469#para_30, section_id=id/ukpga/2008/4_section-76\n",
      "Warning: No matching row found for para_id=ewca_crim_2010_1450#para_36, section_id=id/ukpga/Vict/24-25/100_section-76\n",
      "Warning: No matching row found for para_id=ewca_crim_2010_1486#para_57, section_id=id/ukpga/1968/19_section-33\n",
      "Warning: No matching row found for para_id=ewca_crim_2010_1486#para_7, section_id=id/ukpga/1984/39_section-12\n",
      "Warning: No matching row found for para_id=ewca_crim_2010_1486#para_71, section_id=id/ukpga/1984/39_section-15\n",
      "Warning: No matching row found for para_id=ewca_crim_2012_1939#para_13, section_id=id/ukpga/2003/44_schedule-3-part-1_chunk_4\n",
      "Warning: No matching row found for para_id=ewca_crim_2013_1026#para_20, section_id=id/ukpga/1985/56_section-12\n",
      "Warning: No matching row found for para_id=ewca_crim_2013_1026#para_24, section_id=id/ukpga/1996/25_section-17\n",
      "Warning: No matching row found for para_id=ewca_crim_2013_1026#para_46, section_id=id/ukpga/1996/25_section-8\n",
      "Warning: No matching row found for para_id=ewca_crim_2013_2499#para_29, section_id=http://www.legislation.gov.uk/id/ukpga/2007/27/section/46_\n",
      "Warning: No matching row found for para_id=ewca_crim_2013_2499#para_38, section_id=id/ukpga/2003/44_section-63\n",
      "Warning: No matching row found for para_id=ewca_crim_2015_1256#para_7, section_id=id/ukpga/1995/21_section-99\n",
      "Warning: No matching row found for para_id=ewca_crim_2015_1256#para_9, section_id=id/ukpga/1995/21_section-255K\n",
      "Warning: No matching row found for para_id=ewca_crim_2015_1933#para_14, section_id=http://www.legislation.gov.uk/id/ukpga/2000/6/section/139_\n",
      "Warning: No matching row found for para_id=ewca_crim_2015_1933#para_28, section_id=id/ukpga/1980/43_section-82\n",
      "Warning: No matching row found for para_id=ewca_crim_2016_1941#para_56, section_id=id/ukpga/1994/33_section-62B\n",
      "Warning: No matching row found for para_id=ewca_crim_2017_2063#para_26, section_id=id/ukpga/1988/33_section-36\n",
      "Warning: No matching row found for para_id=ewca_crim_2017_2065#para_27, section_id=id/ukpga/2009/25_section-9\n",
      "Warning: No matching row found for para_id=ewca_crim_2017_2314#para_19, section_id=id/ukpga/1994/33_section-35\n",
      "Warning: No matching row found for para_id=ewca_crim_2017_2314#para_25, section_id=id/ukpga/1994/33_section-35\n",
      "Warning: No matching row found for para_id=ewca_crim_2018_1393#para_34, section_id=id/ukpga/2003/44_section-104\n",
      "Warning: No matching row found for para_id=ewca_crim_2018_2695#para_21, section_id=id/ukpga/2003/44_section-151\n",
      "Warning: No matching row found for para_id=ewca_crim_2018_2695#para_21, section_id=id/ukpga/2003/44_schedule-12-part-2\n",
      "Warning: No matching row found for para_id=ewca_crim_2019_2056#para_19, section_id=id/ukpga/2003/42_section-3\n",
      "Warning: No matching row found for para_id=ewca_crim_2019_2056#para_20, section_id=id/ukpga/2003/42_section-89\n",
      "Warning: No matching row found for para_id=ewca_crim_2019_281#para_24, section_id=id/ukpga/1984/60_section-47A\n",
      "Warning: No matching row found for para_id=ewca_crim_2019_281#para_59, section_id=id/ukpga/1984/60_section-78\n",
      "Warning: No matching row found for para_id=ewca_crim_2019_281#para_68, section_id=id/ukpga/1971/77_section-14\n",
      "Warning: No matching row found for para_id=ewca_crim_2020_1455#para_12, section_id=http://www.legislation.gov.uk/id/ukpga/1968/19/section/23_\n",
      "Warning: No matching row found for para_id=ewca_crim_2020_597#para_34, section_id=id/ukpga/1990/43_section-33A\n",
      "Warning: No matching row found for para_id=ewca_crim_2020_597#para_55, section_id=id/ukpga/1990/43_section-97A\n",
      "Warning: No matching row found for para_id=ewca_crim_2020_597#para_79, section_id=id/ukpga/1990/43_section-57-s\n",
      "Warning: No matching row found for para_id=ewca_crim_2020_597#para_98, section_id=id/ukpga/1990/43_section-78L-s\n",
      "Warning: No matching row found for para_id=ewca_crim_2022_1428#para_54, section_id=id/ukpga/2002/41_section-115\n",
      "Warning: No matching row found for para_id=ewca_crim_2022_1428#para_61, section_id=id/ukpga/1999/33_section-105\n",
      "Warning: No matching row found for para_id=ewca_crim_2022_483#para_23, section_id=id/ukpga/2003/42_section-13\n",
      "Warning: No matching row found for para_id=ewca_crim_2022_483#para_26, section_id=id/ukpga/2020/17_section-227\n",
      "Warning: No matching row found for para_id=ewca_crim_2023_1106#para_10, section_id=id/ukpga/2003/42_section-16\n",
      "Warning: No matching row found for para_id=ewca_crim_2023_1121#para_27, section_id=id/ukpga/1971/77_section-25A\n",
      "Warning: No matching row found for para_id=ewca_crim_2023_1520#para_34, section_id=id/ukpga/2020/17_section-183\n",
      "Warning: No matching row found for para_id=ewca_crim_2023_1520#para_8, section_id=id/ukpga/2020/17_section-65\n",
      "Warning: No matching row found for para_id=ewca_crim_2023_202#para_30, section_id=id/ukpga/1988/33_section-36\n",
      "Warning: No matching row found for para_id=ewcc_2024_7#para_33, section_id=id/ukpga/1986/45_section-197\n",
      "Warning: No matching row found for para_id=ewcc_2024_7#para_76, section_id=id/ukpga/Geo5/15-16/20_section-49\n",
      "Warning: No matching row found for para_id=ewcop_2014_2#para_42, section_id=id/ukpga/2005/9_section-4\n",
      "Warning: No matching row found for para_id=ewcop_2014_2#para_53, section_id=http://www.legislation.gov.uk/id/ukpga/2005/9/section/16_\n",
      "Warning: No matching row found for para_id=ewcop_2014_2#para_57, section_id=http://www.legislation.gov.uk/id/ukpga/1983/20/section/2_\n",
      "Warning: No matching row found for para_id=ewcop_2014_2#para_68, section_id=http://www.legislation.gov.uk/id/ukpga/1983/20/section/3_\n",
      "Warning: No matching row found for para_id=ewcop_2015_13#para_23, section_id=id/ukpga/Eliz2/8-9/65_section-5\n",
      "Warning: No matching row found for para_id=ewcop_2015_13#para_5, section_id=id/ukpga/Eliz2/8-9/65_section-5\n",
      "Warning: No matching row found for para_id=ewcop_2015_13#para_8, section_id=id/ukpga/Eliz2/8-9/65_section-5\n",
      "Warning: No matching row found for para_id=ewcop_2019_10#para_21, section_id=id/ukpga/2005/9_section-24\n",
      "Warning: No matching row found for para_id=ewcop_2019_10#para_28, section_id=id/ukpga/2005/9_section-26\n",
      "Warning: No matching row found for para_id=ewcop_2020_14#para_14, section_id=id/ukpga/2005/9_section-48\n",
      "Warning: No matching row found for para_id=ewcop_2020_23#para_35, section_id=id/ukpga/2005/9_section-4A\n",
      "Warning: No matching row found for para_id=ewfc_2014_9#para_16, section_id=id/ukpga/2013/22_schedule-10-part-1\n",
      "Warning: No matching row found for para_id=ewfc_2014_9#para_42, section_id=id/ukpga/2013/22_section-39\n",
      "Warning: No matching row found for para_id=ewfc_2014_9#para_45, section_id=id/ukpga/2013/22_schedule-10-part-1\n",
      "Warning: No matching row found for para_id=ewfc_2016_25#para_34, section_id=id/ukpga/2002/38_section-1\n",
      "Warning: No matching row found for para_id=ewfc_2016_25#para_45, section_id=id/ukpga/2002/38_section-84\n",
      "Warning: No matching row found for para_id=ewfc_2019_60#para_39, section_id=id/ukpga/1989/41_section-96\n",
      "Warning: No matching row found for para_id=ewfc_2022_34#para_24, section_id=id/ukpga/2008/22_section-45\n",
      "Warning: No matching row found for para_id=ewfc_2022_34#para_42, section_id=id/ukpga/2002/38_section-96\n",
      "Warning: No matching row found for para_id=ewfc_2022_34#para_45, section_id=http://www.legislation.gov.uk/id/ukpga/2008/22/section/54_\n",
      "Warning: No matching row found for para_id=ewfc_2024_6#para_43, section_id=id/ukpga/1973/18_section-7\n",
      "Warning: No matching row found for para_id=ewfc_2024_6#para_48, section_id=id/ukpga/1973/18_section-27\n",
      "Warning: No matching row found for para_id=ewfc_b_2024_40#para_17, section_id=id/ukpga/2021/17_section-65\n",
      "Warning: No matching row found for para_id=ewfc_b_2024_40#para_81, section_id=id/ukpga/1989/41_section-22C\n",
      "Warning: No matching row found for para_id=ewfc_b_2024_69#para_237, section_id=id/ukpga/1989/41_section-11O\n",
      "Warning: No matching row found for para_id=ewhc_admin_2003_1321#para_1, section_id=id/ukpga/1998/37_section-121\n",
      "Warning: No matching row found for para_id=ewhc_admin_2003_1321#para_38, section_id=id/ukpga/1998/37_section-66BA\n",
      "Warning: No matching row found for para_id=ewhc_admin_2003_1321#para_5, section_id=id/ukpga/1998/37_section-66BA\n",
      "Warning: No matching row found for para_id=ewhc_admin_2003_1419#para_21, section_id=id/ukpga/1990/8_section-187A\n",
      "Warning: No matching row found for para_id=ewhc_admin_2003_1419#para_27, section_id=id/ukpga/1990/8_schedule-5-part-II\n",
      "Warning: No matching row found for para_id=ewhc_admin_2003_1419#para_28, section_id=id/ukpga/1990/8_section-278\n",
      "Warning: No matching row found for para_id=ewhc_admin_2003_1578#para_125, section_id=id/ukpga/1980/66_section-123\n",
      "Warning: No matching row found for para_id=ewhc_admin_2003_1578#para_156, section_id=id/ukpga/1965/64_section-10\n",
      "Warning: No matching row found for para_id=ewhc_admin_2003_1578#para_61, section_id=id/ukpga/1965/64_section-22\n",
      "Warning: No matching row found for para_id=ewhc_admin_2003_1578#para_73, section_id=id/ukpga/1965/64_section-16\n",
      "Warning: No matching row found for para_id=ewhc_admin_2003_1578#para_78, section_id=id/ukpga/1980/66_section-33\n",
      "Warning: No matching row found for para_id=ewhc_admin_2003_1578#para_90, section_id=id/ukpga/Vict/20-21/31_section-12\n",
      "Warning: No matching row found for para_id=ewhc_admin_2003_2698#para_17, section_id=id/ukpga/1996/37_section-4\n",
      "Warning: No matching row found for para_id=ewhc_admin_2003_2698#para_24, section_id=id/ukpga/1974/40_section-39\n",
      "Warning: No matching row found for para_id=ewhc_admin_2004_2240#para_16, section_id=id/ukpga/1980/43_section-112\n",
      "Warning: No matching row found for para_id=ewhc_admin_2004_2240#para_16, section_id=http://www.legislation.gov.uk/id/ukpga/Vict/24-25/100/section/20_\n",
      "Warning: No matching row found for para_id=ewhc_admin_2004_430#para_10, section_id=id/ukpga/1990/8_section-76A\n",
      "Warning: No matching row found for para_id=ewhc_admin_2004_563#para_12, section_id=id/ukpga/1989/33_section-6\n",
      "Warning: No matching row found for para_id=ewhc_admin_2004_563#para_6, section_id=id/ukpga/Eliz2/8-9/65_section-17\n",
      "Warning: No matching row found for para_id=ewhc_admin_2004_611#para_10, section_id=id/ukpga/1990/8_section-78\n",
      "Warning: No matching row found for para_id=ewhc_admin_2004_611#para_7, section_id=id/ukpga/1990/8_schedule-2-part-II\n",
      "Warning: No matching row found for para_id=ewhc_admin_2005_1393#para_23, section_id=id/ukpga/1988/52_section-5\n",
      "Warning: No matching row found for para_id=ewhc_admin_2005_1393#para_35, section_id=id/ukpga/1988/52_section-76\n",
      "Warning: No matching row found for para_id=ewhc_admin_2005_2278#para_18, section_id=id/ukpga/1968/73_section-97F\n",
      "Warning: No matching row found for para_id=ewhc_admin_2005_2363#para_4, section_id=http://www.legislation.gov.uk/id/ukpga/1980/66/section/25_\n",
      "Warning: No matching row found for para_id=ewhc_admin_2005_2363#para_43, section_id=id/ukpga/1990/8_section-255\n",
      "Warning: No matching row found for para_id=ewhc_admin_2005_2363#para_48, section_id=http://www.legislation.gov.uk/id/ukpga/1980/66/section/118_\n",
      "Warning: No matching row found for para_id=ewhc_admin_2005_2977#para_21, section_id=id/ukpga/1988/52_section-9\n",
      "Warning: No matching row found for para_id=ewhc_admin_2006_1346#para_148, section_id=id/ukpga/1994/33_section-80\n",
      "Warning: No matching row found for para_id=ewhc_admin_2006_1346#para_153, section_id=id/ukpga/1994/33_section-80\n",
      "Warning: No matching row found for para_id=ewhc_admin_2006_1346#para_55, section_id=id/ukpga/1994/33_section-80\n",
      "Warning: No matching row found for para_id=ewhc_admin_2006_1346#para_75, section_id=id/ukpga/1990/8_section-216\n",
      "Warning: No matching row found for para_id=ewhc_admin_2006_2643#para_20, section_id=id/ukpga/1990/8_schedule-2-part-IA\n",
      "Warning: No matching row found for para_id=ewhc_admin_2006_2784#para_127, section_id=id/ukpga/2002/17_section-29\n",
      "Warning: No matching row found for para_id=ewhc_admin_2006_2784#para_130, section_id=id/ukpga/1983/54_section-42\n",
      "Warning: No matching row found for para_id=ewhc_admin_2006_2784#para_16, section_id=http://www.legislation.gov.uk/id/ukpga/1983/54/section/35_\n",
      "Warning: No matching row found for para_id=ewhc_admin_2006_2784#para_38, section_id=id/ukpga/1999/22_section-60\n",
      "Warning: No matching row found for para_id=ewhc_admin_2006_2784#para_48, section_id=id/ukpga/2002/17_section-29A\n",
      "Warning: No matching row found for para_id=ewhc_admin_2006_3014#para_39, section_id=id/ukpga/1990/8_section-70\n",
      "Warning: No matching row found for para_id=ewhc_admin_2006_3014#para_41, section_id=id/ukpga/1990/8_section-138\n",
      "Warning: No matching row found for para_id=ewhc_admin_2006_3014#para_43, section_id=id/ukpga/1990/8_section-138\n",
      "Warning: No matching row found for para_id=ewhc_admin_2006_3014#para_9, section_id=http://www.legislation.gov.uk/id/ukpga/1990/8/section/78_\n",
      "Warning: No matching row found for para_id=ewhc_admin_2006_3346#para_13, section_id=id/ukpga/2003/41_section-44\n",
      "Warning: No matching row found for para_id=ewhc_admin_2006_3346#para_14, section_id=http://www.legislation.gov.uk/id/ukpga/2003/41/section/10_\n",
      "Warning: No matching row found for para_id=ewhc_admin_2007_1304#para_48, section_id=id/ukpga/1988/33_section-25\n",
      "Warning: No matching row found for para_id=ewhc_admin_2008_738#para_48, section_id=id/ukpga/1989/41_section-17A\n",
      "Warning: No matching row found for para_id=ewhc_admin_2009_2348#para_47, section_id=id/ukpga/1998/29_section-3\n",
      "Warning: No matching row found for para_id=ewhc_admin_2009_2674#para_17, section_id=id/ukpga/1990/8_section-335\n",
      "Warning: No matching row found for para_id=ewhc_admin_2009_2674#para_21, section_id=id/ukpga/1990/8_section-284\n",
      "Warning: No matching row found for para_id=ewhc_admin_2009_3412#para_10, section_id=id/ukpga/Geo6/11-12/29_section-56\n",
      "Warning: No matching row found for para_id=ewhc_admin_2009_3614#para_20, section_id=id/ukpga/2002/29_section-388\n",
      "Warning: No matching row found for para_id=ewhc_admin_2009_590#para_16, section_id=id/ukpga/1970/9_section-54\n",
      "Warning: No matching row found for para_id=ewhc_admin_2009_634#para_14, section_id=id/ukpga/Eliz2/10-11/38_section-16\n",
      "Warning: No matching row found for para_id=ewhc_admin_2009_634#para_73, section_id=id/ukpga/1968/72_section-25\n",
      "Warning: No matching row found for para_id=ewhc_admin_2009_771#para_29, section_id=id/ukpga/1990/8_section-54\n",
      "Warning: No matching row found for para_id=ewhc_admin_2010_2929#para_31, section_id=id/ukpga/1990/8_schedule-3-part-III\n",
      "Warning: No matching row found for para_id=ewhc_admin_2010_439#para_4, section_id=id/ukpga/1988/33_section-159\n",
      "Warning: No matching row found for para_id=ewhc_admin_2011_2943#para_14, section_id=id/ukpga/1976/57_section-55\n",
      "Warning: No matching row found for para_id=ewhc_admin_2011_2943#para_28, section_id=id/ukpga/1988/33_section-43\n",
      "Warning: No matching row found for para_id=ewhc_admin_2011_754#para_40, section_id=id/ukpga/1968/73_section-99ZF\n",
      "Warning: No matching row found for para_id=ewhc_admin_2011_754#para_50, section_id=id/ukpga/1968/73_section-70\n",
      "Warning: No matching row found for para_id=ewhc_admin_2012_1033#para_25, section_id=http://www.legislation.gov.uk/id/ukpga/1992/14/section/6_\n",
      "Warning: No matching row found for para_id=ewhc_admin_2012_1033#para_7, section_id=http://www.legislation.gov.uk/id/ukpga/1992/14/section/6_\n",
      "Warning: No matching row found for para_id=ewhc_admin_2012_1867#para_25, section_id=id/ukpga/2010/15_section-69\n",
      "Warning: No matching row found for para_id=ewhc_admin_2012_1867#para_38, section_id=id/ukpga/1998/42_section-11\n",
      "Warning: No matching row found for para_id=ewhc_admin_2012_1867#para_50, section_id=id/ukpga/2010/15_section-140B\n",
      "Warning: No matching row found for para_id=ewhc_admin_2012_3226#para_11, section_id=id/ukpga/1998/37_section-31\n",
      "Warning: No matching row found for para_id=ewhc_admin_2012_882#para_27, section_id=id/ukpga/2003/44_section-37\n",
      "Warning: No matching row found for para_id=ewhc_admin_2013_1786#para_10, section_id=id/ukpga/2009/25_section-10\n",
      "Warning: No matching row found for para_id=ewhc_admin_2013_1786#para_36, section_id=id/ukpga/2009/25_schedule-6-part-3\n",
      "Warning: No matching row found for para_id=ewhc_admin_2013_1786#para_55, section_id=id/ukpga/2013/18_section-8\n",
      "Warning: No matching row found for para_id=ewhc_admin_2013_1786#para_57, section_id=id/ukpga/2009/25_section-42\n",
      "Warning: No matching row found for para_id=ewhc_admin_2013_1786#para_59, section_id=id/ukpga/2009/25_section-9C\n",
      "Warning: No matching row found for para_id=ewhc_admin_2013_1786#para_69, section_id=id/ukpga/2009/25_section-9C\n",
      "Warning: No matching row found for para_id=ewhc_admin_2013_1786#para_72, section_id=id/ukpga/2009/25_section-9C\n",
      "Warning: No matching row found for para_id=ewhc_admin_2013_1786#para_75, section_id=id/ukpga/2009/25_schedule-6-part-3\n",
      "Warning: No matching row found for para_id=ewhc_admin_2013_1786#para_82, section_id=id/ukpga/2009/25_section-47\n",
      "Warning: No matching row found for para_id=ewhc_admin_2013_1786#para_87, section_id=id/ukpga/2009/25_schedule-6-part-3\n",
      "Warning: No matching row found for para_id=ewhc_admin_2013_1818#para_15, section_id=id/ukpga/2002/41_section-96\n",
      "Warning: No matching row found for para_id=ewhc_admin_2013_1818#para_46, section_id=id/ukpga/2002/41_section-94B\n",
      "Warning: No matching row found for para_id=ewhc_admin_2013_1818#para_65, section_id=id/ukpga/2002/41_section-115\n",
      "Warning: No matching row found for para_id=ewhc_admin_2013_1818#para_85, section_id=http://www.legislation.gov.uk/id/ukpga/2002/41/section/113_\n",
      "Warning: No matching row found for para_id=ewhc_admin_2013_1818#para_90, section_id=id/ukpga/2002/41_section-94B\n",
      "Warning: No matching row found for para_id=ewhc_admin_2013_195#para_22, section_id=http://www.legislation.gov.uk/id/ukpga/1986/64/section/12_\n",
      "Warning: No matching row found for para_id=ewhc_admin_2013_195#para_29, section_id=id/ukpga/1986/64_section-12\n",
      "Warning: No matching row found for para_id=ewhc_admin_2013_195#para_30, section_id=http://www.legislation.gov.uk/id/ukpga/1986/64/section/12_\n",
      "Warning: No matching row found for para_id=ewhc_admin_2013_218#para_27, section_id=id/ukpga/2003/44_section-237A\n",
      "Warning: No matching row found for para_id=ewhc_admin_2013_3250#para_8, section_id=id/ukpga/1980/43_section-108\n",
      "Warning: No matching row found for para_id=ewhc_admin_2014_1106#para_8, section_id=id/ukpga/2003/41_section-214\n",
      "Warning: No matching row found for para_id=ewhc_admin_2014_2109#para_21, section_id=id/ukpga/1999/33_section-3\n",
      "Warning: No matching row found for para_id=ewhc_admin_2014_2109#para_23, section_id=id/ukpga/1999/33_section-82\n",
      "Warning: No matching row found for para_id=ewhc_admin_2014_2109#para_28, section_id=id/ukpga/1999/33_section-79\n",
      "Warning: No matching row found for para_id=ewhc_admin_2014_3627#para_24, section_id=id/ukpga/Geo6/12-13-14/97_section-55D\n",
      "Warning: No matching row found for para_id=ewhc_admin_2014_3627#para_34, section_id=id/ukpga/1990/8_section-90\n",
      "Warning: No matching row found for para_id=ewhc_admin_2015_1603#para_21, section_id=id/ukpga/1968/60_section-27\n",
      "Warning: No matching row found for para_id=ewhc_admin_2015_1641#para_33, section_id=id/ukpga/2002/41_section-80A\n",
      "Warning: No matching row found for para_id=ewhc_admin_2015_1641#para_34, section_id=id/ukpga/2002/41_section-80A\n",
      "Warning: No matching row found for para_id=ewhc_admin_2015_1641#para_59, section_id=id/ukpga/1998/42_section-2\n",
      "Warning: No matching row found for para_id=ewhc_admin_2015_1641#para_63, section_id=id/ukpga/2002/41_section-94B\n",
      "Warning: No matching row found for para_id=ewhc_admin_2015_2868#para_10, section_id=id/ukpga/1998/37_section-50\n",
      "Warning: No matching row found for para_id=ewhc_admin_2015_2868#para_21, section_id=id/ukpga/1998/37_section-51C\n",
      "Warning: No matching row found for para_id=ewhc_admin_2015_3084#para_33, section_id=id/ukpga/2004/5_section-49\n",
      "Warning: No matching row found for para_id=ewhc_admin_2015_3084#para_77, section_id=id/ukpga/1990/9_section-26K\n",
      "Warning: No matching row found for para_id=ewhc_admin_2016_2186#para_34, section_id=http://www.legislation.gov.uk/id/ukpga/2013/25/section/10_\n",
      "Warning: No matching row found for para_id=ewhc_admin_2016_2186#para_46, section_id=http://www.legislation.gov.uk/id/ukpga/2013/25/section/10_\n",
      "Warning: No matching row found for para_id=ewhc_admin_2016_2186#para_59, section_id=id/ukpga/1996/16_section-101\n",
      "Warning: No matching row found for para_id=ewhc_admin_2017_1818#para_32, section_id=id/ukpga/1990/9_section-20\n",
      "Warning: No matching row found for para_id=ewhc_admin_2018_1371#para_24, section_id=id/ukpga/2002/41_section-105\n",
      "Warning: No matching row found for para_id=ewhc_admin_2018_1371#para_3, section_id=id/ukpga/2002/41_section-94B\n",
      "Warning: No matching row found for para_id=ewhc_admin_2018_2651#para_8, section_id=id/ukpga/2000/11_schedule-8-part-1A\n",
      "Warning: No matching row found for para_id=ewhc_admin_2018_2651#para_94, section_id=id/ukpga/1997/68_section-4\n",
      "Warning: No matching row found for para_id=ewhc_admin_2019_1809#para_31, section_id=id/ukpga/2003/41_section-90\n",
      "Warning: No matching row found for para_id=ewhc_admin_2019_1809#para_50, section_id=id/ukpga/2003/41_section-15\n",
      "Warning: No matching row found for para_id=ewhc_admin_2019_2233#para_25, section_id=id/ukpga/2002/41_section-117A\n",
      "Warning: No matching row found for para_id=ewhc_admin_2019_2233#para_38, section_id=id/ukpga/2002/41_section-117A\n",
      "Warning: No matching row found for para_id=ewhc_admin_2019_3480#para_24, section_id=http://www.legislation.gov.uk/id/ukpga/1977/43/section/3_\n",
      "Warning: No matching row found for para_id=ewhc_admin_2019_3480#para_36, section_id=id/ukpga/1996/52_section-203\n",
      "Warning: No matching row found for para_id=ewhc_admin_2020_1522#para_3, section_id=id/ukpga/2003/41_section-8B\n",
      "Warning: No matching row found for para_id=ewhc_admin_2020_1905#para_43, section_id=id/ukpga/1990/8_section-106C\n",
      "Warning: No matching row found for para_id=ewhc_admin_2020_2579#para_20, section_id=id/ukpga/2000/37_section-84\n",
      "Warning: No matching row found for para_id=ewhc_admin_2020_801#para_33, section_id=http://www.legislation.gov.uk/id/ukpga/1991/57/section/172_\n",
      "Warning: No matching row found for para_id=ewhc_admin_2020_801#para_50, section_id=nan\n",
      "Warning: No matching row found for para_id=ewhc_admin_2020_801#para_50, section_id=nan\n",
      "Warning: No matching row found for para_id=ewhc_admin_2022_967#para_206, section_id=id/ukpga/2015/2_section-89\n",
      "Warning: No matching row found for para_id=ewhc_admin_2022_967#para_214, section_id=id/ukpga/1983/20_section-98\n",
      "Warning: No matching row found for para_id=ewhc_admin_2022_967#para_249, section_id=id/ukpga/2005/9_schedule-A1-part-1\n",
      "Warning: No matching row found for para_id=ewhc_admin_2022_967#para_275, section_id=id/ukpga/2008/14_section-129\n",
      "Warning: No matching row found for para_id=ewhc_admin_2022_967#para_279, section_id=id/ukpga/1983/20_section-116\n",
      "Warning: No matching row found for para_id=ewhc_admin_2024_1780#para_101, section_id=id/ukpga/2018/16_schedule-8-part-1\n",
      "Warning: No matching row found for para_id=ewhc_admin_2024_1780#para_41, section_id=id/ukpga/2018/16_schedule-2-part-1A\n",
      "Warning: No matching row found for para_id=ewhc_admin_2024_1780#para_46, section_id=id/ukpga/2018/16_schedule-2-part-1\n",
      "Warning: No matching row found for para_id=ewhc_admin_2024_1780#para_47, section_id=id/ukpga/2018/16_schedule-2-part-1\n",
      "Warning: No matching row found for para_id=ewhc_admin_2024_1780#para_79, section_id=id/ukpga/2018/16_schedule-7-part-2\n",
      "Warning: No matching row found for para_id=ewhc_admin_2024_2661#para_12, section_id=id/ukpga/1995/38_section-2\n",
      "Warning: No matching row found for para_id=ewhc_admin_2024_2864#para_64, section_id=id/ukpga/Vict/24-25/100_section-44\n",
      "Warning: No matching row found for para_id=ewhc_admin_2024_3016#para_68, section_id=id/ukpga/2010/15_section-136\n",
      "Warning: No matching row found for para_id=ewhc_ch_2003_2845#para_55, section_id=id/ukpga/1994/23_section-85B\n",
      "Warning: No matching row found for para_id=ewhc_ch_2004_2947#para_36, section_id=id/ukpga/Geo6/11-12/38_section-194\n",
      "Warning: No matching row found for para_id=ewhc_ch_2004_2947#para_49, section_id=id/ukpga/1986/45_schedule-B1-part-9\n",
      "Warning: No matching row found for para_id=ewhc_ch_2005_3438#para_17, section_id=id/ukpga/Eliz2/2-3/56_section-34\n",
      "Warning: No matching row found for para_id=ewhc_ch_2006_2612#para_107, section_id=id/ukpga/2004/12_section-277\n",
      "Warning: No matching row found for para_id=ewhc_ch_2006_2612#para_108, section_id=id/ukpga/2004/12_section-237E\n",
      "Warning: No matching row found for para_id=ewhc_ch_2006_2612#para_119, section_id=id/ukpga/2004/12_schedule-36-part-3_chunk_0\n",
      "Warning: No matching row found for para_id=ewhc_ch_2006_2612#para_120, section_id=id/ukpga/2004/12_schedule-36-part-3_chunk_0\n",
      "Warning: No matching row found for para_id=ewhc_ch_2006_2612#para_61, section_id=id/ukpga/2004/12_section-246A\n",
      "Warning: No matching row found for para_id=ewhc_ch_2009_74#para_68, section_id=id/ukpga/2006/46_section-83\n",
      "Warning: No matching row found for para_id=ewhc_ch_2010_180#para_9, section_id=id/ukpga/1985/6_section-726\n",
      "Warning: No matching row found for para_id=ewhc_ch_2010_938#para_20, section_id=id/ukpga/1970/9_section-55\n",
      "Warning: No matching row found for para_id=ewhc_ch_2010_938#para_33, section_id=id/ukpga/2003/1_section-222\n",
      "Warning: No matching row found for para_id=ewhc_ch_2010_938#para_44, section_id=id/ukpga/2003/1_section-705\n",
      "Warning: No matching row found for para_id=ewhc_ch_2011_3782#para_20, section_id=id/ukpga/1995/26_section-39\n",
      "Warning: No matching row found for para_id=ewhc_ch_2011_3782#para_49, section_id=id/ukpga/1995/26_section-68\n",
      "Warning: No matching row found for para_id=ewhc_ch_2011_3782#para_54, section_id=id/ukpga/1995/26_section-9\n",
      "Warning: No matching row found for para_id=ewhc_ch_2012_28#para_124, section_id=id/ukpga/1998/42_section-16\n",
      "Warning: No matching row found for para_id=ewhc_ch_2012_28#para_54, section_id=id/ukpga/1998/42_section-7\n",
      "Warning: No matching row found for para_id=ewhc_ch_2012_28#para_63, section_id=id/ukpga/1998/42_section-21\n",
      "Warning: No matching row found for para_id=ewhc_ch_2012_28#para_98, section_id=id/ukpga/1998/42_section-3\n",
      "Warning: No matching row found for para_id=ewhc_ch_2012_3266#para_17, section_id=id/ukpga/1986/45_section-152\n",
      "Warning: No matching row found for para_id=ewhc_ch_2012_731#para_54, section_id=id/ukpga/1980/58_section-35\n",
      "Warning: No matching row found for para_id=ewhc_ch_2012_731#para_81, section_id=id/ukpga/1980/58_section-33\n",
      "Warning: No matching row found for para_id=ewhc_ch_2012_731#para_88, section_id=id/ukpga/1980/58_section-32A\n",
      "Warning: No matching row found for para_id=ewhc_ch_2013_4630#para_31, section_id=id/ukpga/1986/45_section-4\n",
      "Warning: No matching row found for para_id=ewhc_ch_2013_47#para_17, section_id=id/ukpga/1990/8_section-225F\n",
      "Warning: No matching row found for para_id=ewhc_ch_2013_47#para_34, section_id=id/ukpga/1990/8_section-270\n",
      "Warning: No matching row found for para_id=ewhc_ch_2013_47#para_47, section_id=id/ukpga/1990/8_section-72\n",
      "Warning: No matching row found for para_id=ewhc_ch_2013_47#para_48, section_id=id/ukpga/1990/8_section-225F\n",
      "Warning: No matching row found for para_id=ewhc_ch_2013_47#para_52, section_id=id/ukpga/1990/8_section-93H\n",
      "Warning: No matching row found for para_id=ewhc_ch_2014_763#para_39, section_id=id/ukpga/1986/45_section-262A\n",
      "Warning: No matching row found for para_id=ewhc_ch_2014_763#para_43, section_id=id/ukpga/1986/45_section-A25\n",
      "Warning: No matching row found for para_id=ewhc_ch_2015_3172#para_27, section_id=id/ukpga/1982/53_schedule-2-part-4\n",
      "Warning: No matching row found for para_id=ewhc_ch_2016_1076#para_64, section_id=id/ukpga/2006/46_section-239\n",
      "Warning: No matching row found for para_id=ewhc_ch_2016_1076#para_70, section_id=id/ukpga/2006/46_section-774\n",
      "Warning: No matching row found for para_id=ewhc_ch_2016_1076#para_85, section_id=id/ukpga/2006/46_section-239\n",
      "Warning: No matching row found for para_id=ewhc_ch_2016_1076#para_89, section_id=id/ukpga/2006/46_section-160\n",
      "Warning: No matching row found for para_id=ewhc_ch_2016_2759#para_27, section_id=id/ukpga/Geo5/15-16/20_section-49\n",
      "Warning: No matching row found for para_id=ewhc_ch_2016_876#para_18, section_id=id/ukpga/2011/25_section-76\n",
      "Warning: No matching row found for para_id=ewhc_ch_2016_876#para_20, section_id=id/ukpga/2007/3_schedule-2-part-14\n",
      "Warning: No matching row found for para_id=ewhc_ch_2016_876#para_58, section_id=id/ukpga/2011/25_section-78\n",
      "Warning: No matching row found for para_id=ewhc_ch_2017_1727#para_28, section_id=id/ukpga/1981/49_section-15\n",
      "Warning: No matching row found for para_id=ewhc_ch_2017_1727#para_32, section_id=id/ukpga/1981/49_section-7\n",
      "Warning: No matching row found for para_id=ewhc_ch_2017_1770#para_25, section_id=id/ukpga/1996/47_section-7\n",
      "Warning: No matching row found for para_id=ewhc_ch_2017_1770#para_26, section_id=id/ukpga/1996/47_section-11\n",
      "Warning: No matching row found for para_id=ewhc_ch_2017_1770#para_29, section_id=id/ukpga/1996/47_section-11\n",
      "Warning: No matching row found for para_id=ewhc_ch_2017_1770#para_59, section_id=id/ukpga/1996/47_section-7\n",
      "Warning: No matching row found for para_id=ewhc_ch_2017_1770#para_76, section_id=id/ukpga/1996/47_section-7\n",
      "Warning: No matching row found for para_id=ewhc_ch_2017_1770#para_85, section_id=id/ukpga/1996/47_section-7\n",
      "Warning: No matching row found for para_id=ewhc_ch_2017_2621#para_142, section_id=id/ukpga/2006/46_section-842\n",
      "Warning: No matching row found for para_id=ewhc_ch_2017_769#para_147, section_id=id/ukpga/1985/61_section-48\n",
      "Warning: No matching row found for para_id=ewhc_ch_2017_769#para_316, section_id=id/ukpga/1982/53_section-22\n",
      "Warning: No matching row found for para_id=ewhc_ch_2017_769#para_321, section_id=id/ukpga/Geo5/15-16/19_section-33\n",
      "Warning: No matching row found for para_id=ewhc_ch_2017_769#para_67, section_id=id/ukpga/Geo5/15-16/19_section-55\n",
      "Warning: No matching row found for para_id=ewhc_ch_2018_2169#para_83, section_id=http://www.legislation.gov.uk/id/ukpga/1986/45/section/436_\n",
      "Warning: No matching row found for para_id=ewhc_ch_2018_2169#para_90, section_id=id/ukpga/1986/45_section-340\n",
      "Warning: No matching row found for para_id=ewhc_ch_2018_2877#para_98, section_id=id/ukpga/1981/54_section-60\n",
      "Warning: No matching row found for para_id=ewhc_ch_2019_1839#para_23, section_id=http://www.legislation.gov.uk/id/ukpga/1986/45/section/267_\n",
      "Warning: No matching row found for para_id=ewhc_ch_2019_1839#para_30, section_id=id/ukpga/1974/39_section-75\n",
      "Warning: No matching row found for para_id=ewhc_ch_2019_1839#para_35, section_id=id/ukpga/1974/39_schedule-2-part-II\n",
      "Warning: No matching row found for para_id=ewhc_ch_2019_1839#para_92, section_id=id/ukpga/1986/45_section-152\n",
      "Warning: No matching row found for para_id=ewhc_ch_2019_3339#para_34, section_id=id/ukpga/1986/45_section-393\n",
      "Warning: No matching row found for para_id=ewhc_ch_2019_3339#para_52, section_id=id/ukpga/1986/45_section-434\n",
      "Warning: No matching row found for para_id=ewhc_ch_2019_704#para_22, section_id=id/ukpga/1996/23_section-69\n",
      "Warning: No matching row found for para_id=ewhc_ch_2019_704#para_59, section_id=id/ukpga/1996/23_section-73\n",
      "Warning: No matching row found for para_id=ewhc_ch_2020_1363#para_41, section_id=id/ukpga/2006/46_section-955\n",
      "Warning: No matching row found for para_id=ewhc_ch_2020_1363#para_42, section_id=id/ukpga/2006/46_section-939\n",
      "Warning: No matching row found for para_id=ewhc_ch_2020_2624#para_107, section_id=id/ukpga/2006/46_section-931\n",
      "Warning: No matching row found for para_id=ewhc_ch_2020_2624#para_112, section_id=id/ukpga/2006/46_section-264\n",
      "Warning: No matching row found for para_id=ewhc_ch_2020_3295#para_15, section_id=id/ukpga/2011/25_schedule-7-part-1\n",
      "Warning: No matching row found for para_id=ewhc_ch_2020_3295#para_15, section_id=id/ukpga/1975/63_section-25\n",
      "Warning: No matching row found for para_id=ewhc_ch_2020_3295#para_21, section_id=http://www.legislation.gov.uk/id/ukpga/1982/53/section/21_\n",
      "Warning: No matching row found for para_id=ewhc_ch_2020_3622#para_40, section_id=id/ukpga/1986/45_section-391K\n",
      "Warning: No matching row found for para_id=ewhc_ch_2020_3622#para_53, section_id=id/ukpga/1986/45_section-176A\n",
      "Warning: No matching row found for para_id=ewhc_ch_2021_1275#para_19, section_id=id/ukpga/Geo5/15-16/20_section-203\n",
      "Warning: No matching row found for para_id=ewhc_ch_2021_324#para_13, section_id=id/ukpga/2011/25_section-243\n",
      "Warning: No matching row found for para_id=ewhc_ch_2021_324#para_38, section_id=id/ukpga/2011/25_section-334\n",
      "Warning: No matching row found for para_id=ewhc_ch_2022_2033#para_14, section_id=id/ukpga/Geo5/15-16/23_section-38\n",
      "Warning: No matching row found for para_id=ewhc_ch_2022_2033#para_30, section_id=id/ukpga/Geo5/15-16/23_section-52\n",
      "Warning: No matching row found for para_id=ewhc_ch_2022_2033#para_4, section_id=id/ukpga/1996/47_section-7\n",
      "Warning: No matching row found for para_id=ewhc_ch_2022_2112#para_43, section_id=id/ukpga/1968/64_section-16\n",
      "Warning: No matching row found for para_id=ewhc_ch_2022_740#para_90, section_id=id/ukpga/2006/46_section-996\n",
      "Warning: No matching row found for para_id=ewhc_ch_2023_123#para_22, section_id=id/ukpga/1986/45_section-A43\n",
      "Warning: No matching row found for para_id=ewhc_ch_2023_123#para_62, section_id=id/ukpga/1986/45_section-436B\n",
      "Warning: No matching row found for para_id=ewhc_ch_2023_123#para_66, section_id=id/ukpga/2009/1_section-147\n",
      "Warning: No matching row found for para_id=ewhc_ch_2023_175#para_107, section_id=id/ukpga/2006/46_section-872\n",
      "Warning: No matching row found for para_id=ewhc_ch_2023_175#para_51, section_id=id/ukpga/2006/46_section-269\n",
      "Warning: No matching row found for para_id=ewhc_ch_2023_175#para_81, section_id=id/ukpga/2006/46_section-953\n",
      "Warning: No matching row found for para_id=ewhc_ch_2023_264#para_23, section_id=id/ukpga/2006/46_section-1098H\n",
      "Warning: No matching row found for para_id=ewhc_ch_2023_264#para_30, section_id=id/ukpga/2006/46_section-138\n",
      "Warning: No matching row found for para_id=ewhc_ch_2023_4#para_143, section_id=id/ukpga/1972/30_section-2\n",
      "Warning: No matching row found for para_id=ewhc_ch_2023_568#para_124, section_id=id/ukpga/1986/46_section-8A\n",
      "Warning: No matching row found for para_id=ewhc_ch_2023_568#para_125, section_id=id/ukpga/1986/46_section-8A\n",
      "Warning: No matching row found for para_id=ewhc_ch_2023_568#para_131, section_id=id/ukpga/2010/15_section-172\n",
      "Warning: No matching row found for para_id=ewhc_ch_2024_11#para_45, section_id=id/ukpga/1981/54_section-51\n",
      "Warning: No matching row found for para_id=ewhc_ch_2024_560#para_23, section_id=id/ukpga/1978/47_section-4\n",
      "Warning: No matching row found for para_id=ewhc_ch_2024_560#para_95, section_id=id/ukpga/1978/47_section-2\n",
      "Warning: No matching row found for para_id=ewhc_ch_2025_46#para_86, section_id=id/ukpga/1998/41_schedule-13-part-VII\n",
      "Warning: No matching row found for para_id=ewhc_comm_2004_1752#para_11, section_id=id/ukpga/1996/23_section-47\n",
      "Warning: No matching row found for para_id=ewhc_comm_2005_2115#para_40, section_id=id/ukpga/1996/23_section-82\n",
      "Warning: No matching row found for para_id=ewhc_comm_2005_2115#para_42, section_id=id/ukpga/1982/27_schedule-3F-part-chapter-IV\n",
      "Warning: No matching row found for para_id=ewhc_comm_2005_2115#para_49, section_id=id/ukpga/1982/27_schedule-3C-part-TITLE-VI\n",
      "Warning: No matching row found for para_id=ewhc_comm_2005_2115#para_70, section_id=id/ukpga/1982/27_schedule-4-part-TITLE-II-chapter-Section-6\n",
      "Warning: No matching row found for para_id=ewhc_comm_2005_2115#para_83, section_id=id/ukpga/1996/23_section-73\n",
      "Warning: No matching row found for para_id=ewhc_comm_2006_134#para_22, section_id=id/ukpga/1996/23_section-56\n",
      "Warning: No matching row found for para_id=ewhc_comm_2011_1372#para_23, section_id=id/ukpga/1999/31_section-6\n",
      "Warning: No matching row found for para_id=ewhc_comm_2011_1372#para_42, section_id=id/ukpga/1998/41_schedule-1-part-I\n",
      "Warning: No matching row found for para_id=ewhc_comm_2015_2748#para_36, section_id=id/ukpga/1981/54_section-40A\n",
      "Warning: No matching row found for para_id=ewhc_comm_2015_3248#para_25, section_id=id/ukpga/2002/29_section-303Z6\n",
      "Warning: No matching row found for para_id=ewhc_comm_2017_1430#para_9, section_id=id/ukpga/1996/23_section-11\n",
      "Warning: No matching row found for para_id=ewhc_comm_2018_330#para_11, section_id=id/ukpga/1996/23_section-19\n",
      "Warning: No matching row found for para_id=ewhc_comm_2018_330#para_57, section_id=id/ukpga/1996/23_section-23\n",
      "Warning: No matching row found for para_id=ewhc_comm_2020_2012#para_101, section_id=id/ukpga/1996/23_section-73\n",
      "Warning: No matching row found for para_id=ewhc_comm_2020_2012#para_115, section_id=id/ukpga/1996/23_section-89\n",
      "Warning: No matching row found for para_id=ewhc_comm_2020_2012#para_75, section_id=id/ukpga/1996/23_section-46\n",
      "Warning: No matching row found for para_id=ewhc_comm_2020_2012#para_77, section_id=id/ukpga/1996/23_section-45\n",
      "Warning: No matching row found for para_id=ewhc_comm_2020_2012#para_81, section_id=id/ukpga/1996/23_section-1\n",
      "Warning: No matching row found for para_id=ewhc_comm_2020_2012#para_95, section_id=id/ukpga/1996/23_section-7\n",
      "Warning: No matching row found for para_id=ewhc_comm_2020_3334#para_133, section_id=id/ukpga/1979/54_section-53A\n",
      "Warning: No matching row found for para_id=ewhc_comm_2020_3334#para_135, section_id=id/ukpga/1979/54_section-53A\n",
      "Warning: No matching row found for para_id=ewhc_comm_2020_3334#para_17, section_id=id/ukpga/1979/54_section-53A\n",
      "Warning: No matching row found for para_id=ewhc_comm_2020_3334#para_91, section_id=id/ukpga/1979/54_section-59\n",
      "Warning: No matching row found for para_id=ewhc_comm_2020_3334#para_92, section_id=id/ukpga/1979/54_section-59\n",
      "Warning: No matching row found for para_id=ewhc_comm_2023_2866#para_43, section_id=id/ukpga/Geo6/6-7/40_section-1\n",
      "Warning: No matching row found for para_id=ewhc_comm_2023_2866#para_44, section_id=id/ukpga/2018/13_section-47\n",
      "Warning: No matching row found for para_id=ewhc_comm_2023_2866#para_53, section_id=id/ukpga/2018/13_section-20\n",
      "Warning: No matching row found for para_id=ewhc_comm_2023_2866#para_58, section_id=id/ukpga/2018/13_section-9\n",
      "Warning: No matching row found for para_id=ewhc_comm_2023_2866#para_60, section_id=id/ukpga/2018/13_section-9\n",
      "Warning: No matching row found for para_id=ewhc_comm_2023_910#para_24, section_id=id/ukpga/1996/23_section-45\n",
      "Warning: No matching row found for para_id=ewhc_comm_2023_910#para_86, section_id=id/ukpga/1996/23_section-41\n",
      "Warning: No matching row found for para_id=ewhc_comm_2023_910#para_99, section_id=id/ukpga/1996/23_section-34\n",
      "Warning: No matching row found for para_id=ewhc_costs_2003_9050#para_17, section_id=id/ukpga/1990/41_section-4\n",
      "Warning: No matching row found for para_id=ewhc_fam_2005_1832#para_31, section_id=id/ukpga/1989/41_section-100\n",
      "Warning: No matching row found for para_id=ewhc_fam_2014_3135#para_25, section_id=id/ukpga/1989/41_section-14C\n",
      "Warning: No matching row found for para_id=ewhc_fam_2014_3135#para_54, section_id=id/ukpga/2002/38_section-46\n",
      "Warning: No matching row found for para_id=ewhc_fam_2014_4643#para_27, section_id=id/ukpga/1989/41_section-11\n",
      "Warning: No matching row found for para_id=ewhc_fam_2014_4643#para_80, section_id=id/ukpga/1989/41_section-11H\n",
      "Warning: No matching row found for para_id=ewhc_fam_2017_1782#para_12, section_id=id/ukpga/2008/22_section-54\n",
      "Warning: No matching row found for para_id=ewhc_fam_2017_3164#para_47, section_id=http://www.legislation.gov.uk/id/ukpga/1973/18/section/23_\n",
      "Warning: No matching row found for para_id=ewhc_fam_2018_3244#para_7, section_id=id/ukpga/2014/6_section-13\n",
      "Warning: No matching row found for para_id=ewhc_fam_2018_3795#para_28, section_id=id/ukpga/1989/41_section-14B\n",
      "Warning: No matching row found for para_id=ewhc_fam_2022_2120#para_24, section_id=id/ukpga/1989/41_section-7\n",
      "Warning: No matching row found for para_id=ewhc_fam_2022_2677#para_25, section_id=id/ukpga/1985/60_section-21\n",
      "Warning: No matching row found for para_id=ewhc_fam_2022_2677#para_35, section_id=id/ukpga/1985/60_schedule-1-part-3\n",
      "Warning: No matching row found for para_id=ewhc_fam_2023_1096#para_20, section_id=id/ukpga/1984/42_section-31G\n",
      "Warning: No matching row found for para_id=ewhc_fam_2023_1096#para_5, section_id=id/ukpga/1984/42_section-15\n",
      "Warning: No matching row found for para_id=ewhc_kb_2023_1256#para_18, section_id=id/ukpga/1996/31_section-1\n",
      "Warning: No matching row found for para_id=ewhc_kb_2023_1256#para_45, section_id=id/ukpga/2019/24_section-1\n",
      "Warning: No matching row found for para_id=ewhc_kb_2023_1256#para_46, section_id=id/ukpga/2019/24_section-1\n",
      "Warning: No matching row found for para_id=ewhc_kb_2023_1256#para_62, section_id=id/ukpga/1996/31_section-1\n",
      "Warning: No matching row found for para_id=ewhc_kb_2023_965#para_12, section_id=id/ukpga/1990/8_section-70C\n",
      "Warning: No matching row found for para_id=ewhc_kb_2023_965#para_45, section_id=id/ukpga/1990/8_section-241\n",
      "Warning: No matching row found for para_id=ewhc_kb_2023_965#para_49, section_id=http://www.legislation.gov.uk/id/ukpga/1990/8/section/70_\n",
      "Warning: No matching row found for para_id=ewhc_kb_2023_965#para_74, section_id=id/ukpga/1990/8_section-61N\n",
      "Warning: No matching row found for para_id=ewhc_kb_2023_965#para_85, section_id=id/ukpga/1990/8_section-70D\n",
      "Warning: No matching row found for para_id=ewhc_pat_2005_2240#para_4, section_id=id/ukpga/1977/37_section-83\n",
      "Warning: No matching row found for para_id=ewhc_pat_2005_2240#para_49, section_id=http://www.legislation.gov.uk/id/ukpga/1977/37/section/36_\n",
      "Warning: No matching row found for para_id=ewhc_pat_2014_4242#para_45, section_id=id/ukpga/Geo6/12-13-14/88_section-24B\n",
      "Warning: No matching row found for para_id=ewhc_pat_2014_4242#para_57, section_id=id/ukpga/1994/26_section-92\n",
      "Warning: No matching row found for para_id=ewhc_qb_2003_1814#para_30, section_id=id/ukpga/1980/58_section-32\n",
      "Warning: No matching row found for para_id=ewhc_qb_2003_3555#para_16, section_id=id/ukpga/1981/54_section-24\n",
      "Warning: No matching row found for para_id=ewhc_qb_2009_1900#para_21, section_id=id/ukpga/1995/42_section-10\n",
      "Warning: No matching row found for para_id=ewhc_qb_2010_100#para_16, section_id=id/ukpga/1981/54_section-69\n",
      "Warning: No matching row found for para_id=ewhc_qb_2011_179#para_36, section_id=id/ukpga/1996/31_schedule-1-part-III\n",
      "Warning: No matching row found for para_id=ewhc_qb_2011_179#para_47, section_id=id/ukpga/1968/64_section-18\n",
      "Warning: No matching row found for para_id=ewhc_qb_2011_272#para_33, section_id=id/ukpga/Geo6and1Eliz2/15-16/66_section-3\n",
      "Warning: No matching row found for para_id=ewhc_qb_2011_4#para_53, section_id=http://www.legislation.gov.uk/id/ukpga/1984/60/section/24_\n",
      "Warning: No matching row found for para_id=ewhc_qb_2011_4#para_60, section_id=id/ukpga/1984/60_section-28\n",
      "Warning: No matching row found for para_id=ewhc_qb_2013_797#para_25, section_id=id/ukpga/Geo5/1-2/6_section-1A\n",
      "Warning: No matching row found for para_id=ewhc_qb_2013_797#para_42, section_id=id/ukpga/2006/46_section-1004\n",
      "Warning: No matching row found for para_id=ewhc_qb_2013_797#para_55, section_id=id/ukpga/1980/58_section-32A\n",
      "Warning: No matching row found for para_id=ewhc_qb_2013_797#para_60, section_id=id/ukpga/2006/46_section-1092C\n",
      "Warning: No matching row found for para_id=ewhc_qb_2013_797#para_66, section_id=id/ukpga/Geo5/1-2/6_section-1A\n",
      "Warning: No matching row found for para_id=ewhc_qb_2013_797#para_89, section_id=id/ukpga/2006/46_section-263\n",
      "Warning: No matching row found for para_id=ewhc_qb_2013_797#para_9, section_id=id/ukpga/1980/58_section-32A\n",
      "Warning: No matching row found for para_id=ewhc_qb_2015_1760#para_55, section_id=id/ukpga/Geo6/10-11/44_section-40\n",
      "Warning: No matching row found for para_id=ewhc_qb_2015_1760#para_70, section_id=id/ukpga/Eliz2/10-11/19_section-3\n",
      "Warning: No matching row found for para_id=ewhc_qb_2015_1760#para_77, section_id=id/ukpga/Geo6/10-11/44_section-31\n",
      "Warning: No matching row found for para_id=ewhc_qb_2015_926#para_21, section_id=id/ukpga/1987/43_section-5\n",
      "Warning: No matching row found for para_id=ewhc_qb_2015_926#para_22, section_id=id/ukpga/1987/43_schedule-1-part-I\n",
      "Warning: No matching row found for para_id=ewhc_qb_2015_926#para_42, section_id=id/ukpga/1982/27_schedule-4-part-TITLE-II-chapter-Section-7\n",
      "Warning: No matching row found for para_id=ewhc_qb_2015_926#para_50, section_id=id/ukpga/1982/27_section-33\n",
      "Warning: No matching row found for para_id=ewhc_qb_2015_926#para_62, section_id=id/ukpga/1987/43_section-5\n",
      "Warning: No matching row found for para_id=ewhc_qb_2015_926#para_63, section_id=id/ukpga/1987/43_section-5\n",
      "Warning: No matching row found for para_id=ewhc_qb_2015_926#para_83, section_id=id/ukpga/1982/27_schedule-3F-part-chapter-I-crossheading-exclusions-from-scope\n",
      "Warning: No matching row found for para_id=ewhc_qb_2015_926#para_86, section_id=id/ukpga/1982/27_section-34\n",
      "Warning: No matching row found for para_id=ewhc_qb_2017_294#para_38, section_id=id/ukpga/1990/8_section-272\n",
      "Warning: No matching row found for para_id=ewhc_qb_2017_3087#para_93, section_id=id/ukpga/1990/43_section-59\n",
      "Warning: No matching row found for para_id=ewhc_qb_2019_3340#para_35, section_id=id/ukpga/1998/42_section-9\n",
      "Warning: No matching row found for para_id=ewhc_qb_2019_3340#para_45, section_id=id/ukpga/Geo5/23-24/13_section-4\n",
      "Warning: No matching row found for para_id=ewhc_qb_2020_718#para_53, section_id=id/ukpga/1984/27_section-87\n",
      "Warning: No matching row found for para_id=ewhc_qb_2020_718#para_54, section_id=http://www.legislation.gov.uk/id/ukpga/1984/27/section/87_\n",
      "Warning: No matching row found for para_id=ewhc_qb_2021_157#para_10, section_id=id/ukpga/Geo5/23-24/12_section-39\n",
      "Warning: No matching row found for para_id=ewhc_qb_2022_977#para_28, section_id=id/ukpga/2015/15_section-69\n",
      "Warning: No matching row found for para_id=ewhc_tcc_2011_87#para_60, section_id=id/ukpga/1998/42_section-12\n",
      "Warning: No matching row found for para_id=ewhc_tcc_2012_2593#para_160, section_id=id/ukpga/1991/57_section-163\n",
      "Warning: No matching row found for para_id=ukait_2008_1#para_15, section_id=id/ukpga/2002/41_section-106\n",
      "Warning: No matching row found for para_id=ukait_2008_1#para_23, section_id=id/ukpga/2002/41_section-102\n",
      "Warning: No matching row found for para_id=ukait_2009_40#para_17, section_id=id/ukpga/1973/18_section-40\n",
      "Warning: No matching row found for para_id=ukait_2009_40#para_24, section_id=id/ukpga/2002/41_section-120\n",
      "Warning: No matching row found for para_id=ukait_2009_41#para_16, section_id=id/ukpga/1998/42_section-7\n",
      "Warning: No matching row found for para_id=ukait_2009_43#para_6, section_id=id/ukpga/2002/41_section-120\n",
      "Warning: No matching row found for para_id=ukait_2009_43#para_7, section_id=id/ukpga/2002/41_section-120\n",
      "Warning: No matching row found for para_id=ukait_2009_54#para_14, section_id=id/ukpga/2002/41_section-96\n",
      "Warning: No matching row found for para_id=ukait_2009_54#para_16, section_id=id/ukpga/2002/41_section-96\n",
      "Warning: No matching row found for para_id=ukait_2009_54#para_4, section_id=id/ukpga/2002/41_section-96\n",
      "Warning: No matching row found for para_id=ukftt_grc_2023_35#para_3, section_id=id/ukpga/2018/12_section-164\n",
      "Warning: No matching row found for para_id=ukftt_grc_2024_1087#para_64, section_id=id/ukpga/2000/36_section-43\n",
      "Warning: No matching row found for para_id=ukftt_grc_2024_471#para_29, section_id=id/ukpga/2000/36_schedule-5-part-I\n",
      "Warning: No matching row found for para_id=ukftt_grc_2025_289#para_18, section_id=id/ukpga/2018/12_schedule-19-part-2_chunk_14\n",
      "Warning: No matching row found for para_id=ukftt_tc_2022_171#para_60, section_id=id/ukpga/1992/12_section-113\n",
      "Warning: No matching row found for para_id=ukftt_tc_2022_201#para_30, section_id=id/ukpga/1994/23_schedule-8-part-II_chunk_4\n",
      "Warning: No matching row found for para_id=ukftt_tc_2022_201#para_46, section_id=id/ukpga/1994/23_schedule-8-part-II_chunk_2\n",
      "Warning: No matching row found for para_id=ukftt_tc_2024_139#para_68, section_id=id/ukpga/1970/9_section-36\n",
      "Warning: No matching row found for para_id=ukftt_tc_2024_139#para_74, section_id=id/ukpga/1970/9_section-105\n",
      "Warning: No matching row found for para_id=ukftt_tc_2024_139#para_75, section_id=id/ukpga/1970/9_section-37A\n",
      "Warning: No matching row found for para_id=ukftt_tc_2024_744#para_100, section_id=id/ukpga/1992/4_section-159B\n",
      "Warning: No matching row found for para_id=ukftt_tc_2024_744#para_182, section_id=id/ukpga/1970/9_section-114\n",
      "Warning: No matching row found for para_id=ukftt_tc_2024_744#para_216, section_id=id/ukpga/1970/9_section-50\n",
      "Warning: No matching row found for para_id=ukpc_2009_42#para_16, section_id=id/ukpga/Eliz2/5-6/11_section-1\n",
      "Warning: No matching row found for para_id=ukpc_2009_42#para_17, section_id=id/ukpga/Eliz2/5-6/11_section-3\n",
      "Warning: No matching row found for para_id=ukpc_2009_42#para_20, section_id=id/ukpga/Eliz2/5-6/11_section-3\n",
      "Warning: No matching row found for para_id=ukpc_2013_21#para_13, section_id=id/ukpga/1971/77_section-16\n",
      "Warning: No matching row found for para_id=ukpc_2013_21#para_16, section_id=id/ukpga/1971/77_section-21\n",
      "Warning: No matching row found for para_id=ukpc_2022_47#para_112, section_id=id/ukpga/Eliz2/6-7/53_section-1\n",
      "Warning: No matching row found for para_id=ukpc_2022_47#para_122, section_id=id/ukpga/Eliz2/6-7/53_section-1\n",
      "Warning: No matching row found for para_id=ukpc_2023_36#para_76, section_id=id/ukpga/1976/54_section-2\n",
      "Warning: No matching row found for para_id=uksc_2011_41#para_31, section_id=id/ukpga/1998/39_section-49\n",
      "Warning: No matching row found for para_id=uksc_2013_11#para_34, section_id=id/ukpga/1986/60_section-6\n",
      "Warning: No matching row found for para_id=uksc_2013_8#para_27, section_id=id/ukpga/1989/41_section-79M\n",
      "Warning: No matching row found for para_id=uksc_2022_30#para_53, section_id=id/ukpga/1990/8_section-72\n",
      "Warning: No matching row found for para_id=uksc_2022_30#para_63, section_id=nan\n",
      "Warning: No matching row found for para_id=uksc_2022_30#para_72, section_id=id/ukpga/1990/8_section-86\n",
      "Warning: No matching row found for para_id=uksc_2022_30#para_76, section_id=id/ukpga/1990/8_section-96A\n",
      "Warning: No matching row found for para_id=uksc_2022_30#para_88, section_id=id/ukpga/1990/8_section-267\n",
      "Warning: No matching row found for para_id=uksc_2022_30#para_93, section_id=id/ukpga/1990/8_section-93C\n",
      "Warning: No matching row found for para_id=ukut_aac_2016_355#para_30, section_id=id/ukpga/1995/18_section-8\n",
      "Warning: No matching row found for para_id=ukut_aac_2023_288#para_12, section_id=id/ukpga/1992/5_section-117\n",
      "Warning: No matching row found for para_id=ukut_aac_2023_288#para_25, section_id=id/ukpga/1992/5_section-115C\n",
      "Warning: No matching row found for para_id=ukut_aac_2023_288#para_29, section_id=id/ukpga/2007/15_section-12\n",
      "Warning: No matching row found for para_id=ukut_lc_2024_202#para_67, section_id=id/ukpga/2004/34_section-249A\n",
      "Warning: No matching row found for para_id=ukut_tcc_2023_244#para_81, section_id=id/ukpga/1970/9_section-101\n",
      "Shape before: (8104, 5)\n",
      "Shape after: (8104, 6)\n",
      "Reasoning added to 7610/8104 rows\n",
      "\n",
      "Example rows with reasoning:\n",
      "Para_id: eat_2022_192#para_12, Section: id/ukpga/2010/15_section-60, Model: deepseek\n",
      "Reasoning: The case discusses the handling of a pre-employment health questionnaire, which relates to the prohi...\n",
      "\n",
      "Para_id: eat_2022_192#para_18, Section: id/ukpga/2010/15_schedule-8-part-1, Model: deepseek\n",
      "Reasoning: The case law discusses the occupational health assessment and the employer's handling of medical inf...\n",
      "\n",
      "Para_id: eat_2022_192#para_18, Section: id/ukpga/2010/15_section-60, Model: openai\n",
      "Reasoning: The case law discusses the occupational health assessment and the employer's handling of medical inf...\n",
      "\n",
      "Warning: 494 rows still missing reasoning:\n",
      "                         para_id                          section_id     model\n",
      "custom_id                                                                     \n",
      "request_11  eat_2022_192#para_42         id/ukpga/2010/15_section-16    openai\n",
      "request_19  eat_2022_192#para_64  id/ukpga/2010/15_schedule-8-part-3     llama\n",
      "request_25  eat_2022_192#para_70  id/ukpga/2010/15_schedule-8-part-3  deepseek\n",
      "request_31  eat_2023_162#para_18        id/ukpga/2010/15_section-134    openai\n",
      "request_62  eat_2024_17#para_119        id/ukpga/1996/18_section-129  deepseek\n"
     ]
    }
   ],
   "source": [
    "def add_reasoning_to_resolved_decisions(df_decision_after_resolution, df_for_decision):\n",
    "    \"\"\"\n",
    "    Add reasoning column to df_decision_after_resolution by matching para_id, section_id, and model\n",
    "    from df_for_decision\n",
    "    \"\"\"\n",
    "    \n",
    "    # Create a copy to avoid modifying original\n",
    "    df_resolved = df_decision_after_resolution.copy()\n",
    "    \n",
    "    # Initialize reasoning column\n",
    "    df_resolved['reasoning'] = None\n",
    "    \n",
    "    # If df_for_decision has para_id as index, reset it to make it a column\n",
    "    if df_for_decision.index.name == 'para_id':\n",
    "        df_lookup = df_for_decision.reset_index()\n",
    "    else:\n",
    "        df_lookup = df_for_decision.copy()\n",
    "    \n",
    "    # Iterate through each row in df_decision_after_resolution\n",
    "    for idx, row in df_resolved.iterrows():\n",
    "        para_id = row['para_id']\n",
    "        section_id = row['section_id']\n",
    "        model = row['model']\n",
    "        \n",
    "        # Find matching row in df_for_decision\n",
    "        matching_rows = df_lookup[\n",
    "            (df_lookup['para_id'] == para_id) & \n",
    "            (df_lookup['section_id'] == section_id)\n",
    "        ]\n",
    "        \n",
    "        if len(matching_rows) > 0:\n",
    "            matching_row = matching_rows.iloc[0]  # Take first match\n",
    "            \n",
    "            # Pick reasoning based on model\n",
    "            if model == 'deepseek':\n",
    "                reasoning = matching_row.get('reasoning_deepseek', matching_row.get('reasoning', None))\n",
    "            elif model == 'llama':\n",
    "                reasoning = matching_row.get('reasoning_llama', matching_row.get('reasoning', None))\n",
    "            elif model == 'openai':\n",
    "                reasoning = matching_row.get('reasoning_openai', matching_row.get('reasoning', None))\n",
    "            elif model == 'claude':\n",
    "                reasoning = matching_row.get('reasoning_claude', matching_row.get('reasoning', None))\n",
    "            else:\n",
    "                reasoning = matching_row.get('reasoning', matching_row.get('reasoning', None))\n",
    "                \n",
    "            df_resolved.at[idx, 'reasoning'] = reasoning\n",
    "        else:\n",
    "            print(f\"Warning: No matching row found for para_id={para_id}, section_id={section_id}\")\n",
    "    \n",
    "    return df_resolved\n",
    "\n",
    "# Alternative more efficient version using merge\n",
    "def add_reasoning_to_resolved_decisions_efficient(df_decision_after_resolution, df_for_decision):\n",
    "    \"\"\"\n",
    "    More efficient version using merge operations\n",
    "    \"\"\"\n",
    "    \n",
    "    # Create a copy to avoid modifying original\n",
    "    df_resolved = df_decision_after_resolution.copy()\n",
    "    \n",
    "    # If df_for_decision has para_id as index, reset it\n",
    "    if df_for_decision.index.name == 'para_id':\n",
    "        df_lookup = df_for_decision.reset_index()\n",
    "    else:\n",
    "        df_lookup = df_for_decision.copy()\n",
    "    \n",
    "    # Create separate lookup dataframes for each model\n",
    "    reasoning_cols = ['para_id', 'section_id']\n",
    "    \n",
    "    # DeepSeek reasoning\n",
    "    deepseek_lookup = df_lookup[reasoning_cols + ['reasoning_deepseek']].copy()\n",
    "    deepseek_lookup['model'] = 'deepseek'\n",
    "    deepseek_lookup['reasoning'] = deepseek_lookup['reasoning_deepseek']\n",
    "    deepseek_lookup = deepseek_lookup[reasoning_cols + ['model', 'reasoning']]\n",
    "    \n",
    "    # Llama reasoning\n",
    "    llama_lookup = df_lookup[reasoning_cols + ['reasoning_llama']].copy()\n",
    "    llama_lookup['model'] = 'llama'\n",
    "    llama_lookup['reasoning'] = llama_lookup['reasoning_llama']\n",
    "    llama_lookup = llama_lookup[reasoning_cols + ['model', 'reasoning']]\n",
    "    \n",
    "    # OpenAI reasoning\n",
    "    openai_lookup = df_lookup[reasoning_cols + ['reasoning_openai']].copy()\n",
    "    openai_lookup['model'] = 'openai'\n",
    "    openai_lookup['reasoning'] = openai_lookup['reasoning_openai']\n",
    "    openai_lookup = openai_lookup[reasoning_cols + ['model', 'reasoning']]\n",
    "    \n",
    "    # Claude reasoning (if exists)\n",
    "    claude_lookup = None\n",
    "    if 'reasoning_claude' in df_lookup.columns:\n",
    "        claude_lookup = df_lookup[reasoning_cols + ['reasoning_claude']].copy()\n",
    "        claude_lookup['model'] = 'claude'\n",
    "        claude_lookup['reasoning'] = claude_lookup['reasoning_claude']\n",
    "        claude_lookup = claude_lookup[reasoning_cols + ['model', 'reasoning']]\n",
    "    \n",
    "    # Combine all lookups\n",
    "    all_lookups = [deepseek_lookup, llama_lookup, openai_lookup]\n",
    "    if claude_lookup is not None:\n",
    "        all_lookups.append(claude_lookup)\n",
    "    \n",
    "    reasoning_lookup = pd.concat(all_lookups, ignore_index=True)\n",
    "    \n",
    "    # Merge with resolved decisions\n",
    "    df_resolved = df_resolved.merge(\n",
    "        reasoning_lookup,\n",
    "        on=['para_id', 'section_id', 'model'],\n",
    "        how='left'\n",
    "    )\n",
    "    \n",
    "    return df_resolved\n",
    "\n",
    "# Usage example:\n",
    "print(\"Adding reasoning to resolved decisions...\")\n",
    "\n",
    "# Method 1: Simple iteration\n",
    "df_decision_with_reasoning = add_reasoning_to_resolved_decisions(\n",
    "    df_decision_after_resolution, \n",
    "    df_for_decision\n",
    ")\n",
    "\n",
    "# OR Method 2: More efficient merge (recommended for large datasets)\n",
    "# df_decision_with_reasoning = add_reasoning_to_resolved_decisions_efficient(\n",
    "#     df_decision_after_resolution, \n",
    "#     df_for_decision\n",
    "# )\n",
    "\n",
    "print(f\"Shape before: {df_decision_after_resolution.shape}\")\n",
    "print(f\"Shape after: {df_decision_with_reasoning.shape}\")\n",
    "\n",
    "# Check if reasoning was added successfully\n",
    "reasoning_added = df_decision_with_reasoning['reasoning'].notna().sum()\n",
    "total_rows = len(df_decision_with_reasoning)\n",
    "print(f\"Reasoning added to {reasoning_added}/{total_rows} rows\")\n",
    "\n",
    "# Show examples\n",
    "print(\"\\nExample rows with reasoning:\")\n",
    "sample_rows = df_decision_with_reasoning[df_decision_with_reasoning['reasoning'].notna()].head(3)\n",
    "for _, row in sample_rows.iterrows():\n",
    "    print(f\"Para_id: {row['para_id']}, Section: {row['section_id']}, Model: {row['model']}\")\n",
    "    print(f\"Reasoning: {row['reasoning'][:100]}...\")\n",
    "    print()\n",
    "\n",
    "# Check for missing reasoning\n",
    "missing_reasoning = df_decision_with_reasoning[df_decision_with_reasoning['reasoning'].isna()]\n",
    "if len(missing_reasoning) > 0:\n",
    "    print(f\"Warning: {len(missing_reasoning)} rows still missing reasoning:\")\n",
    "    print(missing_reasoning[['para_id', 'section_id', 'model']].head())"
   ]
  },
  {
   "cell_type": "code",
   "execution_count": 58,
   "id": "b089086f",
   "metadata": {},
   "outputs": [],
   "source": [
    "df_decision_with_reasoning.to_csv('../data/final_test/final/reexperiment/fewhot/11August/df_decision_with_reasoning.csv', index=False)"
   ]
  },
  {
   "cell_type": "code",
   "execution_count": 97,
   "id": "9da19f26",
   "metadata": {},
   "outputs": [
    {
     "data": {
      "text/plain": [
       "para_id\n",
       "ewca_crim_2018_2695#para_21     2\n",
       "ewca_crim_2010_1486#para_67     2\n",
       "ewhc_fam_2005_402#para_66       2\n",
       "ewca_crim_2013_2499#para_16     2\n",
       "ewhc_fam_2005_402#para_73       2\n",
       "                               ..\n",
       "ewhc_admin_2003_2698#para_24    1\n",
       "ewhc_admin_2003_2698#para_23    1\n",
       "ewhc_admin_2003_2698#para_21    1\n",
       "ewhc_admin_2003_2698#para_20    1\n",
       "ukut_tcc_2023_244#para_81       1\n",
       "Name: count, Length: 7233, dtype: int64"
      ]
     },
     "execution_count": 97,
     "metadata": {},
     "output_type": "execute_result"
    }
   ],
   "source": [
    "import pandas as pd\n",
    "df_decision_with_reasoning = pd.read_csv('../data/final_test/final/reexperiment/fewhot/11August/df_decision_with_reasoning.csv', index_col=False)\n",
    "df_decision_with_reasoning.para_id.value_counts()"
   ]
  },
  {
   "cell_type": "code",
   "execution_count": 20,
   "id": "fa77482b",
   "metadata": {},
   "outputs": [
    {
     "name": "stdout",
     "output_type": "stream",
     "text": [
      "Number of para_ids that appear exactly 2 times: 871\n",
      "Number of para_ids that appear exactly 1 time: 6362\n"
     ]
    }
   ],
   "source": [
    "# Get the value counts of para_id\n",
    "value_counts = df_decision_with_reasoning.para_id.value_counts()\n",
    "\n",
    "# Count how many para_ids appear exactly 2 times\n",
    "count_para_ids_with_2_occurrences = (value_counts == 2).sum()\n",
    "\n",
    "# Count how many para_ids appear exactly 1 time  \n",
    "count_para_ids_with_1_occurrence = (value_counts == 1).sum()\n",
    "\n",
    "print(f\"Number of para_ids that appear exactly 2 times: {count_para_ids_with_2_occurrences}\")\n",
    "print(f\"Number of para_ids that appear exactly 1 time: {count_para_ids_with_1_occurrence}\")"
   ]
  },
  {
   "cell_type": "code",
   "execution_count": 28,
   "id": "6bb1e79c",
   "metadata": {},
   "outputs": [],
   "source": [
    "df_decision_pairwise = pd.read_csv('../data/extraction_results/df_decision.csv', index_col=False)"
   ]
  },
  {
   "cell_type": "code",
   "execution_count": 29,
   "id": "89b6cf64",
   "metadata": {},
   "outputs": [
    {
     "name": "stdout",
     "output_type": "stream",
     "text": [
      "Number of unique (para_id, section_id) pairs:                             para_id                        section_id\n",
      "0        ewca_crim_2003_190#para_19       id/ukpga/1999/23_section-41\n",
      "3               ukait_2008_1#para_5      id/ukpga/2002/41_section-101\n",
      "5           ewfc_b_2024_69#para_187        id/ukpga/2021/17_section-3\n",
      "8         ewhc_kb_2023_1256#para_29        id/ukpga/2013/26_section-3\n",
      "11     ewhc_costs_2003_9050#para_23        id/ukpga/1990/41_section-4\n",
      "...                             ...                               ...\n",
      "25489          ukpc_2009_42#para_19   id/ukpga/Eliz2/5-6/11_section-2\n",
      "25491   ewhc_comm_2023_1889#para_32      id/ukpga/2003/44_section-258\n",
      "25494          uksc_2013_37#para_13       id/ukpga/1988/36_section-27\n",
      "25496       ewhc_ch_2010_180#para_9      id/ukpga/1981/54_section-129\n",
      "25498  ewhc_admin_2012_1033#para_18  id/ukpga/Geo5/15-16/20_section-8\n",
      "\n",
      "[10282 rows x 2 columns]\n"
     ]
    }
   ],
   "source": [
    "# Show the number of unique (para_id, section_id) pairs in df_decision_pairwise\n",
    "num_unique_pairs = df_decision_pairwise[['para_id', 'section_id']].drop_duplicates()\n",
    "print(f\"Number of unique (para_id, section_id) pairs: {num_unique_pairs}\")"
   ]
  },
  {
   "cell_type": "code",
   "execution_count": 30,
   "id": "cbcfa0e6",
   "metadata": {},
   "outputs": [
    {
     "name": "stdout",
     "output_type": "stream",
     "text": [
      "Number of para_id,section_id pairs found: 19058\n",
      "Number of para_id,section_id pairs not found: 6624\n",
      "Found DataFrame shape: (19058, 6)\n",
      "Found DataFrame columns: ['para_id', 'section_id', 'model', 'case_law_excerpt', 'legislation_excerpt', 'reasoning']\n"
     ]
    }
   ],
   "source": [
    "# More efficient approach using merge\n",
    "found_df = df_decision_with_reasoning.merge(\n",
    "    df_decision_pairwise[['para_id', 'section_id']], \n",
    "    on=['para_id', 'section_id'], \n",
    "    how='inner'\n",
    ")\n",
    "\n",
    "# Get the pairs that were not found\n",
    "not_found_df = df_decision_pairwise.merge(\n",
    "    df_decision_with_reasoning[['para_id', 'section_id']], \n",
    "    on=['para_id', 'section_id'], \n",
    "    how='left', \n",
    "    indicator=True\n",
    ").query('_merge == \"left_only\"').drop('_merge', axis=1)\n",
    "\n",
    "print(f\"Number of para_id,section_id pairs found: {len(found_df)}\")\n",
    "print(f\"Number of para_id,section_id pairs not found: {len(not_found_df)}\")\n",
    "print(f\"Found DataFrame shape: {found_df.shape}\")\n",
    "print(f\"Found DataFrame columns: {list(found_df.columns)}\")\n",
    "\n",
    "\n",
    "\n"
   ]
  },
  {
   "cell_type": "code",
   "execution_count": 63,
   "id": "2b4af9a4",
   "metadata": {},
   "outputs": [],
   "source": [
    "not_found_df.to_csv('../data/extraction_results/df_decision_left.csv', index=False)"
   ]
  },
  {
   "cell_type": "code",
   "execution_count": 101,
   "id": "a928fec2",
   "metadata": {},
   "outputs": [
    {
     "data": {
      "text/plain": [
       "8104"
      ]
     },
     "execution_count": 101,
     "metadata": {},
     "output_type": "execute_result"
    }
   ],
   "source": [
    "len(df_decision_with_reasoning)"
   ]
  },
  {
   "cell_type": "code",
   "execution_count": 29,
   "id": "85e22f04",
   "metadata": {},
   "outputs": [],
   "source": [
    "sample = df_decision_with_reasoning[df_decision_with_reasoning.para_id == 'ewhc_fam_2005_402#para_66']"
   ]
  },
  {
   "cell_type": "code",
   "execution_count": 46,
   "id": "caf7fc36",
   "metadata": {},
   "outputs": [
    {
     "data": {
      "text/plain": [
       "'id/ukpga/1973/18_section-25'"
      ]
     },
     "execution_count": 46,
     "metadata": {},
     "output_type": "execute_result"
    }
   ],
   "source": [
    "sample['section_id'].values[0]"
   ]
  },
  {
   "cell_type": "code",
   "execution_count": 32,
   "id": "35a12e02",
   "metadata": {},
   "outputs": [
    {
     "data": {
      "text/plain": [
       "'Miss Theis further submitted that, on the information available now to the court and taking into account the statutory criteria, the target for saved excess income and surplus capital of the wife should be a fund sufficient to secure her through the minority of the children, i.e. after the term of four years has ended in 2009 until 2020 when S will be 21 years old.'"
      ]
     },
     "execution_count": 32,
     "metadata": {},
     "output_type": "execute_result"
    }
   ],
   "source": [
    "sample['case_law_excerpt'].values[0]"
   ]
  },
  {
   "cell_type": "code",
   "execution_count": 33,
   "id": "b948c514",
   "metadata": {},
   "outputs": [
    {
     "data": {
      "text/plain": [
       "'the target for saved excess income and surplus capital of the wife should be a fund sufficient to secure her through the minority of the children, i.e. after the term of four years has ended in 2009 until 2020 when S will be 21 years old'"
      ]
     },
     "execution_count": 33,
     "metadata": {},
     "output_type": "execute_result"
    }
   ],
   "source": [
    "sample['case_law_excerpt'].values[1]"
   ]
  },
  {
   "cell_type": "code",
   "execution_count": 48,
   "id": "7a729561",
   "metadata": {},
   "outputs": [
    {
     "data": {
      "text/plain": [
       "'no financial provision order and no order for a transfer of property under section 24(1)(a) above shall be made in favour of a child who has attained the age of eighteen'"
      ]
     },
     "execution_count": 48,
     "metadata": {},
     "output_type": "execute_result"
    }
   ],
   "source": [
    "sample['legislation_excerpt'].values[1]"
   ]
  },
  {
   "cell_type": "code",
   "execution_count": 49,
   "id": "434993da",
   "metadata": {},
   "outputs": [
    {
     "data": {
      "text/plain": [
       "'openai'"
      ]
     },
     "execution_count": 49,
     "metadata": {},
     "output_type": "execute_result"
    }
   ],
   "source": [
    "sample['model'].values[1]"
   ]
  },
  {
   "cell_type": "code",
   "execution_count": 35,
   "id": "3c074170",
   "metadata": {},
   "outputs": [
    {
     "data": {
      "text/plain": [
       "'no financial provision order and no order for a transfer of property under section 24(1)(a) above shall be made in favour of a child who has attained the age of eighteen'"
      ]
     },
     "execution_count": 35,
     "metadata": {},
     "output_type": "execute_result"
    }
   ],
   "source": [
    "sample['legislation_excerpt'].values[1]"
   ]
  },
  {
   "cell_type": "code",
   "execution_count": null,
   "id": "cb164f3f",
   "metadata": {},
   "outputs": [
    {
     "data": {
      "text/plain": [
       "'The case law discusses the application of statutory criteria in determining financial arrangements for the wife, specifically considering the welfare of the children until they reach majority. This directly relates to the legislative requirement for the court to prioritize the welfare of minors when exercising its powers.'"
      ]
     },
     "execution_count": 37,
     "metadata": {},
     "output_type": "execute_result"
    }
   ],
   "source": [
    "sample['reasoning'].values[1]"
   ]
  },
  {
   "cell_type": "code",
   "execution_count": 38,
   "id": "939a14a5",
   "metadata": {},
   "outputs": [
    {
     "data": {
      "text/plain": [
       "\"The paragraph discusses financial provision aimed at providing for the wife's needs during the minority of the children, reflecting the provisions under section 29 that restrict financial orders once the child reaches eighteen years of age, thereby indicating the court's considerations of timing and duration of support.\""
      ]
     },
     "execution_count": 38,
     "metadata": {},
     "output_type": "execute_result"
    }
   ],
   "source": [
    "sample['reasoning'].values[1]"
   ]
  },
  {
   "cell_type": "code",
   "execution_count": 31,
   "id": "69073bc9",
   "metadata": {},
   "outputs": [
    {
     "data": {
      "text/plain": [
       "'id/ukpga/1973/18_section-25'"
      ]
     },
     "execution_count": 31,
     "metadata": {},
     "output_type": "execute_result"
    }
   ],
   "source": [
    "sample['section_id'].values[0]"
   ]
  },
  {
   "cell_type": "code",
   "execution_count": 39,
   "id": "30c38fdb",
   "metadata": {},
   "outputs": [
    {
     "data": {
      "text/plain": [
       "'id/ukpga/1973/18_section-29'"
      ]
     },
     "execution_count": 39,
     "metadata": {},
     "output_type": "execute_result"
    }
   ],
   "source": [
    "sample['section_id'].values[1]"
   ]
  },
  {
   "cell_type": "code",
   "execution_count": 73,
   "id": "fb7c769e",
   "metadata": {},
   "outputs": [
    {
     "name": "stdout",
     "output_type": "stream",
     "text": [
      "Reading decision data...\n",
      "Successfully loaded 6624 records from ../data/extraction_results/df_decision_left.csv\n",
      "\n",
      "DataFrame shape: (6624, 10)\n",
      "Columns: ['para_id', 'section_id', 'confidence', 'reasoning', 'model', 'para_text', 'section_text', 'category', 'case_law_excerpt', 'legislation_excerpt']\n",
      "Unique para_ids: 2828\n",
      "Unique section_ids: 1677\n",
      "Unique combinations (section_id, para_id): 2831\n",
      "\n",
      "Reading Claude prompt...\n",
      "Successfully loaded prompt from ../helper_data_files/prompt_for_claude_as_judge.txt\n",
      "\n",
      "Creating JSONL entries...\n",
      "Index(['para_id', 'section_id', 'confidence', 'reasoning', 'model',\n",
      "       'para_text', 'section_text', 'category', 'case_law_excerpt',\n",
      "       'legislation_excerpt'],\n",
      "      dtype='object')\n",
      "Created 2831 JSONL entries (one per unique section_id,para_id combination)\n",
      "\n",
      "Saving JSONL file...\n",
      "Successfully saved 2831 entries to ../data/extraction_results/claude_judge_input.jsonl\n",
      "\n",
      "✅ Successfully created Claude judge input file: ../data/extraction_results/claude_judge_input.jsonl\n",
      "📊 Total entries: 2831 (one per unique section_id,para_id)\n",
      "🔗 Each entry contains high confidence pairs from all available models\n"
     ]
    }
   ],
   "source": [
    "import pandas as pd\n",
    "import json\n",
    "import os\n",
    "from typing import List, Dict, Any\n",
    "\n",
    "def read_decision_data(csv_path: str) -> pd.DataFrame:\n",
    "    \"\"\"Read the decision data CSV file\"\"\"\n",
    "    try:\n",
    "        df = pd.read_csv(csv_path)\n",
    "        print(f\"Successfully loaded {len(df)} records from {csv_path}\")\n",
    "        return df\n",
    "    except FileNotFoundError:\n",
    "        print(f\"Error: File {csv_path} not found\")\n",
    "        return None\n",
    "    except Exception as e:\n",
    "        print(f\"Error reading file: {e}\")\n",
    "        return None\n",
    "\n",
    "def read_claude_prompt(prompt_path: str) -> str:\n",
    "    \"\"\"Read the Claude prompt from the text file\"\"\"\n",
    "    try:\n",
    "        with open(prompt_path, 'r', encoding='utf-8') as file:\n",
    "            prompt = file.read().strip()\n",
    "        print(f\"Successfully loaded prompt from {prompt_path}\")\n",
    "        return prompt\n",
    "    except FileNotFoundError:\n",
    "        print(f\"Error: File {prompt_path} not found\")\n",
    "        return None\n",
    "    except Exception as e:\n",
    "        print(f\"Error reading prompt: {e}\")\n",
    "        return None\n",
    "\n",
    "def create_jsonl_entries(df: pd.DataFrame, claude_prompt: str) -> List[Dict[str, Any]]:\n",
    "    \"\"\"Create one JSONL entry per unique (section_id, para_id) combination\"\"\"\n",
    "    jsonl_entries = []\n",
    "    i = 0\n",
    "    # Group by section_id and para_id to create one entry per combination\n",
    "    for (section_id, para_id), group in df.groupby(['section_id', 'para_id']):\n",
    "        # Get the first row for para_text and section_text (they should be the same for each group)\n",
    "        first_row = group.iloc[0]\n",
    "        \n",
    "        # Filter for high confidence records from all models\n",
    "        high_conf_records = group[group['confidence'].str.lower() == 'high']\n",
    "        \n",
    "        # Prepare high confidence pairs from all models\n",
    "        high_confidence_pairs = []\n",
    "        \n",
    "        for _, record in high_conf_records.iterrows():\n",
    "            pair = {\n",
    "                'case_law_excerpt': record.get('case_law_excerpt', ''),\n",
    "                'legislation_excerpt': record.get('legislation_excerpt', ''),\n",
    "                'model': record.get('model', ''),\n",
    "                'reasoning': record.get('reasoning', '')\n",
    "            }\n",
    "            high_confidence_pairs.append(pair)\n",
    "        \n",
    "        # Create user prompt content for this (section_id, para_id) combination\n",
    "        user_prompt_content = {\n",
    "            'para_id': para_id,\n",
    "            'para_text': first_row.get('para_text', ''),\n",
    "            'section_id': section_id,\n",
    "            'section_text': first_row.get('section_text', ''),\n",
    "            'high_confidence_pairs': high_confidence_pairs\n",
    "        }\n",
    "        \n",
    "        # Create JSONL entry\n",
    "        entry = {\n",
    "            \"custom_id\": f\"request_{i}\",\n",
    "                \"method\": \"POST\",\n",
    "                \"url\": \"/v1/chat/completions\",\n",
    "                \"body\": {\n",
    "                    \"model\": \"claude-sonnet-4-20250514\", \n",
    "            'messages': [\n",
    "                {\n",
    "                    'role': 'system',\n",
    "                    'content': claude_prompt\n",
    "                },\n",
    "                {\n",
    "                    'role': 'user',\n",
    "                    'content': json.dumps(user_prompt_content, indent=2)\n",
    "                }\n",
    "            ]}\n",
    "        }\n",
    "        i =i+1\n",
    "        jsonl_entries.append(entry)\n",
    "    \n",
    "    print(f\"Created {len(jsonl_entries)} JSONL entries (one per unique section_id,para_id combination)\")\n",
    "    return jsonl_entries\n",
    "\n",
    "def save_jsonl(entries: List[Dict[str, Any]], output_path: str) -> bool:\n",
    "    \"\"\"Save JSONL entries to file\"\"\"\n",
    "    try:\n",
    "        with open(output_path, 'w', encoding='utf-8') as file:\n",
    "            for entry in entries:\n",
    "                file.write(json.dumps(entry) + '\\n')\n",
    "        \n",
    "        print(f\"Successfully saved {len(entries)} entries to {output_path}\")\n",
    "        return True\n",
    "    except Exception as e:\n",
    "        print(f\"Error saving JSONL file: {e}\")\n",
    "        return False\n",
    "\n",
    "def main():\n",
    "    \"\"\"Main execution function\"\"\"\n",
    "    # File paths\n",
    "    csv_path = \"../data/extraction_results/df_decision_left.csv\"\n",
    "    prompt_path = \"../helper_data_files/prompt_for_claude_as_judge.txt\"\n",
    "    output_path = \"../data/extraction_results/claude_judge_input.jsonl\"\n",
    "    \n",
    "    # Read decision data\n",
    "    print(\"Reading decision data...\")\n",
    "    df = read_decision_data(csv_path)\n",
    "    if df is None:\n",
    "        return\n",
    "    \n",
    "    # Display basic info about the data\n",
    "    print(f\"\\nDataFrame shape: {df.shape}\")\n",
    "    print(f\"Columns: {list(df.columns)}\")\n",
    "    print(f\"Unique para_ids: {df['para_id'].nunique()}\")\n",
    "    print(f\"Unique section_ids: {df['section_id'].nunique()}\")\n",
    "    print(f\"Unique combinations (section_id, para_id): {df.groupby(['section_id', 'para_id']).ngroups}\")\n",
    "    \n",
    "    # Read Claude prompt\n",
    "    print(\"\\nReading Claude prompt...\")\n",
    "    claude_prompt = read_claude_prompt(prompt_path)\n",
    "    if claude_prompt is None:\n",
    "        return\n",
    "    \n",
    "    # Create JSONL entries (one per unique combination)\n",
    "    print(\"\\nCreating JSONL entries...\")\n",
    "    print(df.columns)\n",
    "    jsonl_entries = create_jsonl_entries(df, claude_prompt)\n",
    "    \n",
    "    # Save JSONL file\n",
    "    print(\"\\nSaving JSONL file...\")\n",
    "    success = save_jsonl(jsonl_entries, output_path)\n",
    "    \n",
    "    if success:\n",
    "        print(f\"\\n✅ Successfully created Claude judge input file: {output_path}\")\n",
    "        print(f\"📊 Total entries: {len(jsonl_entries)} (one per unique section_id,para_id)\")\n",
    "        print(f\"🔗 Each entry contains high confidence pairs from all available models\")\n",
    "    else:\n",
    "        print(\"\\n❌ Failed to create JSONL file\")\n",
    "\n",
    "if __name__ == \"__main__\":\n",
    "    main()"
   ]
  },
  {
   "cell_type": "code",
   "execution_count": 35,
   "id": "c7d8140e",
   "metadata": {},
   "outputs": [],
   "source": [
    "df_Claude_response = pd.read_csv('../data/extraction_results/claaude_response.csv', index_col=False)\n"
   ]
  },
  {
   "cell_type": "code",
   "execution_count": 36,
   "id": "8ce0e98e",
   "metadata": {},
   "outputs": [
    {
     "data": {
      "text/plain": [
       "model\n",
       "deepseek    1952\n",
       "openai       639\n",
       "llama        240\n",
       "Name: count, dtype: int64"
      ]
     },
     "execution_count": 36,
     "metadata": {},
     "output_type": "execute_result"
    }
   ],
   "source": [
    "df_Claude_response.model.value_counts()"
   ]
  },
  {
   "cell_type": "code",
   "execution_count": 77,
   "id": "37ee8ed9",
   "metadata": {},
   "outputs": [
    {
     "data": {
      "text/plain": [
       "2831"
      ]
     },
     "execution_count": 77,
     "metadata": {},
     "output_type": "execute_result"
    }
   ],
   "source": [
    "len(df_Claude_response)"
   ]
  },
  {
   "cell_type": "code",
   "execution_count": 23,
   "id": "2dd6db3b",
   "metadata": {},
   "outputs": [
    {
     "data": {
      "text/plain": [
       "2831"
      ]
     },
     "execution_count": 23,
     "metadata": {},
     "output_type": "execute_result"
    }
   ],
   "source": [
    "len(df_Claude_response[['para_id','section_id']].drop_duplicates())"
   ]
  },
  {
   "cell_type": "code",
   "execution_count": 24,
   "id": "62db363e",
   "metadata": {},
   "outputs": [],
   "source": [
    "df_accepted = pd.read_csv('../data/extraction_results/df_accepted.csv', index_col=False)\n"
   ]
  },
  {
   "cell_type": "code",
   "execution_count": 25,
   "id": "50a9d409",
   "metadata": {},
   "outputs": [
    {
     "data": {
      "text/plain": [
       "model\n",
       "openai      2753\n",
       "deepseek    1091\n",
       "llama        545\n",
       "Name: count, dtype: int64"
      ]
     },
     "execution_count": 25,
     "metadata": {},
     "output_type": "execute_result"
    }
   ],
   "source": [
    "df_accepted.model.value_counts()"
   ]
  },
  {
   "cell_type": "code",
   "execution_count": 89,
   "id": "b101a94e",
   "metadata": {},
   "outputs": [
    {
     "data": {
      "text/plain": [
       "4389"
      ]
     },
     "execution_count": 89,
     "metadata": {},
     "output_type": "execute_result"
    }
   ],
   "source": [
    "len(df_accepted[['para_id','section_id']].drop_duplicates())"
   ]
  },
  {
   "cell_type": "code",
   "execution_count": 112,
   "id": "7ede57f8",
   "metadata": {},
   "outputs": [
    {
     "data": {
      "text/plain": [
       "Index(['para_id', 'section_id', 'confidence', 'reasoning', 'model',\n",
       "       'para_text', 'section_text', 'category', 'case_law_excerpt',\n",
       "       'legislation_excerpt'],\n",
       "      dtype='object')"
      ]
     },
     "execution_count": 112,
     "metadata": {},
     "output_type": "execute_result"
    }
   ],
   "source": [
    "df_accepted.columns"
   ]
  },
  {
   "cell_type": "code",
   "execution_count": 113,
   "id": "c8406587",
   "metadata": {},
   "outputs": [
    {
     "data": {
      "text/plain": [
       "Index(['custom_id', 'para_id', 'section_id', 'model', 'case_law_excerpt',\n",
       "       'legislation_excerpt'],\n",
       "      dtype='object')"
      ]
     },
     "execution_count": 113,
     "metadata": {},
     "output_type": "execute_result"
    }
   ],
   "source": [
    "df_Claude_response.columns"
   ]
  },
  {
   "cell_type": "code",
   "execution_count": 31,
   "id": "a269b397",
   "metadata": {},
   "outputs": [
    {
     "name": "stdout",
     "output_type": "stream",
     "text": [
      "Found 7451 unique (para_id, section_id) pairs\n",
      "Retrieved rows for each pair from df_decision_with_reasoning\n",
      "\n",
      "Pair 1: eat_2022_192#para_12_id/ukpga/2010/15_section-60\n",
      "Number of rows: 1\n",
      "Columns: ['para_id', 'section_id', 'model', 'case_law_excerpt', 'legislation_excerpt', 'reasoning']\n",
      "First row sample: {'para_id': 'eat_2022_192#para_12', 'section_id': 'id/ukpga/2010/15_section-60', 'model': 'deepseek', 'case_law_excerpt': 'This was picked up when the paperwork was forwarded to Human Resources and a pre-employment health questionnaire was sent to the claimant, but he never completed or returned it; rather, as the ET found, he: \"7.11 … continued in his role as he had before, working well and without any apparent disadvantage or need for adjustments. …\" This, the ET considered, was indicative of the claimant\\'s view that he did not suffer any substantial disadvantage in the workplace.', 'legislation_excerpt': 'A person (A) to whom an application for work is made must not ask about the health of the applicant (B)— (a) before offering work to B, or (b) where A is not in a position to offer work to B, before including B in a pool of applicants from whom A intends (when in a position to do so) to select a person to whom to offer work.', 'reasoning': \"The case discusses the handling of a pre-employment health questionnaire, which relates to the prohibition in Section 60 against asking about health before offering employment. The ET's consideration of the claimant's actions reflects the application of this section.\"}\n",
      "\n",
      "Pair 2: eat_2022_192#para_18_id/ukpga/2010/15_schedule-8-part-1\n",
      "Number of rows: 1\n",
      "Columns: ['para_id', 'section_id', 'model', 'case_law_excerpt', 'legislation_excerpt', 'reasoning']\n",
      "First row sample: {'para_id': 'eat_2022_192#para_18', 'section_id': 'id/ukpga/2010/15_schedule-8-part-1', 'model': 'deepseek', 'case_law_excerpt': '[The claimant] agreed in evidence that it was reasonable for the respondent to accept this as suggesting he was not suffering any issues relating to PRE at the time.', 'legislation_excerpt': 'the reference in section 20(3) to a provision, criterion or practice is a reference to a provision, criterion or practice applied by or on behalf of A;', 'reasoning': 'The case law reflects on the adequacy of medical assessments and the approach to disability considerations in a workplace context, linking to legal stipulations about how employers may inquire about health without contravening disability provisions.'}\n",
      "\n",
      "Pair 3: eat_2022_192#para_18_id/ukpga/2010/15_section-60\n",
      "Number of rows: 1\n",
      "Columns: ['para_id', 'section_id', 'model', 'case_law_excerpt', 'legislation_excerpt', 'reasoning']\n",
      "First row sample: {'para_id': 'eat_2022_192#para_18', 'section_id': 'id/ukpga/2010/15_section-60', 'model': 'openai', 'case_law_excerpt': 'He stated that the issues raised did not relate to reading but the job role and devising a plan related to addressing those stressors. He said he was asymptomatic at the time and he did not consider any adjustments were necessary.', 'legislation_excerpt': \"A does not contravene a relevant disability provision merely by asking about B's health; but A's conduct in reliance on information given in response may be a contravention of a relevant disability provision.\", 'reasoning': 'The case law reflects on the adequacy of medical assessments and the approach to disability considerations in a workplace context, linking to legal stipulations about how employers may inquire about health without contravening disability provisions.'}\n",
      "\n",
      "Pair 4: eat_2022_192#para_21_id/ukpga/2010/15_schedule-1-part-1\n",
      "Number of rows: 1\n",
      "Columns: ['para_id', 'section_id', 'model', 'case_law_excerpt', 'legislation_excerpt', 'reasoning']\n",
      "First row sample: {'para_id': 'eat_2022_192#para_21', 'section_id': 'id/ukpga/2010/15_schedule-1-part-1', 'model': 'deepseek', 'case_law_excerpt': 'We do not accept that PRE is a cause of his stress and depressive symptoms. We find, therefore, that PRE was not the reason for the absence. We find the reason for his absence was depressive symptoms arising from other causes.', 'legislation_excerpt': 'An impairment is to be treated as having a substantial adverse effect on the ability of the person concerned to carry out normal day-to-day activities if— (a) measures are being taken to treat or correct it, and (b) but for that, it would be likely to have that effect.', 'reasoning': \"The case law discusses the ET's evaluation of whether the claimant's Primary Reading Epilepsy (PRE) constitutes a disability under the Equality Act. The legislation excerpt outlines the criteria for determining a substantial adverse effect of an impairment, which the ET applied to conclude that PRE was not the cause of the absence but rather a factor intensifying depressive symptoms caused by work stress.\"}\n",
      "\n",
      "Pair 5: eat_2022_192#para_22_id/ukpga/2010/15_section-60\n",
      "Number of rows: 1\n",
      "Columns: ['para_id', 'section_id', 'model', 'case_law_excerpt', 'legislation_excerpt', 'reasoning']\n",
      "First row sample: {'para_id': 'eat_2022_192#para_22', 'section_id': 'id/ukpga/2010/15_section-60', 'model': 'deepseek', 'case_law_excerpt': \"the ET found that PRE was only indirectly raised at this stage, as a criticism of the stress risk assessment process: '7.61 ... neither Occupational Health nor the trade union representative raised PRE as a specific reason for [the claimant's] continued absence. We are unable to reach a finding that the relationship between stress and PRE was stated in the manner that is alleged. We do accept, however, that it was raised and was expressed as a potential symptom secondary to the work-related stress in that being stressed can aggravate the symptoms of PRE.'\", 'legislation_excerpt': \"A does not contravene a relevant disability provision merely by asking about B's health; but A's conduct in reliance on information given in response may be a contravention of a relevant disability provision.\", 'reasoning': \"The case discusses the relationship between the claimant's health condition (PRE) and work-related stress, which ties into the legislative provisions about health enquiries and disability provisions. The ET's analysis aligns with the legislative framework that allows health enquiries for specific purposes, such as assessing job functionality.\"}\n",
      "\n",
      "Total rows combined: 7514\n"
     ]
    }
   ],
   "source": [
    "# Get unique pairs from found_df\n",
    "unique_pairs = found_df[['para_id', 'section_id']].drop_duplicates()\n",
    "\n",
    "# Get all rows from df_decision_with_reasoning for each unique pair\n",
    "rows_for_each_pair = {}\n",
    "\n",
    "for idx, row in unique_pairs.iterrows():\n",
    "    para_id = row['para_id']\n",
    "    section_id = row['section_id']\n",
    "    \n",
    "    # Get all rows from df_decision_with_reasoning that match this pair\n",
    "    mask = (\n",
    "        (df_decision_with_reasoning['para_id'] == para_id) &\n",
    "        (df_decision_with_reasoning['section_id'] == section_id)\n",
    "    )\n",
    "    \n",
    "    matching_rows = df_decision_with_reasoning[mask]\n",
    "    pair_key = f\"{para_id}_{section_id}\"\n",
    "    rows_for_each_pair[pair_key] = matching_rows\n",
    "\n",
    "# Display results\n",
    "print(f\"Found {len(unique_pairs)} unique (para_id, section_id) pairs\")\n",
    "print(f\"Retrieved rows for each pair from df_decision_with_reasoning\")\n",
    "\n",
    "# Example: Show the first few pairs and their row counts\n",
    "for i, (pair_key, rows) in enumerate(list(rows_for_each_pair.items())[:5]):\n",
    "    print(f\"\\nPair {i+1}: {pair_key}\")\n",
    "    print(f\"Number of rows: {len(rows)}\")\n",
    "    print(f\"Columns: {list(rows.columns)}\")\n",
    "    if len(rows) > 0:\n",
    "        print(f\"First row sample: {rows.iloc[0].to_dict()}\")\n",
    "\n",
    "# If you want all rows combined into one DataFrame\n",
    "all_rows_combined = pd.concat(rows_for_each_pair.values(), ignore_index=True)\n",
    "print(f\"\\nTotal rows combined: {len(all_rows_combined)}\")"
   ]
  },
  {
   "cell_type": "code",
   "execution_count": 32,
   "id": "b12ec2c2",
   "metadata": {},
   "outputs": [],
   "source": [
    "# Fix: Combine all DataFrames in rows_for_each_pair into a single DataFrame\n",
    "precomputed_df = pd.concat(rows_for_each_pair.values(), ignore_index=True)\n"
   ]
  },
  {
   "cell_type": "code",
   "execution_count": 33,
   "id": "0fb937a4",
   "metadata": {},
   "outputs": [],
   "source": [
    "df_for_decision = pd.read_csv('../data/extraction_results/df_decision.csv', index_col=False)\n"
   ]
  },
  {
   "cell_type": "code",
   "execution_count": 44,
   "id": "d0189c36",
   "metadata": {},
   "outputs": [],
   "source": [
    "df_after_decsion_Remaining = add_reasoning_to_resolved_decisions(df_Claude_response,df_for_decision)\n"
   ]
  },
  {
   "cell_type": "code",
   "execution_count": 49,
   "id": "75746968",
   "metadata": {},
   "outputs": [],
   "source": [
    "df_after_decsion_Remaining = df_after_decsion_Remaining[['para_id', 'section_id', 'model', 'case_law_excerpt',\n",
    "       'legislation_excerpt', 'reasoning']]"
   ]
  },
  {
   "cell_type": "code",
   "execution_count": 47,
   "id": "30f74822",
   "metadata": {},
   "outputs": [
    {
     "data": {
      "text/plain": [
       "Index(['para_id', 'section_id', 'model', 'case_law_excerpt',\n",
       "       'legislation_excerpt', 'reasoning'],\n",
       "      dtype='object')"
      ]
     },
     "execution_count": 47,
     "metadata": {},
     "output_type": "execute_result"
    }
   ],
   "source": [
    "all_rows_combined.columns"
   ]
  },
  {
   "cell_type": "code",
   "execution_count": 50,
   "id": "fe0fcf3e",
   "metadata": {},
   "outputs": [],
   "source": [
    "df_decision_with_reasoning_combined = pd.concat([all_rows_combined,df_after_decsion_Remaining],ignore_index=True)"
   ]
  },
  {
   "cell_type": "code",
   "execution_count": 55,
   "id": "1196c507",
   "metadata": {},
   "outputs": [],
   "source": [
    "df_decision_with_reasoning_combined = df_decision_with_reasoning_combined.drop_duplicates(subset=['para_id', 'section_id'])"
   ]
  },
  {
   "cell_type": "code",
   "execution_count": 61,
   "id": "53079f14",
   "metadata": {},
   "outputs": [
    {
     "data": {
      "text/plain": [
       "model\n",
       "deepseek    6845\n",
       "openai      1935\n",
       "llama       1502\n",
       "Name: count, dtype: int64"
      ]
     },
     "execution_count": 61,
     "metadata": {},
     "output_type": "execute_result"
    }
   ],
   "source": [
    "df_decision_with_reasoning_combined.model.value_counts()"
   ]
  },
  {
   "cell_type": "code",
   "execution_count": 62,
   "id": "eac3f33e",
   "metadata": {},
   "outputs": [
    {
     "data": {
      "text/plain": [
       "0.6657265123516826"
      ]
     },
     "execution_count": 62,
     "metadata": {},
     "output_type": "execute_result"
    }
   ],
   "source": [
    "6845/10282"
   ]
  },
  {
   "cell_type": "code",
   "execution_count": 63,
   "id": "f33b2ec5",
   "metadata": {},
   "outputs": [
    {
     "data": {
      "text/plain": [
       "0.1881929585683719"
      ]
     },
     "execution_count": 63,
     "metadata": {},
     "output_type": "execute_result"
    }
   ],
   "source": [
    "1935/10282"
   ]
  },
  {
   "cell_type": "code",
   "execution_count": 64,
   "id": "16079c6d",
   "metadata": {},
   "outputs": [
    {
     "data": {
      "text/plain": [
       "0.14608052907994554"
      ]
     },
     "execution_count": 64,
     "metadata": {},
     "output_type": "execute_result"
    }
   ],
   "source": [
    "1502/10282"
   ]
  },
  {
   "cell_type": "code",
   "execution_count": 60,
   "id": "98a0d344",
   "metadata": {},
   "outputs": [
    {
     "data": {
      "text/plain": [
       "6960"
      ]
     },
     "execution_count": 60,
     "metadata": {},
     "output_type": "execute_result"
    }
   ],
   "source": [
    "df_decision_with_reasoning_combined.para_id.nunique()"
   ]
  },
  {
   "cell_type": "code",
   "execution_count": 58,
   "id": "cee49bd0",
   "metadata": {},
   "outputs": [
    {
     "data": {
      "text/plain": [
       "Index(['para_id', 'section_id', 'model', 'case_law_excerpt',\n",
       "       'legislation_excerpt', 'reasoning'],\n",
       "      dtype='object')"
      ]
     },
     "execution_count": 58,
     "metadata": {},
     "output_type": "execute_result"
    }
   ],
   "source": [
    "df_decision_with_reasoning_combined.columns"
   ]
  },
  {
   "cell_type": "code",
   "execution_count": 59,
   "id": "a1db3c66",
   "metadata": {},
   "outputs": [],
   "source": [
    "df_accepted =df_accepted[['para_id', 'section_id', 'model', 'case_law_excerpt',\n",
    "       'legislation_excerpt', 'reasoning']]"
   ]
  },
  {
   "cell_type": "code",
   "execution_count": 118,
   "id": "d1153c39",
   "metadata": {},
   "outputs": [
    {
     "data": {
      "text/html": [
       "<div>\n",
       "<style scoped>\n",
       "    .dataframe tbody tr th:only-of-type {\n",
       "        vertical-align: middle;\n",
       "    }\n",
       "\n",
       "    .dataframe tbody tr th {\n",
       "        vertical-align: top;\n",
       "    }\n",
       "\n",
       "    .dataframe thead th {\n",
       "        text-align: right;\n",
       "    }\n",
       "</style>\n",
       "<table border=\"1\" class=\"dataframe\">\n",
       "  <thead>\n",
       "    <tr style=\"text-align: right;\">\n",
       "      <th></th>\n",
       "      <th>para_id</th>\n",
       "      <th>section_id</th>\n",
       "      <th>model</th>\n",
       "      <th>case_law_excerpt</th>\n",
       "      <th>legislation_excerpt</th>\n",
       "      <th>reasoning</th>\n",
       "    </tr>\n",
       "  </thead>\n",
       "  <tbody>\n",
       "    <tr>\n",
       "      <th>5859</th>\n",
       "      <td>ewhc_fam_2005_402#para_66</td>\n",
       "      <td>id/ukpga/1973/18_section-25</td>\n",
       "      <td>deepseek</td>\n",
       "      <td>Miss Theis further submitted that, on the info...</td>\n",
       "      <td>It shall be the duty of the court in deciding ...</td>\n",
       "      <td>The paragraph discusses financial provision ai...</td>\n",
       "    </tr>\n",
       "    <tr>\n",
       "      <th>5860</th>\n",
       "      <td>ewhc_fam_2005_402#para_66</td>\n",
       "      <td>id/ukpga/1973/18_section-29</td>\n",
       "      <td>openai</td>\n",
       "      <td>the target for saved excess income and surplus...</td>\n",
       "      <td>no financial provision order and no order for ...</td>\n",
       "      <td>The paragraph discusses financial provision ai...</td>\n",
       "    </tr>\n",
       "  </tbody>\n",
       "</table>\n",
       "</div>"
      ],
      "text/plain": [
       "                        para_id                   section_id     model  \\\n",
       "5859  ewhc_fam_2005_402#para_66  id/ukpga/1973/18_section-25  deepseek   \n",
       "5860  ewhc_fam_2005_402#para_66  id/ukpga/1973/18_section-29    openai   \n",
       "\n",
       "                                       case_law_excerpt  \\\n",
       "5859  Miss Theis further submitted that, on the info...   \n",
       "5860  the target for saved excess income and surplus...   \n",
       "\n",
       "                                    legislation_excerpt  \\\n",
       "5859  It shall be the duty of the court in deciding ...   \n",
       "5860  no financial provision order and no order for ...   \n",
       "\n",
       "                                              reasoning  \n",
       "5859  The paragraph discusses financial provision ai...  \n",
       "5860  The paragraph discusses financial provision ai...  "
      ]
     },
     "execution_count": 118,
     "metadata": {},
     "output_type": "execute_result"
    }
   ],
   "source": [
    "df_decision_with_reasoning_combined[df_decision_with_reasoning_combined['para_id'] == 'ewhc_fam_2005_402#para_66']"
   ]
  },
  {
   "cell_type": "code",
   "execution_count": 122,
   "id": "a0f4ef73",
   "metadata": {},
   "outputs": [],
   "source": [
    "sample = df_for_decision[(df_for_decision['para_id']=='ewhc_fam_2005_402#para_66') & (df_for_decision['section_id']=='id/ukpga/1973/18_section-29')]"
   ]
  },
  {
   "cell_type": "code",
   "execution_count": 136,
   "id": "8fbf02c7",
   "metadata": {},
   "outputs": [
    {
     "data": {
      "text/plain": [
       "\"The paragraph discusses financial provision aimed at providing for the wife's needs during the minority of the children, reflecting the provisions under section 29 that restrict financial orders once the child reaches eighteen years of age, thereby indicating the court's considerations of timing and duration of support.\""
      ]
     },
     "execution_count": 136,
     "metadata": {},
     "output_type": "execute_result"
    }
   ],
   "source": [
    "sample.reasoning.values[1]"
   ]
  },
  {
   "cell_type": "code",
   "execution_count": 138,
   "id": "f8d77a1b",
   "metadata": {},
   "outputs": [
    {
     "data": {
      "text/plain": [
       "'llama'"
      ]
     },
     "execution_count": 138,
     "metadata": {},
     "output_type": "execute_result"
    }
   ],
   "source": [
    "sample.model.values[2]"
   ]
  },
  {
   "cell_type": "code",
   "execution_count": 77,
   "id": "9531c4c3",
   "metadata": {},
   "outputs": [],
   "source": [
    "df_final_all = df_final.copy( )"
   ]
  },
  {
   "cell_type": "code",
   "execution_count": 78,
   "id": "732ce858",
   "metadata": {},
   "outputs": [],
   "source": [
    "df_final_all['para_id']=df_final_all.index"
   ]
  },
  {
   "cell_type": "code",
   "execution_count": 82,
   "id": "100a9bd1",
   "metadata": {},
   "outputs": [],
   "source": [
    "df_final_all = df_final_all.reset_index(drop=True)"
   ]
  },
  {
   "cell_type": "code",
   "execution_count": 88,
   "id": "44627667",
   "metadata": {},
   "outputs": [
    {
     "data": {
      "text/plain": [
       "Index(['section_id', 'category', 'case_law_excerpt_deepseek',\n",
       "       'legislation_excerpt_deepseek', 'confidence_deepseek',\n",
       "       'reasoning_deepseek', 'case_law_excerpt_llama',\n",
       "       'legislation_excerpt_llama', 'confidence_llama', 'reasoning_llama',\n",
       "       'case_law_excerpt_openai', 'legislation_excerpt_openai',\n",
       "       'confidence_openai', 'reasoning_openai', 'paragraphs', 'section_text',\n",
       "       'para_id'],\n",
       "      dtype='object')"
      ]
     },
     "execution_count": 88,
     "metadata": {},
     "output_type": "execute_result"
    }
   ],
   "source": [
    "df_final_all.columns"
   ]
  },
  {
   "cell_type": "code",
   "execution_count": null,
   "id": "ac5562c2",
   "metadata": {},
   "outputs": [
    {
     "data": {
      "text/html": [
       "<div>\n",
       "<style scoped>\n",
       "    .dataframe tbody tr th:only-of-type {\n",
       "        vertical-align: middle;\n",
       "    }\n",
       "\n",
       "    .dataframe tbody tr th {\n",
       "        vertical-align: top;\n",
       "    }\n",
       "\n",
       "    .dataframe thead th {\n",
       "        text-align: right;\n",
       "    }\n",
       "</style>\n",
       "<table border=\"1\" class=\"dataframe\">\n",
       "  <thead>\n",
       "    <tr style=\"text-align: right;\">\n",
       "      <th></th>\n",
       "      <th>section_id</th>\n",
       "      <th>category</th>\n",
       "      <th>case_law_excerpt_deepseek</th>\n",
       "      <th>legislation_excerpt_deepseek</th>\n",
       "      <th>confidence_deepseek</th>\n",
       "      <th>reasoning_deepseek</th>\n",
       "      <th>case_law_excerpt_llama</th>\n",
       "      <th>legislation_excerpt_llama</th>\n",
       "      <th>confidence_llama</th>\n",
       "      <th>reasoning_llama</th>\n",
       "      <th>case_law_excerpt_openai</th>\n",
       "      <th>legislation_excerpt_openai</th>\n",
       "      <th>confidence_openai</th>\n",
       "      <th>reasoning_openai</th>\n",
       "      <th>paragraphs</th>\n",
       "      <th>section_text</th>\n",
       "      <th>para_id</th>\n",
       "    </tr>\n",
       "  </thead>\n",
       "  <tbody>\n",
       "    <tr>\n",
       "      <th>7050</th>\n",
       "      <td>id/ukpga/1973/18_section-25</td>\n",
       "      <td>a_all_high</td>\n",
       "      <td>Miss Theis further submitted that, on the info...</td>\n",
       "      <td>It shall be the duty of the court in deciding ...</td>\n",
       "      <td>High</td>\n",
       "      <td>The case law discusses the application of stat...</td>\n",
       "      <td>the target for saved excess income and surplus...</td>\n",
       "      <td>first consideration being given to the welfare...</td>\n",
       "      <td>High</td>\n",
       "      <td>The court considers the welfare of the child a...</td>\n",
       "      <td>NaN</td>\n",
       "      <td>NaN</td>\n",
       "      <td>NaN</td>\n",
       "      <td>NaN</td>\n",
       "      <td>66. Miss Theis further submitted that, on the ...</td>\n",
       "      <td>25 Matters to which court is to have regard in...</td>\n",
       "      <td>ewhc_fam_2005_402#para_66</td>\n",
       "    </tr>\n",
       "    <tr>\n",
       "      <th>14286</th>\n",
       "      <td>id/ukpga/1973/18_section-29</td>\n",
       "      <td>a_all_high</td>\n",
       "      <td>NaN</td>\n",
       "      <td>NaN</td>\n",
       "      <td>NaN</td>\n",
       "      <td>NaN</td>\n",
       "      <td>NaN</td>\n",
       "      <td>NaN</td>\n",
       "      <td>NaN</td>\n",
       "      <td>NaN</td>\n",
       "      <td>the target for saved excess income and surplus...</td>\n",
       "      <td>no financial provision order and no order for ...</td>\n",
       "      <td>High</td>\n",
       "      <td>The paragraph discusses financial provision ai...</td>\n",
       "      <td>66. Miss Theis further submitted that, on the ...</td>\n",
       "      <td>29 Duration of continuing financial provision ...</td>\n",
       "      <td>ewhc_fam_2005_402#para_66</td>\n",
       "    </tr>\n",
       "  </tbody>\n",
       "</table>\n",
       "</div>"
      ],
      "text/plain": [
       "                        section_id    category  \\\n",
       "7050   id/ukpga/1973/18_section-25  a_all_high   \n",
       "14286  id/ukpga/1973/18_section-29  a_all_high   \n",
       "\n",
       "                               case_law_excerpt_deepseek  \\\n",
       "7050   Miss Theis further submitted that, on the info...   \n",
       "14286                                                NaN   \n",
       "\n",
       "                            legislation_excerpt_deepseek confidence_deepseek  \\\n",
       "7050   It shall be the duty of the court in deciding ...                High   \n",
       "14286                                                NaN                 NaN   \n",
       "\n",
       "                                      reasoning_deepseek  \\\n",
       "7050   The case law discusses the application of stat...   \n",
       "14286                                                NaN   \n",
       "\n",
       "                                  case_law_excerpt_llama  \\\n",
       "7050   the target for saved excess income and surplus...   \n",
       "14286                                                NaN   \n",
       "\n",
       "                               legislation_excerpt_llama confidence_llama  \\\n",
       "7050   first consideration being given to the welfare...             High   \n",
       "14286                                                NaN              NaN   \n",
       "\n",
       "                                         reasoning_llama  \\\n",
       "7050   The court considers the welfare of the child a...   \n",
       "14286                                                NaN   \n",
       "\n",
       "                                 case_law_excerpt_openai  \\\n",
       "7050                                                 NaN   \n",
       "14286  the target for saved excess income and surplus...   \n",
       "\n",
       "                              legislation_excerpt_openai confidence_openai  \\\n",
       "7050                                                 NaN               NaN   \n",
       "14286  no financial provision order and no order for ...              High   \n",
       "\n",
       "                                        reasoning_openai  \\\n",
       "7050                                                 NaN   \n",
       "14286  The paragraph discusses financial provision ai...   \n",
       "\n",
       "                                              paragraphs  \\\n",
       "7050   66. Miss Theis further submitted that, on the ...   \n",
       "14286  66. Miss Theis further submitted that, on the ...   \n",
       "\n",
       "                                            section_text  \\\n",
       "7050   25 Matters to which court is to have regard in...   \n",
       "14286  29 Duration of continuing financial provision ...   \n",
       "\n",
       "                         para_id  \n",
       "7050   ewhc_fam_2005_402#para_66  \n",
       "14286  ewhc_fam_2005_402#para_66  "
      ]
     },
     "execution_count": 108,
     "metadata": {},
     "output_type": "execute_result"
    }
   ],
   "source": [
    "df_final_all[df_final_all.para_id=='ewhc_fam_2005_402#para_66']"
   ]
  },
  {
   "cell_type": "code",
   "execution_count": 116,
   "id": "f560c3a2",
   "metadata": {},
   "outputs": [
    {
     "data": {
      "text/plain": [
       "'The case law discusses the application of statutory criteria in determining financial arrangements for the wife, specifically considering the welfare of the children until they reach majority. This directly relates to the legislative requirement for the court to prioritize the welfare of minors when exercising its powers.'"
      ]
     },
     "execution_count": 116,
     "metadata": {},
     "output_type": "execute_result"
    }
   ],
   "source": [
    "df_final_all[df_final_all.para_id=='ewhc_fam_2005_402#para_66']['reasoning_deepseek'].values[0]"
   ]
  },
  {
   "cell_type": "code",
   "execution_count": 104,
   "id": "8db1008b",
   "metadata": {},
   "outputs": [
    {
     "data": {
      "text/html": [
       "<div>\n",
       "<style scoped>\n",
       "    .dataframe tbody tr th:only-of-type {\n",
       "        vertical-align: middle;\n",
       "    }\n",
       "\n",
       "    .dataframe tbody tr th {\n",
       "        vertical-align: top;\n",
       "    }\n",
       "\n",
       "    .dataframe thead th {\n",
       "        text-align: right;\n",
       "    }\n",
       "</style>\n",
       "<table border=\"1\" class=\"dataframe\">\n",
       "  <thead>\n",
       "    <tr style=\"text-align: right;\">\n",
       "      <th></th>\n",
       "      <th>section_id</th>\n",
       "      <th>category</th>\n",
       "      <th>case_law_excerpt_deepseek</th>\n",
       "      <th>legislation_excerpt_deepseek</th>\n",
       "      <th>confidence_deepseek</th>\n",
       "      <th>reasoning_deepseek</th>\n",
       "      <th>case_law_excerpt_llama</th>\n",
       "      <th>legislation_excerpt_llama</th>\n",
       "      <th>confidence_llama</th>\n",
       "      <th>reasoning_llama</th>\n",
       "      <th>case_law_excerpt_openai</th>\n",
       "      <th>legislation_excerpt_openai</th>\n",
       "      <th>confidence_openai</th>\n",
       "      <th>reasoning_openai</th>\n",
       "      <th>paragraphs</th>\n",
       "      <th>section_text</th>\n",
       "      <th>para_id</th>\n",
       "    </tr>\n",
       "  </thead>\n",
       "  <tbody>\n",
       "    <tr>\n",
       "      <th>1339</th>\n",
       "      <td>id/ukpga/2002/29_section-20</td>\n",
       "      <td>b_2high_1low</td>\n",
       "      <td>We refused permission to adduce this evidence....</td>\n",
       "      <td>If this section applies the court— (a) must ma...</td>\n",
       "      <td>High</td>\n",
       "      <td>The case law excerpt discusses the refusal to ...</td>\n",
       "      <td>NaN</td>\n",
       "      <td>NaN</td>\n",
       "      <td>NaN</td>\n",
       "      <td>NaN</td>\n",
       "      <td>NaN</td>\n",
       "      <td>NaN</td>\n",
       "      <td>NaN</td>\n",
       "      <td>NaN</td>\n",
       "      <td>13. We refused permission to adduce this evide...</td>\n",
       "      <td>20 No order made: reconsideration of benefit (...</td>\n",
       "      <td>ewca_civ_2018_162#para_13</td>\n",
       "    </tr>\n",
       "    <tr>\n",
       "      <th>9509</th>\n",
       "      <td>id/ukpga/2002/29_section-170</td>\n",
       "      <td>b_2high_1low</td>\n",
       "      <td>NaN</td>\n",
       "      <td>NaN</td>\n",
       "      <td>NaN</td>\n",
       "      <td>NaN</td>\n",
       "      <td>the benefits that the Appellant obtained throu...</td>\n",
       "      <td>evidence which was not available to the prosec...</td>\n",
       "      <td>Low</td>\n",
       "      <td>The court's decision to refuse permission to a...</td>\n",
       "      <td>The benefits that the Appellant obtained throu...</td>\n",
       "      <td>the defendant has a criminal lifestyle but has...</td>\n",
       "      <td>High</td>\n",
       "      <td>The case law reflects upon the irrelevance of ...</td>\n",
       "      <td>13. We refused permission to adduce this evide...</td>\n",
       "      <td>170 No order made: reconsideration of benefit ...</td>\n",
       "      <td>ewca_civ_2018_162#para_13</td>\n",
       "    </tr>\n",
       "  </tbody>\n",
       "</table>\n",
       "</div>"
      ],
      "text/plain": [
       "                        section_id      category  \\\n",
       "1339   id/ukpga/2002/29_section-20  b_2high_1low   \n",
       "9509  id/ukpga/2002/29_section-170  b_2high_1low   \n",
       "\n",
       "                              case_law_excerpt_deepseek  \\\n",
       "1339  We refused permission to adduce this evidence....   \n",
       "9509                                                NaN   \n",
       "\n",
       "                           legislation_excerpt_deepseek confidence_deepseek  \\\n",
       "1339  If this section applies the court— (a) must ma...                High   \n",
       "9509                                                NaN                 NaN   \n",
       "\n",
       "                                     reasoning_deepseek  \\\n",
       "1339  The case law excerpt discusses the refusal to ...   \n",
       "9509                                                NaN   \n",
       "\n",
       "                                 case_law_excerpt_llama  \\\n",
       "1339                                                NaN   \n",
       "9509  the benefits that the Appellant obtained throu...   \n",
       "\n",
       "                              legislation_excerpt_llama confidence_llama  \\\n",
       "1339                                                NaN              NaN   \n",
       "9509  evidence which was not available to the prosec...              Low   \n",
       "\n",
       "                                        reasoning_llama  \\\n",
       "1339                                                NaN   \n",
       "9509  The court's decision to refuse permission to a...   \n",
       "\n",
       "                                case_law_excerpt_openai  \\\n",
       "1339                                                NaN   \n",
       "9509  The benefits that the Appellant obtained throu...   \n",
       "\n",
       "                             legislation_excerpt_openai confidence_openai  \\\n",
       "1339                                                NaN               NaN   \n",
       "9509  the defendant has a criminal lifestyle but has...              High   \n",
       "\n",
       "                                       reasoning_openai  \\\n",
       "1339                                                NaN   \n",
       "9509  The case law reflects upon the irrelevance of ...   \n",
       "\n",
       "                                             paragraphs  \\\n",
       "1339  13. We refused permission to adduce this evide...   \n",
       "9509  13. We refused permission to adduce this evide...   \n",
       "\n",
       "                                           section_text  \\\n",
       "1339  20 No order made: reconsideration of benefit (...   \n",
       "9509  170 No order made: reconsideration of benefit ...   \n",
       "\n",
       "                        para_id  \n",
       "1339  ewca_civ_2018_162#para_13  \n",
       "9509  ewca_civ_2018_162#para_13  "
      ]
     },
     "execution_count": 104,
     "metadata": {},
     "output_type": "execute_result"
    }
   ],
   "source": [
    "df_final_all[df_final_all.para_id=='ewca_civ_2018_162#para_13']"
   ]
  },
  {
   "cell_type": "code",
   "execution_count": 165,
   "id": "ec6bc62f",
   "metadata": {},
   "outputs": [],
   "source": [
    "claude_regenrated = pd.read_csv('../data/final_test/final/reexperiment/fewhot/11August/df_source_all_low_for_claude_output.csv')\n"
   ]
  },
  {
   "cell_type": "code",
   "execution_count": 166,
   "id": "37fb84c6",
   "metadata": {},
   "outputs": [],
   "source": [
    "claude_regenrated['model']='claude'"
   ]
  },
  {
   "cell_type": "code",
   "execution_count": 167,
   "id": "df972163",
   "metadata": {},
   "outputs": [],
   "source": [
    "claude_regenrated_high = claude_regenrated[claude_regenrated['confidence'] == 'High']\n"
   ]
  },
  {
   "cell_type": "code",
   "execution_count": 169,
   "id": "764b2195",
   "metadata": {},
   "outputs": [],
   "source": [
    "claude_regenrated_high = claude_regenrated_high.drop_duplicates(subset=['para_id', 'section_id'])\n"
   ]
  },
  {
   "cell_type": "code",
   "execution_count": 171,
   "id": "58a38127",
   "metadata": {},
   "outputs": [],
   "source": [
    "claude_regenrated_high = claude_regenrated_high[['para_id', 'section_id', 'model','case_law_excerpt','legislation_excerpt', 'reasoning']]"
   ]
  },
  {
   "cell_type": "code",
   "execution_count": 176,
   "id": "a5578795",
   "metadata": {},
   "outputs": [
    {
     "name": "stderr",
     "output_type": "stream",
     "text": [
      "/var/folders/_6/nv4mjz1j03qg3185mdyhd5h40000gn/T/ipykernel_77666/3700089377.py:1: SettingWithCopyWarning: \n",
      "A value is trying to be set on a copy of a slice from a DataFrame.\n",
      "Try using .loc[row_indexer,col_indexer] = value instead\n",
      "\n",
      "See the caveats in the documentation: https://pandas.pydata.org/pandas-docs/stable/user_guide/indexing.html#returning-a-view-versus-a-copy\n",
      "  df_accepted['route'] ='accepted_by_one_model'\n"
     ]
    }
   ],
   "source": [
    "df_accepted['route'] ='accepted_by_one_model'"
   ]
  },
  {
   "cell_type": "code",
   "execution_count": 177,
   "id": "06b64886",
   "metadata": {},
   "outputs": [
    {
     "name": "stderr",
     "output_type": "stream",
     "text": [
      "/var/folders/_6/nv4mjz1j03qg3185mdyhd5h40000gn/T/ipykernel_77666/2349365837.py:1: SettingWithCopyWarning: \n",
      "A value is trying to be set on a copy of a slice from a DataFrame.\n",
      "Try using .loc[row_indexer,col_indexer] = value instead\n",
      "\n",
      "See the caveats in the documentation: https://pandas.pydata.org/pandas-docs/stable/user_guide/indexing.html#returning-a-view-versus-a-copy\n",
      "  df_decision_with_reasoning_combined['route']='decided_by_claude'\n"
     ]
    }
   ],
   "source": [
    "df_decision_with_reasoning_combined['route']='decided_by_claude'"
   ]
  },
  {
   "cell_type": "code",
   "execution_count": 178,
   "id": "d355be12",
   "metadata": {},
   "outputs": [],
   "source": [
    "claude_regenrated_high['route']='regenrated_by_claude'"
   ]
  },
  {
   "cell_type": "code",
   "execution_count": 179,
   "id": "db6f2027",
   "metadata": {},
   "outputs": [],
   "source": [
    "df_extracted_final = pd.concat([df_accepted,df_decision_with_reasoning_combined,claude_regenrated_high])"
   ]
  },
  {
   "cell_type": "code",
   "execution_count": 180,
   "id": "ab065943",
   "metadata": {},
   "outputs": [
    {
     "data": {
      "text/html": [
       "<div>\n",
       "<style scoped>\n",
       "    .dataframe tbody tr th:only-of-type {\n",
       "        vertical-align: middle;\n",
       "    }\n",
       "\n",
       "    .dataframe tbody tr th {\n",
       "        vertical-align: top;\n",
       "    }\n",
       "\n",
       "    .dataframe thead th {\n",
       "        text-align: right;\n",
       "    }\n",
       "</style>\n",
       "<table border=\"1\" class=\"dataframe\">\n",
       "  <thead>\n",
       "    <tr style=\"text-align: right;\">\n",
       "      <th></th>\n",
       "      <th>para_id</th>\n",
       "      <th>section_id</th>\n",
       "    </tr>\n",
       "  </thead>\n",
       "  <tbody>\n",
       "    <tr>\n",
       "      <th>0</th>\n",
       "      <td>ewhc_comm_2017_1430#para_13</td>\n",
       "      <td>id/ukpga/1996/23_section-56</td>\n",
       "    </tr>\n",
       "    <tr>\n",
       "      <th>1</th>\n",
       "      <td>ewca_crim_2023_630#para_5</td>\n",
       "      <td>id/ukpga/1988/33_schedule-10-part-IV</td>\n",
       "    </tr>\n",
       "    <tr>\n",
       "      <th>2</th>\n",
       "      <td>ewhc_admin_2019_84#para_24</td>\n",
       "      <td>id/ukpga/2014/12_section-13</td>\n",
       "    </tr>\n",
       "    <tr>\n",
       "      <th>3</th>\n",
       "      <td>ewhc_admin_2006_3048#para_10</td>\n",
       "      <td>id/ukpga/1999/33_section-116</td>\n",
       "    </tr>\n",
       "    <tr>\n",
       "      <th>4</th>\n",
       "      <td>ewhc_admin_2015_3084#para_34</td>\n",
       "      <td>id/ukpga/2004/5_section-49</td>\n",
       "    </tr>\n",
       "    <tr>\n",
       "      <th>...</th>\n",
       "      <td>...</td>\n",
       "      <td>...</td>\n",
       "    </tr>\n",
       "    <tr>\n",
       "      <th>1829</th>\n",
       "      <td>ewhc_admin_2009_3412#para_1</td>\n",
       "      <td>http://www.legislation.gov.uk/id/ukpga/1983/20...</td>\n",
       "    </tr>\n",
       "    <tr>\n",
       "      <th>1857</th>\n",
       "      <td>ewca_civ_2015_515#para_119</td>\n",
       "      <td>id/ukpga/2004/12_section-320</td>\n",
       "    </tr>\n",
       "    <tr>\n",
       "      <th>1873</th>\n",
       "      <td>ewhc_admin_2005_2363#para_20</td>\n",
       "      <td>http://www.legislation.gov.uk/id/ukpga/1980/66...</td>\n",
       "    </tr>\n",
       "    <tr>\n",
       "      <th>2032</th>\n",
       "      <td>ewhc_ch_2018_2169#para_89</td>\n",
       "      <td>http://www.legislation.gov.uk/id/ukpga/1986/45...</td>\n",
       "    </tr>\n",
       "    <tr>\n",
       "      <th>2090</th>\n",
       "      <td>ewhc_ch_2018_2169#para_97</td>\n",
       "      <td>http://www.legislation.gov.uk/id/ukpga/1986/45...</td>\n",
       "    </tr>\n",
       "  </tbody>\n",
       "</table>\n",
       "<p>14703 rows × 2 columns</p>\n",
       "</div>"
      ],
      "text/plain": [
       "                           para_id  \\\n",
       "0      ewhc_comm_2017_1430#para_13   \n",
       "1        ewca_crim_2023_630#para_5   \n",
       "2       ewhc_admin_2019_84#para_24   \n",
       "3     ewhc_admin_2006_3048#para_10   \n",
       "4     ewhc_admin_2015_3084#para_34   \n",
       "...                            ...   \n",
       "1829   ewhc_admin_2009_3412#para_1   \n",
       "1857    ewca_civ_2015_515#para_119   \n",
       "1873  ewhc_admin_2005_2363#para_20   \n",
       "2032     ewhc_ch_2018_2169#para_89   \n",
       "2090     ewhc_ch_2018_2169#para_97   \n",
       "\n",
       "                                             section_id  \n",
       "0                           id/ukpga/1996/23_section-56  \n",
       "1                  id/ukpga/1988/33_schedule-10-part-IV  \n",
       "2                           id/ukpga/2014/12_section-13  \n",
       "3                          id/ukpga/1999/33_section-116  \n",
       "4                            id/ukpga/2004/5_section-49  \n",
       "...                                                 ...  \n",
       "1829  http://www.legislation.gov.uk/id/ukpga/1983/20...  \n",
       "1857                       id/ukpga/2004/12_section-320  \n",
       "1873  http://www.legislation.gov.uk/id/ukpga/1980/66...  \n",
       "2032  http://www.legislation.gov.uk/id/ukpga/1986/45...  \n",
       "2090  http://www.legislation.gov.uk/id/ukpga/1986/45...  \n",
       "\n",
       "[14703 rows x 2 columns]"
      ]
     },
     "execution_count": 180,
     "metadata": {},
     "output_type": "execute_result"
    }
   ],
   "source": [
    "df_extracted_final[['para_id','section_id']].drop_duplicates()"
   ]
  },
  {
   "cell_type": "code",
   "execution_count": 181,
   "id": "2d24c28c",
   "metadata": {},
   "outputs": [],
   "source": [
    "df_extracted_final.to_csv('../data/extraction_results/df_extracted_final.csv', index=False)"
   ]
  }
 ],
 "metadata": {
  "kernelspec": {
   "display_name": ".venv",
   "language": "python",
   "name": "python3"
  },
  "language_info": {
   "codemirror_mode": {
    "name": "ipython",
    "version": 3
   },
   "file_extension": ".py",
   "mimetype": "text/x-python",
   "name": "python",
   "nbconvert_exporter": "python",
   "pygments_lexer": "ipython3",
   "version": "3.13.5"
  }
 },
 "nbformat": 4,
 "nbformat_minor": 5
}
